{
 "cells": [
  {
   "cell_type": "markdown",
   "metadata": {
    "deletable": false,
    "editable": false,
    "nbgrader": {
     "cell_type": "markdown",
     "checksum": "0dbcbe7e33a09939f1b8158c1c4767d6",
     "grade": false,
     "grade_id": "cell-3c98ddabe9e64f07",
     "locked": true,
     "schema_version": 3,
     "solution": false,
     "task": false
    }
   },
   "source": [
    "<div class=\"alert alert-block alert-info\">\n",
    "<b>Deadline:</b> May 11, 2022 (Wednesday) 23:00\n",
    "</div>\n",
    "\n",
    "# Exercise 1. Autoregressive generative models. PixelCNN\n",
    "\n",
    "The goal of this exercise is to get familiar with autoregressive generative models using the PixelCNN model as an example.\n",
    "\n",
    "The model is decribed in Section 3.5 of [this paper](https://arxiv.org/pdf/1601.06759.pdf).\n",
    "\n",
    "**This exercise requires a significant amount of computing power, you need to use a GPU.**"
   ]
  },
  {
   "cell_type": "code",
   "execution_count": null,
   "metadata": {},
   "outputs": [],
   "source": [
    "skip_training = False  # Set this flag to True before validation and submission"
   ]
  },
  {
   "cell_type": "code",
   "execution_count": null,
   "metadata": {
    "deletable": false,
    "editable": false,
    "nbgrader": {
     "cell_type": "code",
     "checksum": "dc0197afbbd904c2b006f24732e6e8a3",
     "grade": true,
     "grade_id": "cell-a54f4cac48b8daec",
     "locked": true,
     "points": 0,
     "schema_version": 3,
     "solution": false,
     "task": false
    }
   },
   "outputs": [],
   "source": [
    "# During evaluation, this cell sets skip_training to True\n",
    "# skip_training = True"
   ]
  },
  {
   "cell_type": "code",
   "execution_count": null,
   "metadata": {},
   "outputs": [],
   "source": [
    "import time\n",
    "\n",
    "import numpy as np\n",
    "import matplotlib.pyplot as plt\n",
    "\n",
    "import torch\n",
    "import torchvision\n",
    "import torchvision.transforms as transforms\n",
    "import torch.nn as nn\n",
    "import torch.nn.functional as F\n",
    "import torch.optim as optim\n",
    "\n",
    "import tools\n",
    "import tests"
   ]
  },
  {
   "cell_type": "code",
   "execution_count": null,
   "metadata": {},
   "outputs": [],
   "source": [
    "# When running on your own computer, you can specify the data directory by:\n",
    "# data_dir = tools.select_data_dir('/your/local/data/directory')\n",
    "data_dir = tools.select_data_dir()"
   ]
  },
  {
   "cell_type": "code",
   "execution_count": null,
   "metadata": {},
   "outputs": [],
   "source": [
    "# Select the device for training (use GPU if you have one)\n",
    "device = torch.device('cpu')\n",
    "#device = torch.device('cuda:0')"
   ]
  },
  {
   "cell_type": "code",
   "execution_count": null,
   "metadata": {
    "deletable": false,
    "editable": false,
    "nbgrader": {
     "cell_type": "code",
     "checksum": "b79b793e3771be4f29f1e582f8d5dfc6",
     "grade": false,
     "grade_id": "cell-6eeffe49baead231",
     "locked": true,
     "schema_version": 3,
     "solution": false,
     "task": false
    }
   },
   "outputs": [],
   "source": [
    "if skip_training:\n",
    "    # The models are always evaluated on CPU\n",
    "    device = torch.device('cpu')"
   ]
  },
  {
   "cell_type": "markdown",
   "metadata": {
    "deletable": false,
    "editable": false,
    "nbgrader": {
     "cell_type": "markdown",
     "checksum": "767ca562df4a44a61a6bd37995d6c9c2",
     "grade": false,
     "grade_id": "cell-94c5742c02305758",
     "locked": true,
     "schema_version": 3,
     "solution": false,
     "task": false
    }
   },
   "source": [
    "# Data\n",
    "\n",
    "In this exercise, we use standard MNIST data."
   ]
  },
  {
   "cell_type": "code",
   "execution_count": null,
   "metadata": {
    "deletable": false,
    "editable": false,
    "nbgrader": {
     "cell_type": "code",
     "checksum": "c68960f7f54eb8281e78b61a10c0e5d3",
     "grade": false,
     "grade_id": "cell-532a4922e89ce5f2",
     "locked": true,
     "schema_version": 3,
     "solution": false,
     "task": false
    }
   },
   "outputs": [],
   "source": [
    "transform = transforms.Compose([\n",
    "    transforms.ToTensor(),\n",
    "])\n",
    "\n",
    "trainset = torchvision.datasets.MNIST(root=data_dir, train=True, download=True, transform=transform)\n",
    "trainloader = torch.utils.data.DataLoader(trainset, batch_size=32, shuffle=True)"
   ]
  },
  {
   "cell_type": "code",
   "execution_count": null,
   "metadata": {
    "deletable": false,
    "editable": false,
    "nbgrader": {
     "cell_type": "code",
     "checksum": "8e4a44a191d17e9ab58c63a010205cff",
     "grade": false,
     "grade_id": "cell-8435e1b2ac1ef0fc",
     "locked": true,
     "schema_version": 3,
     "solution": false,
     "task": false
    }
   },
   "outputs": [],
   "source": [
    "images, labels = iter(trainloader).next()\n",
    "tools.plot_images(images[:8], ncol=4, cmap=plt.cm.Greys, clim=[0,1])"
   ]
  },
  {
   "cell_type": "markdown",
   "metadata": {
    "deletable": false,
    "editable": false,
    "nbgrader": {
     "cell_type": "markdown",
     "checksum": "b921f2a3c2e972336d40fba073a5a6c7",
     "grade": false,
     "grade_id": "cell-a4de8a0f0588b4df",
     "locked": true,
     "schema_version": 3,
     "solution": false,
     "task": false
    }
   },
   "source": [
    "\n",
    "# PixelCNN\n",
    "\n",
    "<img src=\"pixelcnn_context.png\" width=200 style=\"float: right; padding:20px;\">\n",
    "\n",
    "PixelCNN is an autoregressive model for the distribution of images.\n",
    "The joint probability $p(x)$ of an $n \\times n$ image $x$ is written as a product\n",
    "of the conditional distributions over the pixels:\n",
    "$$\n",
    "  p(x) = \\prod_{i=1}^{n^2} p(x_i|x_1,...,x_{i-1})\n",
    "$$\n",
    "The order of the pixels in the model is chosen arbitrarily. It is convenient to choose the first pixel $x_1$ to be in the top left corner and the last pixel $x_{n^2}$ in the bottom right corner (see the figure).\n",
    "\n",
    "We model the conditional distribution $p(x_i|x_1,...,x_{i-1})$ using a deep convolutional neural network. This network is designed in the following way:\n",
    "- The input and the output images have the same size.\n",
    "- The value of pixel $i$ in the output image is only affected by pixels of the input image that precede $i$ (as shown on the figure). This can be achieved by a network which is a stack of masked convolutional layers.\n",
    "\n",
    "# Masked convolutional layer\n",
    "\n",
    "- A masked convolutional layer is a standard convolutional layer whose kernel has zero values below and to the right of the central location. The remaining values of the kernel are the parameters of the layer which are trained in a standard way.\n",
    "\n",
    "- A simple way to implement the masked convolutional layer is to use a standard `nn.Conv2d` module and multiply its kernel by a binary mask in the `forward()` function.\n",
    "\n",
    "- The layer can have two kinds of binary masks:\n",
    "  1. with zero in the center (`blind_center=True`):\n",
    "<img src=\"masked_conv.png\" width=150>\n",
    "  2. with one in the center (`blind_center=False`):\n",
    "<img src=\"masked_conv_2.png\" width=150>\n",
    "\n",
    "  We will use the first type of mask in the first layer of our PixelCNN model and the second type of mask in the remaining layers. This kind of masking ensures that the output pixels are not affected by subsequent pixels of the input image.\n",
    "\n",
    "- You can create the binary mask using function [`register_buffer`](https://pytorch.org/docs/stable/nn.html#torch.nn.Module.register_buffer). This way the mask will be automatically transferred to the given device when calling `model.to(device)`.\n",
    "\n",
    "- The convolutional layer should **not** have a bias term because the biases are not affected by the mask.\n",
    "\n",
    "You need to implement the masked convolutional layer in the cell below."
   ]
  },
  {
   "cell_type": "code",
   "execution_count": null,
   "metadata": {
    "deletable": false,
    "nbgrader": {
     "cell_type": "code",
     "checksum": "752c45eec92ba10691fec890f3e760e5",
     "grade": false,
     "grade_id": "MaskedConv2d",
     "locked": false,
     "schema_version": 3,
     "solution": true,
     "task": false
    }
   },
   "outputs": [],
   "source": [
    "class MaskedConv2d(nn.Module):\n",
    "    def __init__(self, in_channels, out_channels, kernel_size, blind_center=False):\n",
    "        \"\"\"\n",
    "        Args:\n",
    "          in_channels (int): Number of input channels.\n",
    "          out_channels (int): Number of output channels.\n",
    "          kernel_size (int): Kernel size similar to nn.Conv2d layer.\n",
    "          blind_center (bool): If True, the kernel has zero in the center.\n",
    "        \"\"\"\n",
    "        # YOUR CODE HERE\n",
    "        raise NotImplementedError()\n",
    "\n",
    "    def forward(self, x):\n",
    "        \"\"\"\n",
    "        Args:\n",
    "          x of shape (batch_size, in_channels, height, width): Input images.\n",
    "        \n",
    "        Returns:\n",
    "          y of shape (batch_size, out_channels, height, width): Output images.\n",
    "        \"\"\"\n",
    "        # YOUR CODE HERE\n",
    "        raise NotImplementedError()"
   ]
  },
  {
   "cell_type": "code",
   "execution_count": null,
   "metadata": {
    "deletable": false,
    "editable": false,
    "nbgrader": {
     "cell_type": "code",
     "checksum": "570f9929f347d3f834a47eac06bc8ef6",
     "grade": false,
     "grade_id": "cell-2eb3ff8f45ffe184",
     "locked": true,
     "schema_version": 3,
     "solution": false,
     "task": false
    }
   },
   "outputs": [],
   "source": [
    "def test_MaskedConv2d_shapes():\n",
    "    layer = MaskedConv2d(in_channels=1, out_channels=2, kernel_size=5, blind_center=False)\n",
    "    x = torch.ones(1, 1, 28, 28)\n",
    "    y = layer(x)\n",
    "    assert y.shape == torch.Size([1, 2, 28, 28]), f\"Bad y.shape: {y.shape}\"\n",
    "\n",
    "test_MaskedConv2d_shapes()"
   ]
  },
  {
   "cell_type": "code",
   "execution_count": null,
   "metadata": {
    "deletable": false,
    "editable": false,
    "nbgrader": {
     "cell_type": "code",
     "checksum": "37f815d5923ffee34283324007150351",
     "grade": true,
     "grade_id": "test_MaskedConv2d",
     "locked": true,
     "points": 1,
     "schema_version": 3,
     "solution": false,
     "task": false
    }
   },
   "outputs": [],
   "source": [
    "# This cell tests MaskedConv2d"
   ]
  },
  {
   "cell_type": "code",
   "execution_count": null,
   "metadata": {
    "deletable": false,
    "editable": false,
    "nbgrader": {
     "cell_type": "code",
     "checksum": "914ac647df1862e066f62a23af79795b",
     "grade": false,
     "grade_id": "cell-2583df316cfae7fb",
     "locked": true,
     "schema_version": 3,
     "solution": false,
     "task": false
    }
   },
   "outputs": [],
   "source": [
    "# Inspect the receptive field of one neuron in the masked convolutional layer\n",
    "layer = MaskedConv2d(in_channels=1, out_channels=2, kernel_size=5, blind_center=False)\n",
    "\n",
    "# Receptive field for output pixel at location (5, 5), input-output images of size (10x10)\n",
    "i, j = 5, 5\n",
    "rfield = tests.get_binary_receptive_field(layer, image_size=(10, 10), i=i, j=j)\n",
    "plt.matshow(rfield, cmap=plt.cm.Purples, clim=[0, 1])"
   ]
  },
  {
   "cell_type": "markdown",
   "metadata": {
    "deletable": false,
    "editable": false,
    "nbgrader": {
     "cell_type": "markdown",
     "checksum": "7fdfd2fc68f88fa5f0b4f43411d80664",
     "grade": false,
     "grade_id": "cell-40178f9437508411",
     "locked": true,
     "schema_version": 3,
     "solution": false,
     "task": false
    }
   },
   "source": [
    "### Visualize receptive field of many layers stacked on top of each other\n",
    "\n",
    "Let us stack a few `MaskedConv2d` layers on top of each other and visualize the receptive field for one of the output pixels."
   ]
  },
  {
   "cell_type": "code",
   "execution_count": null,
   "metadata": {
    "deletable": false,
    "editable": false,
    "nbgrader": {
     "cell_type": "code",
     "checksum": "9622d48280c4eecc9929bba8d82e1998",
     "grade": false,
     "grade_id": "cell-fbee53fdbb291d10",
     "locked": true,
     "schema_version": 3,
     "solution": false,
     "task": false
    }
   },
   "outputs": [],
   "source": [
    "# Stack multiple layers\n",
    "net = nn.Sequential(\n",
    "    MaskedConv2d(in_channels=1, out_channels=2, kernel_size=5, blind_center=True),\n",
    "    MaskedConv2d(in_channels=2, out_channels=2, kernel_size=5, blind_center=False),\n",
    "    MaskedConv2d(in_channels=2, out_channels=2, kernel_size=5, blind_center=False),\n",
    "    MaskedConv2d(in_channels=2, out_channels=2, kernel_size=5, blind_center=False),\n",
    "    MaskedConv2d(in_channels=2, out_channels=2, kernel_size=5, blind_center=False),\n",
    "    MaskedConv2d(in_channels=2, out_channels=2, kernel_size=5, blind_center=False),\n",
    "    MaskedConv2d(in_channels=2, out_channels=2, kernel_size=5, blind_center=False),\n",
    "    MaskedConv2d(in_channels=2, out_channels=2, kernel_size=5, blind_center=False),\n",
    "    nn.Conv2d(2, 256, 1)\n",
    ")"
   ]
  },
  {
   "cell_type": "code",
   "execution_count": null,
   "metadata": {
    "deletable": false,
    "editable": false,
    "nbgrader": {
     "cell_type": "code",
     "checksum": "11534c278eec6dfe4e9c8691af046d74",
     "grade": false,
     "grade_id": "cell-45fef25923d78708",
     "locked": true,
     "schema_version": 3,
     "solution": false,
     "task": false
    }
   },
   "outputs": [],
   "source": [
    "# Visualize receptive field\n",
    "rfield = tests.get_binary_receptive_field(net, image_size=(28, 28), i=13, j=13)\n",
    "plt.matshow(rfield, cmap=plt.cm.Purples, clim=[0, 1])"
   ]
  },
  {
   "cell_type": "markdown",
   "metadata": {
    "deletable": false,
    "editable": false,
    "nbgrader": {
     "cell_type": "markdown",
     "checksum": "6ea025b469ca48254629548e6bdac83a",
     "grade": false,
     "grade_id": "cell-2bbec1a7968dfa54",
     "locked": true,
     "schema_version": 3,
     "solution": false,
     "task": false
    }
   },
   "source": [
    "If your implementation of the masked convolutional layer is correct, you should see the blind spot problem: Some of the preceding pixels do not affect the value of the pixel at (13, 13). We will not try to address the blind-spot problem in this notebook."
   ]
  },
  {
   "cell_type": "markdown",
   "metadata": {
    "deletable": false,
    "editable": false,
    "nbgrader": {
     "cell_type": "markdown",
     "checksum": "4e29f7b1b038e6605a2c4df672276d71",
     "grade": false,
     "grade_id": "cell-2f7bb5fcd7aaf3ef",
     "locked": true,
     "schema_version": 3,
     "solution": false,
     "task": false
    }
   },
   "source": [
    "# PixelCNN model\n",
    "\n",
    "Next you need to implement the PixelCNN model which is simply a stack of `MaskedConv2d` layers.\n",
    "\n",
    "You need to specify the following architecture:\n",
    "* Masked convolutional layer with 1 input channel, `n_channels` output channels, given `kernel_size=7`, `blind_center=True`\n",
    "* 2d batch normalization followed by ReLU nonlinearity\n",
    "* 7 blocks with:\n",
    "    * Masked convolutional layer with `n_channels` input channels, `n_channels` output channels, given `kernel_size=7`, `blind_center=False`\n",
    "    * 2d batch normalization followed by ReLU nonlinearity\n",
    "* $1 \\times 1$ convolution (a 2d convolutional layer with kernel size 1) with `n_channels` input channels and 256 output channels.\n",
    "* **Do not use the softmax nonlinearity in the forward function. Our tests assume that the loss function is [`nn.CrossEntropyLoss`](https://pytorch.org/docs/stable/nn.html#torch.nn.CrossEntropyLoss) with the log-softmax implemented there.**\n",
    "\n",
    "Hints:\n",
    "* We do not test the exact architecture of the network but we do test the receptive fields. Therefore, you should use the specified kernel sizes. Also make sure that the outputs are not affected by subsequent pixels (pixels below and to the right).\n",
    "* In this exercise, the term *logits* is used to denote inputs of the softmax function (softmax is applied in the loss calculations)."
   ]
  },
  {
   "cell_type": "markdown",
   "metadata": {
    "deletable": false,
    "editable": false,
    "nbgrader": {
     "cell_type": "markdown",
     "checksum": "f1f95134e0f94bc6b0b2756cb5ef86fb",
     "grade": false,
     "grade_id": "cell-da2638d0d00a0d55",
     "locked": true,
     "schema_version": 3,
     "solution": false,
     "task": false
    }
   },
   "source": [
    "### About using 2d batch normalization in the model\n",
    "\n",
    "Using the batch normalization significantly improves the convergence of the training procedure. However, when the network is in the `train()` mode (that means that the batch norm uses statistics computed from the mini-batch), the batch norm breaks the required causality structure of the PixelCNN model. Since all the locations contribute to the batch statistics, the subsequent pixels affect the values of the previous pixels. Even though, the batch normalization represents the whole batch using only two statistics, the network seems to learn to make use of the information in the subsequent pixels. This is a possible explanation of the following observation: the loss computed in the `eval()` mode can be substantially larger compared to the loss computed in the `train()` mode.\n",
    "\n",
    "When the network is used in the `eval()` model, the required causality structure is preserved. Even though using running statistics may result in larger loss values, it does not seem to affect significantly the quality of the generated images."
   ]
  },
  {
   "cell_type": "code",
   "execution_count": null,
   "metadata": {
    "deletable": false,
    "nbgrader": {
     "cell_type": "code",
     "checksum": "c9c75863bef18f2a7817c2298e3053e2",
     "grade": false,
     "grade_id": "cell-0357d5b86714bb2e",
     "locked": false,
     "schema_version": 3,
     "solution": true,
     "task": false
    }
   },
   "outputs": [],
   "source": [
    "class PixelCNN(nn.Module):\n",
    "    def __init__(self, n_channels=64, kernel_size=7):\n",
    "        \"\"\"PixelCNN model.\"\"\"\n",
    "        super(PixelCNN, self).__init__()\n",
    "        # YOUR CODE HERE\n",
    "        raise NotImplementedError()\n",
    "\n",
    "    def forward(self, x):\n",
    "        \"\"\"Compute logits of the conditional probabilities p(x_i|x_1, ..., x_{i-1}) of the PixelCNN model.\n",
    "        \n",
    "        Args:\n",
    "          x of shape (batch_size, 1, 28, 28): Tensor of input images.\n",
    "        \n",
    "        Returns:\n",
    "          logits of shape (batch_size, 256, 28, 28): Tensor of logits of the conditional probabilities\n",
    "                                                      for each pixel.\n",
    "        \n",
    "        NB: Do not use softmax nonlinearity after the last layer.\n",
    "        \"\"\"\n",
    "        # YOUR CODE HERE\n",
    "        raise NotImplementedError()"
   ]
  },
  {
   "cell_type": "code",
   "execution_count": null,
   "metadata": {
    "deletable": false,
    "editable": false,
    "nbgrader": {
     "cell_type": "code",
     "checksum": "7a6055abaf2b3ffca0cd5a8f4c69e307",
     "grade": false,
     "grade_id": "cell-5658f49d7dd9d061",
     "locked": true,
     "schema_version": 3,
     "solution": false,
     "task": false
    }
   },
   "outputs": [],
   "source": [
    "def test_PixelCNN_shapes():\n",
    "    net = PixelCNN(n_channels=64, kernel_size=7)\n",
    "\n",
    "    batch_size = 32\n",
    "    x = torch.randn(batch_size, 1, 28, 28)\n",
    "    y = net(x)\n",
    "    assert y.shape == torch.Size([batch_size, 256, 28, 28]), f\"Bad y.shape: {y.shape}\"\n",
    "    print('Success')\n",
    "\n",
    "test_PixelCNN_shapes()"
   ]
  },
  {
   "cell_type": "code",
   "execution_count": null,
   "metadata": {
    "deletable": false,
    "editable": false,
    "nbgrader": {
     "cell_type": "code",
     "checksum": "b062aa6015d509b927c466c0bbe0dbb5",
     "grade": true,
     "grade_id": "cell-9f68a15cf4d6e00c",
     "locked": true,
     "points": 0,
     "schema_version": 3,
     "solution": false,
     "task": false
    }
   },
   "outputs": [],
   "source": [
    "# This cell tests that the outputs are not affected by subsequent pixels (pixels below and to the right)."
   ]
  },
  {
   "cell_type": "markdown",
   "metadata": {
    "deletable": false,
    "editable": false,
    "nbgrader": {
     "cell_type": "markdown",
     "checksum": "ec777a3f2cf86346639b79dac9f0b039",
     "grade": false,
     "grade_id": "cell-dcd29d63fda524ca",
     "locked": true,
     "schema_version": 3,
     "solution": false,
     "task": false
    }
   },
   "source": [
    "### Loss function for training PixelCNN\n",
    "\n",
    "Next we implement the loss function used to train the PixelCNN model. Note that in PixelCNN, the conditional distributions $p(x_i|x_1,...,x_{i-1})$ of pixel intensities $x_i$ are multinomial distributions over 256 possible values. Thus, the loss function is the mean of the cross-entropy classification losses with 256 classes computed for each pixel $x_i$."
   ]
  },
  {
   "cell_type": "code",
   "execution_count": null,
   "metadata": {
    "deletable": false,
    "nbgrader": {
     "cell_type": "code",
     "checksum": "cc1ea8d130ea32aa45417a8a8a76613c",
     "grade": false,
     "grade_id": "loss_fn",
     "locked": false,
     "schema_version": 3,
     "solution": true,
     "task": false
    }
   },
   "outputs": [],
   "source": [
    "def loss_fn(logits, x):\n",
    "    \"\"\"Compute PixelCNN loss. The PixelCNN model uses conditional distributions $p(x_i|x_1,...,x_{i-1})$\n",
    "    for pixel intensities x_i which are multinomial distributions over 256 possible values. Thus the loss\n",
    "    function is the cross-entropy classification loss with 256 intensity values computed for each pixel x_i.\n",
    "\n",
    "    NB: Our tests assume the cross-entropy loss function which has log_softmax implemented inside,\n",
    "    such as `nn.CrossEntropyLoss`.\n",
    "\n",
    "    Args:\n",
    "      logits of shape (batch_size, 256, 28, 28): Logits of the conditional probabilities\n",
    "                  p(x_i | x_1,...,x_{i-1}) of the 256 intensities of pixel x_i computed using all\n",
    "                  previous pixel value x_1,...,x_{i-1}.\n",
    "      x of shape (batch_size, 1, 28, 28): Images used to produce `generated_x`. The values of pixel\n",
    "                  intensities in x are between 0 and 1.\n",
    "\n",
    "    Returns:\n",
    "      loss: Scalar tensor which contains the value of the loss.\n",
    "    \"\"\"\n",
    "    # YOUR CODE HERE\n",
    "    raise NotImplementedError()"
   ]
  },
  {
   "cell_type": "code",
   "execution_count": null,
   "metadata": {
    "deletable": false,
    "editable": false,
    "nbgrader": {
     "cell_type": "code",
     "checksum": "cecbda9a4f5626d3ee78ffd300024559",
     "grade": true,
     "grade_id": "test_loss_fn",
     "locked": true,
     "points": 1,
     "schema_version": 3,
     "solution": false,
     "task": false
    }
   },
   "outputs": [],
   "source": [
    "# Test of PixelCNN loss\n",
    "def test_loss_fn():\n",
    "    batch_size = 4\n",
    "    logits = torch.arange(batch_size*256*28*28).float().view(batch_size, 256, 28, 28)\n",
    "    \n",
    "    x = (torch.arange(28*28).float() / (28*28-1)).view(1, 1, 28, 28)\n",
    "    x = x.repeat(batch_size, 1, 1, 1)\n",
    "    loss = loss_fn(logits, x)\n",
    "    expected = torch.tensor(100350.8750)\n",
    "    \n",
    "    print('loss:', loss)\n",
    "    print('expected:', expected)\n",
    "    assert torch.allclose(loss, expected), \"loss does not match expected value.\"\n",
    "    print('Success')\n",
    "\n",
    "test_loss_fn()"
   ]
  },
  {
   "cell_type": "markdown",
   "metadata": {
    "deletable": false,
    "editable": false,
    "nbgrader": {
     "cell_type": "markdown",
     "checksum": "36fd8e31df99b9ac3ae30020f0b07260",
     "grade": false,
     "grade_id": "cell-bc168c6bfd9e0281",
     "locked": true,
     "schema_version": 3,
     "solution": false,
     "task": false
    }
   },
   "source": [
    "### Generation procedure\n",
    "\n",
    "Next we implement the procedure that generates samples using a PixelCNN model. The generation proceeds as follows:\n",
    "* Initialize `samples` tensor as images with all zeros.\n",
    "* Apply the PixelCNN model to `samples` tensor. The output will contain logits (probabilities before softmax) over 256 pixel intensity values for pixels in all locations. However, on the first iteration we are only interested in the pixel intensities at the first location (0,0) because we need to compute\n",
    "$$p(x_1)$$.\n",
    "* Use computed probabilities to sample a pixel intensity value for the pixel at location (0, 0). Write the sampled value to location (0, 0) of the `samples` tensor.\n",
    "* Apply the model to the `samples` tensor. Now the sampled value of $x_1$ is used by the model to generate the probabilities of pixel intensities for the pixel at location (0, 1), thus we computed\n",
    "$$p(x_2\\mid x_1).$$\n",
    "\n",
    "* We sample a pixel intensity value for the second pixel and write it to the corresponding location of `samples` tensor.\n",
    "* We continue until we change all the values of the `samples` tensor.\n",
    "\n",
    "Hints:\n",
    "* **Do not forget to set the model into the evaluation mode by `net.eval()`.**\n",
    "* Remember that the pixels of the generated images should have values between 0 and 1!\n",
    "* Do not forget to use `with torch.no_grad():` because we do not need to compute gradients during generation."
   ]
  },
  {
   "cell_type": "code",
   "execution_count": null,
   "metadata": {
    "deletable": false,
    "nbgrader": {
     "cell_type": "code",
     "checksum": "8e76dc9f34ba4845667a28ba157ca283",
     "grade": false,
     "grade_id": "cell-b5294d858504f686",
     "locked": false,
     "schema_version": 3,
     "solution": true,
     "task": false
    }
   },
   "outputs": [],
   "source": [
    "def generate(net, n_samples, image_size=(28, 28), device='cpu'):\n",
    "    \"\"\"Generate samples using a trained PixelCNN model.\n",
    "\n",
    "    Args:\n",
    "      net:        PixelCNN model.\n",
    "      n_samples:  Number of samples to generate.\n",
    "      image_size: Tuple of image size (height, width).\n",
    "      device:     Device to use.\n",
    "    \n",
    "    Returns:\n",
    "      samples of shape (n_samples, 1, height, width): Generated samples.\n",
    "    \"\"\"\n",
    "    # YOUR CODE HERE\n",
    "    raise NotImplementedError()"
   ]
  },
  {
   "cell_type": "code",
   "execution_count": null,
   "metadata": {
    "deletable": false,
    "editable": false,
    "nbgrader": {
     "cell_type": "code",
     "checksum": "f7b0fe301c472d73b0590deaffd62bda",
     "grade": true,
     "grade_id": "test_generate",
     "locked": true,
     "points": 1,
     "schema_version": 3,
     "solution": false,
     "task": false
    }
   },
   "outputs": [],
   "source": [
    "# Test of generation\n",
    "def test_generate():\n",
    "    net = PixelCNN(n_channels=1, kernel_size=5)\n",
    "    \n",
    "    # monkey-patching net.forward\n",
    "    def my_forward(x):\n",
    "        logits = torch.zeros(1, 256, 28, 28)\n",
    "        ix = min((x[0, :, :, :]*255 + 1).long().max(), 255)\n",
    "        logits[0, ix] = 100\n",
    "        return logits\n",
    "        \n",
    "    net.forward = my_forward\n",
    "    \n",
    "    samples = generate(net, n_samples=1, image_size=(28, 28), device='cpu')\n",
    "    expected = torch.arange(1, 29) / 255.\n",
    "    print('samples[0, 0, 0]:\\n', samples[0, 0, 0])\n",
    "    print('expected:\\n', expected)\n",
    "    assert torch.allclose(samples[0, 0, 0], expected), \"samples does not match expected value.\"\n",
    "    print('Success')\n",
    "\n",
    "test_generate()"
   ]
  },
  {
   "cell_type": "markdown",
   "metadata": {
    "deletable": false,
    "editable": false,
    "nbgrader": {
     "cell_type": "markdown",
     "checksum": "265e18d51e97f6a1d2c0ba9d382903b9",
     "grade": false,
     "grade_id": "cell-021921fe6c0305e5",
     "locked": true,
     "schema_version": 3,
     "solution": false,
     "task": false
    }
   },
   "source": [
    "# Train PixelCNN model"
   ]
  },
  {
   "cell_type": "code",
   "execution_count": null,
   "metadata": {
    "deletable": false,
    "editable": false,
    "nbgrader": {
     "cell_type": "code",
     "checksum": "16c10056399ef6ec1e4031b96b595a7d",
     "grade": false,
     "grade_id": "cell-a03c73f0dcaa5d60",
     "locked": true,
     "schema_version": 3,
     "solution": false,
     "task": false
    }
   },
   "outputs": [],
   "source": [
    "# Create a model\n",
    "net = PixelCNN(n_channels=64, kernel_size=7)\n",
    "net.to(device)"
   ]
  },
  {
   "cell_type": "code",
   "execution_count": null,
   "metadata": {
    "deletable": false,
    "editable": false,
    "nbgrader": {
     "cell_type": "code",
     "checksum": "bae2a72d27d4429d8ac435fec329f39b",
     "grade": false,
     "grade_id": "cell-29dcaff49b84af33",
     "locked": true,
     "schema_version": 3,
     "solution": false,
     "task": false
    }
   },
   "outputs": [],
   "source": [
    "# Plot generated samples for an untrained model\n",
    "# Note: generation on CPU may take a significant amount of time\n",
    "if not skip_training:\n",
    "    net.to(device)\n",
    "    samples = generate(net, n_samples=120, device=device)\n",
    "    tools.plot_generated_samples(samples, ncol=10)"
   ]
  },
  {
   "cell_type": "markdown",
   "metadata": {
    "deletable": false,
    "editable": false,
    "nbgrader": {
     "cell_type": "markdown",
     "checksum": "91d60e82cb8165810a89a1d4a895c70d",
     "grade": false,
     "grade_id": "cell-517ca6cb2efc3c8b",
     "locked": true,
     "schema_version": 3,
     "solution": false,
     "task": false
    }
   },
   "source": [
    "### Training loop\n",
    "\n",
    "Implement the training loop in the cell below. The recommended hyperparameters:\n",
    "* Adam optimizer with learning rate 0.001\n",
    "* Number of epochs: 11. If you train for more epochs, the cost function may decrease further but the quality of the generated samples may degrade because of overfitting.\n",
    "\n",
    "Hints:\n",
    "- The loss at convergence can reach 0.63.\n",
    "- Please use this code to plot 120 generated samples after each epoch. This will allow you to track the training progress.\n",
    "```python\n",
    "with torch.no_grad():\n",
    "    samples = generate(net, n_samples=120, device=device)\n",
    "    tools.plot_generated_samples(samples)\n",
    "```\n",
    "- The generated images may not be of great quality but you should definitely generate digit-like images.\n",
    "- **Do not forget to set the model into the training mode by `net.train()` before training.**\n",
    "- The generated samples are expected to look similar to this:\n",
    "<img src=\"pixelcnn_generated_samples.png\" width=500>"
   ]
  },
  {
   "cell_type": "code",
   "execution_count": null,
   "metadata": {
    "deletable": false,
    "nbgrader": {
     "cell_type": "code",
     "checksum": "ae914389933e3986497ab27451391731",
     "grade": false,
     "grade_id": "training_loop",
     "locked": false,
     "schema_version": 3,
     "solution": true,
     "task": false
    }
   },
   "outputs": [],
   "source": [
    "if not skip_training:\n",
    "    # YOUR CODE HERE\n",
    "    raise NotImplementedError()"
   ]
  },
  {
   "cell_type": "code",
   "execution_count": null,
   "metadata": {},
   "outputs": [],
   "source": [
    "# Save the model to disk (the pth-files will be submitted automatically together with your notebook)\n",
    "# Set confirm=False if you do not want to be asked for confirmation before saving.\n",
    "if not skip_training:\n",
    "    tools.save_model(net, '1_pixelcnn.pth', confirm=True)"
   ]
  },
  {
   "cell_type": "code",
   "execution_count": null,
   "metadata": {
    "deletable": false,
    "editable": false,
    "nbgrader": {
     "cell_type": "code",
     "checksum": "bd8bf3fd81d141e090e30d7c6a5c108b",
     "grade": false,
     "grade_id": "cell-d76b73a069912948",
     "locked": true,
     "schema_version": 3,
     "solution": false,
     "task": false
    }
   },
   "outputs": [],
   "source": [
    "if skip_training:\n",
    "    net = PixelCNN(n_channels=64, kernel_size=7)\n",
    "    tools.load_model(net, '1_pixelcnn.pth', device)"
   ]
  },
  {
   "cell_type": "markdown",
   "metadata": {
    "deletable": false,
    "editable": false,
    "nbgrader": {
     "cell_type": "markdown",
     "checksum": "24ba8387e2ab6cd199e9b0f8f6e10ed8",
     "grade": false,
     "grade_id": "cell-803a1643f4f2ed4b",
     "locked": true,
     "schema_version": 3,
     "solution": false,
     "task": false
    }
   },
   "source": [
    "### Generate samples"
   ]
  },
  {
   "cell_type": "code",
   "execution_count": null,
   "metadata": {
    "deletable": false,
    "editable": false,
    "nbgrader": {
     "cell_type": "code",
     "checksum": "9be895994586944a40f7d8cc95cf9b9c",
     "grade": false,
     "grade_id": "cell-34cb7b192e397c65",
     "locked": true,
     "schema_version": 3,
     "solution": false,
     "task": false
    }
   },
   "outputs": [],
   "source": [
    "# Save generated samples (the pth-files will be submitted automatically together with your notebook)\n",
    "if not skip_training:\n",
    "    with torch.no_grad():\n",
    "        samples = generate(net, n_samples=120, device=device)\n",
    "        torch.save(samples, '1_pixelcnn_samples.pth')\n",
    "else:\n",
    "    samples = torch.load('1_pixelcnn_samples.pth', map_location=lambda storage, loc: storage)\n",
    "\n",
    "tools.plot_generated_samples(samples)"
   ]
  },
  {
   "cell_type": "code",
   "execution_count": null,
   "metadata": {
    "deletable": false,
    "editable": false,
    "nbgrader": {
     "cell_type": "code",
     "checksum": "9062e3401a73d70de910c386092c3f33",
     "grade": true,
     "grade_id": "cell-26b0db40715dad8a",
     "locked": true,
     "points": 3,
     "schema_version": 3,
     "solution": false,
     "task": false
    }
   },
   "outputs": [],
   "source": [
    "# This cell tests the training loss of the trained PixelCNN model"
   ]
  },
  {
   "cell_type": "markdown",
   "metadata": {
    "deletable": false,
    "editable": false,
    "nbgrader": {
     "cell_type": "markdown",
     "checksum": "d85bbefdb635d20419d07d309992854b",
     "grade": false,
     "grade_id": "cell-258078ae687b2e63",
     "locked": true,
     "schema_version": 3,
     "solution": false,
     "task": false
    }
   },
   "source": [
    "<div class=\"alert alert-block alert-info\">\n",
    "<b>Conclusion</b>\n",
    "</div>\n",
    "\n",
    "In this notebook, we learned how to train PixelCNN, an autoregressive generative model of images."
   ]
  }
 ],
 "metadata": {
  "kernelspec": {
   "display_name": "Python 3",
   "language": "python",
   "name": "python3"
  },
  "language_info": {
   "codemirror_mode": {
    "name": "ipython",
    "version": 3
   },
   "file_extension": ".py",
   "mimetype": "text/x-python",
   "name": "python",
   "nbconvert_exporter": "python",
   "pygments_lexer": "ipython3",
   "version": "3.9.5"
  },
  "varInspector": {
   "cols": {
    "lenName": 16,
    "lenType": 16,
    "lenVar": 40
   },
   "kernels_config": {
    "python": {
     "delete_cmd_postfix": "",
     "delete_cmd_prefix": "del ",
     "library": "var_list.py",
     "varRefreshCmd": "print(var_dic_list())"
    },
    "r": {
     "delete_cmd_postfix": ") ",
     "delete_cmd_prefix": "rm(",
     "library": "var_list.r",
     "varRefreshCmd": "cat(var_dic_list()) "
    }
   },
   "types_to_exclude": [
    "module",
    "function",
    "builtin_function_or_method",
    "instance",
    "_Feature"
   ],
   "window_display": false
  }
 },
 "nbformat": 4,
 "nbformat_minor": 2
}
