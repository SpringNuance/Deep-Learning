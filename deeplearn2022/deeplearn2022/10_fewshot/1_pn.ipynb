{
 "cells": [
  {
   "cell_type": "markdown",
   "metadata": {
    "deletable": false,
    "editable": false,
    "nbgrader": {
     "cell_type": "markdown",
     "checksum": "a4d4e8f81e59f51246adb7b3ed075ca5",
     "grade": false,
     "grade_id": "cell-b247a7c1a13a2809",
     "locked": true,
     "schema_version": 3,
     "solution": false,
     "task": false
    }
   },
   "source": [
    "<div class=\"alert alert-block alert-info\">\n",
    "<b>Deadline:</b> May 18, 2022 (Wednesday) 23:00\n",
    "</div>\n",
    "\n",
    "# Exercise 1. Few-shot learning with Prototypical Networks\n",
    "\n",
    "The goal of the exercise is to get familiar with methods that can solve few-shot classification tasks. In this noteboook, we will implement Prototypical Networks. We recommend you to read the original paper by [Snell et al, (2017)](https://arxiv.org/pdf/1703.05175.pdf) before doing this assignment."
   ]
  },
  {
   "cell_type": "code",
   "execution_count": null,
   "metadata": {
    "deletable": false,
    "editable": false,
    "nbgrader": {
     "cell_type": "code",
     "checksum": "1be9de6e460c85553331fa1aceeb35d3",
     "grade": false,
     "grade_id": "cell-876af25c4c417ca0",
     "locked": true,
     "schema_version": 3,
     "solution": false,
     "task": false
    }
   },
   "outputs": [],
   "source": [
    "# We will use interactive figures in this notebook\n",
    "%matplotlib notebook"
   ]
  },
  {
   "cell_type": "code",
   "execution_count": null,
   "metadata": {},
   "outputs": [],
   "source": [
    "skip_training = False  # Set this flag to True before validation and submission"
   ]
  },
  {
   "cell_type": "code",
   "execution_count": null,
   "metadata": {
    "deletable": false,
    "editable": false,
    "nbgrader": {
     "cell_type": "code",
     "checksum": "065c581e2fc5b3f398167fdcd2420926",
     "grade": true,
     "grade_id": "cell-f357feeef0e44248",
     "locked": true,
     "points": 0,
     "schema_version": 3,
     "solution": false,
     "task": false
    }
   },
   "outputs": [],
   "source": [
    "# During evaluation, this cell sets skip_training to True\n",
    "# skip_training = True"
   ]
  },
  {
   "cell_type": "code",
   "execution_count": null,
   "metadata": {
    "deletable": false,
    "editable": false,
    "nbgrader": {
     "cell_type": "code",
     "checksum": "c01a459c596256e51959916bc5cb86dd",
     "grade": false,
     "grade_id": "cell-68d82bb6c9d904b2",
     "locked": true,
     "schema_version": 3,
     "solution": false,
     "task": false
    }
   },
   "outputs": [],
   "source": [
    "import os\n",
    "import time\n",
    "import numpy as np\n",
    "import matplotlib.pyplot as plt\n",
    "\n",
    "import torch\n",
    "import torchvision\n",
    "import torchvision.transforms as transforms\n",
    "\n",
    "import torch.nn as nn\n",
    "import torch.nn.functional as F\n",
    "import torch.optim as optim\n",
    "\n",
    "from torch.utils.data import DataLoader, Dataset\n",
    "\n",
    "import tools\n",
    "import tests"
   ]
  },
  {
   "cell_type": "code",
   "execution_count": null,
   "metadata": {},
   "outputs": [],
   "source": [
    "# When running on your own computer, you can specify the data directory by:\n",
    "# data_dir = tools.select_data_dir('/your/local/data/directory')\n",
    "data_dir = tools.select_data_dir()"
   ]
  },
  {
   "cell_type": "code",
   "execution_count": null,
   "metadata": {},
   "outputs": [],
   "source": [
    "# Select the device for training (use GPU if you have one)\n",
    "#device = torch.device('cuda:0')\n",
    "device = torch.device('cpu')"
   ]
  },
  {
   "cell_type": "code",
   "execution_count": null,
   "metadata": {
    "deletable": false,
    "editable": false,
    "nbgrader": {
     "cell_type": "code",
     "checksum": "b10c40a5a2c0dd319ea8797e07aabfc5",
     "grade": false,
     "grade_id": "cell-dd5ea972af42eeac",
     "locked": true,
     "schema_version": 3,
     "solution": false,
     "task": false
    }
   },
   "outputs": [],
   "source": [
    "if skip_training:\n",
    "    # The models are always evaluated on CPU\n",
    "    device = torch.device(\"cpu\")"
   ]
  },
  {
   "cell_type": "markdown",
   "metadata": {
    "deletable": false,
    "editable": false,
    "nbgrader": {
     "cell_type": "markdown",
     "checksum": "fbe2ce55acaab3de8e2c5922d90cd032",
     "grade": false,
     "grade_id": "cell-6dde5ca26c51bf91",
     "locked": true,
     "schema_version": 3,
     "solution": false,
     "task": false
    }
   },
   "source": [
    "# Omniglot data\n",
    "\n",
    "We will use Omniglot data for training. Omniglot is a collection of 19280 images of 964 characters from 30 alphabets. There are 20 images for each of the 964 characters in the dataset."
   ]
  },
  {
   "cell_type": "code",
   "execution_count": null,
   "metadata": {
    "deletable": false,
    "editable": false,
    "nbgrader": {
     "cell_type": "code",
     "checksum": "371ef3feec7da10179525bd70b54a079",
     "grade": false,
     "grade_id": "cell-1c347de01112e2c1",
     "locked": true,
     "schema_version": 3,
     "solution": false,
     "task": false
    }
   },
   "outputs": [],
   "source": [
    "transform = transforms.Compose([transforms.ToTensor()])\n",
    "dataset = torchvision.datasets.Omniglot(root=data_dir, download=True, transform=transform)"
   ]
  },
  {
   "cell_type": "code",
   "execution_count": null,
   "metadata": {
    "deletable": false,
    "editable": false,
    "nbgrader": {
     "cell_type": "code",
     "checksum": "8167b324529ee679168c93ebbab751b9",
     "grade": false,
     "grade_id": "cell-749dfef0478c4f4d",
     "locked": true,
     "schema_version": 3,
     "solution": false,
     "task": false
    }
   },
   "outputs": [],
   "source": [
    "# Let us plot some samples from the dataset.\n",
    "x, y = dataset[0]  # x is the image, y is the label (character)\n",
    "print(x.shape, y)"
   ]
  },
  {
   "cell_type": "code",
   "execution_count": null,
   "metadata": {
    "deletable": false,
    "editable": false,
    "nbgrader": {
     "cell_type": "code",
     "checksum": "9dec021fa4fb764a4ea01493db623c87",
     "grade": false,
     "grade_id": "cell-8040506306c53bed",
     "locked": true,
     "schema_version": 3,
     "solution": false,
     "task": false
    }
   },
   "outputs": [],
   "source": [
    "fig, ax = plt.subplots(1, figsize=(3, 3))\n",
    "ax.matshow(1-x[0], cmap=plt.cm.Greys)"
   ]
  },
  {
   "cell_type": "markdown",
   "metadata": {
    "deletable": false,
    "editable": false,
    "nbgrader": {
     "cell_type": "markdown",
     "checksum": "7a7f12995ac60af4290a53d696aeb513",
     "grade": false,
     "grade_id": "cell-6b4f5d99575d2215",
     "locked": true,
     "schema_version": 3,
     "solution": false,
     "task": false
    }
   },
   "source": [
    "## Custom data loader for the few-shot learning task\n",
    "\n",
    "The task of few-shot learning is to learn a classification task from a few training examples. In this notebook, we will consider $n$-way $k$-shot classification problems, when each classification problem has $n$ clases with $k$ examples per class in the training dataset.\n",
    "\n",
    "We take the meta-learning approach, in which we learn how to learn new ($N$-way $k$-shot classification) tasks using multiple training examples of tasks. Thus, in the meta-learning approach, a single \"training example\" is one learning (e.g. classification) task which comes from a distribution of tasks that we create using the Omniglot dataset. \n",
    "\n",
    "We perform meta-learning using **episodic training**. In each episode, we process one training task or a mini-batch of tasks. Each tasks contains two datasets:\n",
    "* *support set*, which is used to build a classifier,\n",
    "* *query set*, which is used to test the accuracy of the built classifier.\n",
    "\n",
    "In order to load such training examples in the training loop, we build a custom dataloader on top of the `Omniglot` dataset available in pytorch."
   ]
  },
  {
   "cell_type": "code",
   "execution_count": null,
   "metadata": {
    "deletable": false,
    "editable": false,
    "nbgrader": {
     "cell_type": "code",
     "checksum": "8a73272261f1a7bc03e8e4d76a9c4fd4",
     "grade": false,
     "grade_id": "cell-6c59dacd2e44f93a",
     "locked": true,
     "schema_version": 3,
     "solution": false,
     "task": false
    }
   },
   "outputs": [],
   "source": [
    "class OmniglotFewShot(Dataset):\n",
    "    \"\"\"Omniglot data set for few-shot learning.\n",
    "\n",
    "    Args:\n",
    "      root (string): Root directory to put the data.\n",
    "      n_support (int): Number of support samples in each training task.\n",
    "      n_query (int): Number of query samples in each training task.\n",
    "      transform (callable): Transforms applied to Omniglot images. We rescale them to 28x28,\n",
    "          convert to tensors and invert so that image backround is encoded as 0 (original Omniglot images have\n",
    "          background encoded as 1).\n",
    "      mix: If True, all examples can be used either as support or query examples. If False, the first\n",
    "          n_support images are always used as support examples and the following n_query images are used\n",
    "          as query examples.\n",
    "      train: If True, use training set. If False, use test set.\n",
    "    \"\"\"\n",
    "    def __init__(self, root, n_support, n_query,\n",
    "                 transform=transforms.Compose([\n",
    "                     transforms.Resize(28),\n",
    "                     transforms.ToTensor(),\n",
    "                     transforms.Lambda(lambda x: 1-x),\n",
    "                 ]),\n",
    "                 mix=False,  # Mix support and query examples\n",
    "                 train=True\n",
    "                ):\n",
    "\n",
    "        assert n_support + n_query <= 20, \"Omniglot contains only 20 images per character.\"\n",
    "        self.n_support = n_support\n",
    "        self.n_query = n_query\n",
    "        self.mix = mix\n",
    "        self.train = train  # training set or test set\n",
    "        \n",
    "        self._omniglot = torchvision.datasets.Omniglot(root=root, download=True, transform=transform)\n",
    "        \n",
    "        self.character_classes = character_classes = np.array([\n",
    "            character_class for _, character_class in self._omniglot._flat_character_images\n",
    "        ])\n",
    "        \n",
    "        n_classes = max(character_classes)\n",
    "        self.indices_for_class = {\n",
    "            i: np.where(character_classes == i)[0].tolist()\n",
    "            for i in range(n_classes)\n",
    "        }\n",
    "        \n",
    "        np.random.seed(1)\n",
    "        rp = np.random.permutation(n_classes)\n",
    "        if train:\n",
    "            self.used_classes = rp[:770]\n",
    "        else:\n",
    "            self.used_classes = rp[770:]\n",
    "        \n",
    "    def __getitem__(self, index):\n",
    "        \"\"\"\n",
    "        Returns:\n",
    "          support_query of shape (n_support+n_query, 1, height, width):\n",
    "                      support_query[:n_support] is the support set\n",
    "                      support_query[n_support:] is the query set\n",
    "        \"\"\"\n",
    "        class_ix = self.used_classes[index]\n",
    "        indices = self.indices_for_class[class_ix]\n",
    "        if self.mix:\n",
    "            indices = np.random.permutation(indices)\n",
    "\n",
    "        indices = indices[:self.n_support+self.n_query]  # First support, then query\n",
    "        support_query = torch.stack([self._omniglot[ix][0] for ix in indices])\n",
    "\n",
    "        return support_query\n",
    "\n",
    "    def __len__(self):\n",
    "        return len(self.used_classes)"
   ]
  },
  {
   "cell_type": "markdown",
   "metadata": {
    "deletable": false,
    "editable": false,
    "nbgrader": {
     "cell_type": "markdown",
     "checksum": "9b96c798274aa9434ce303c3e46ed42e",
     "grade": false,
     "grade_id": "cell-75bbc1cd6cdb5a67",
     "locked": true,
     "schema_version": 3,
     "solution": false,
     "task": false
    }
   },
   "source": [
    "One sample from the dataset represents one class which consists of `n_support` support samples and `n_query` query samples."
   ]
  },
  {
   "cell_type": "code",
   "execution_count": null,
   "metadata": {
    "deletable": false,
    "editable": false,
    "nbgrader": {
     "cell_type": "code",
     "checksum": "12f7b9602280ff9d82ca9645b880ca92",
     "grade": false,
     "grade_id": "cell-8f9f6c2d4092564a",
     "locked": true,
     "schema_version": 3,
     "solution": false,
     "task": false
    }
   },
   "outputs": [],
   "source": [
    "dataset = OmniglotFewShot(root=data_dir, n_support=1, n_query=3, train=True)\n",
    "support_query = dataset[0]\n",
    "print(support_query.shape)"
   ]
  },
  {
   "cell_type": "markdown",
   "metadata": {
    "deletable": false,
    "editable": false,
    "nbgrader": {
     "cell_type": "markdown",
     "checksum": "4c36176e85bb5a81f7537811b0efac26",
     "grade": false,
     "grade_id": "cell-6b4a12058eb3d6bf",
     "locked": true,
     "schema_version": 3,
     "solution": false,
     "task": false
    }
   },
   "source": [
    "We can now build data for $n$-way $k$-shot classification tasks using the following data loader. Each mini-batch that this data loader produces is one $n$-way $k$-shot classification task. In principles, we could include more tasks into each mini-batch but we do not do it in this notebok."
   ]
  },
  {
   "cell_type": "code",
   "execution_count": null,
   "metadata": {
    "deletable": false,
    "editable": false,
    "nbgrader": {
     "cell_type": "code",
     "checksum": "29c609bc344f41c3c536de7cb932a3f0",
     "grade": false,
     "grade_id": "cell-64b9da22f0738265",
     "locked": true,
     "schema_version": 3,
     "solution": false,
     "task": false
    }
   },
   "outputs": [],
   "source": [
    "n_way = 5\n",
    "trainloader = DataLoader(dataset=dataset, batch_size=n_way, shuffle=True, pin_memory=True)\n",
    "\n",
    "for support_query in trainloader:\n",
    "    print(support_query.shape)\n",
    "    # support_query is (n-way, n_support+n_query, 1, 28, 28)\n",
    "    break"
   ]
  },
  {
   "cell_type": "markdown",
   "metadata": {
    "deletable": false,
    "editable": false,
    "nbgrader": {
     "cell_type": "markdown",
     "checksum": "e5211d58dfbab8bcc4c7e7a2da76a678",
     "grade": false,
     "grade_id": "cell-cd341221139edaeb",
     "locked": true,
     "schema_version": 3,
     "solution": false,
     "task": false
    }
   },
   "source": [
    "# Prototypical networks"
   ]
  },
  {
   "cell_type": "markdown",
   "metadata": {
    "deletable": false,
    "editable": false,
    "nbgrader": {
     "cell_type": "markdown",
     "checksum": "abcd173c953dfb449da80801382b2494",
     "grade": false,
     "grade_id": "cell-877fcfccf1b541b3",
     "locked": true,
     "schema_version": 3,
     "solution": false,
     "task": false
    }
   },
   "source": [
    "## The embedding CNN\n",
    "\n",
    "We first build a convolutional neural network that embeds images into a lower-dimensional space.\n",
    "\n",
    "The exact architecture is not important in this exercise but the following architecture worked for us:\n",
    "* Four blocks with the following layers:\n",
    "    * `Conv2d` layer with kernel size 3 and 64 output channels, followed by `BatchNorm2d`, ReLU and 2d max pooling (with kernel 2 and stride 2).\n",
    "* A fully-connected layer with 64 output features."
   ]
  },
  {
   "cell_type": "code",
   "execution_count": null,
   "metadata": {
    "deletable": false,
    "nbgrader": {
     "cell_type": "code",
     "checksum": "6dfed17ff38fd3944aae2c3e60a4829a",
     "grade": false,
     "grade_id": "CNN",
     "locked": false,
     "schema_version": 3,
     "solution": true,
     "task": false
    }
   },
   "outputs": [],
   "source": [
    "class CNN(nn.Module):\n",
    "    # YOUR CODE HERE\n",
    "    raise NotImplementedError()"
   ]
  },
  {
   "cell_type": "code",
   "execution_count": null,
   "metadata": {
    "deletable": false,
    "editable": false,
    "nbgrader": {
     "cell_type": "code",
     "checksum": "5d0114d24b38aa98aa0cbd63db54bbcb",
     "grade": false,
     "grade_id": "cell-6036d06f90d0f6b4",
     "locked": true,
     "schema_version": 3,
     "solution": false,
     "task": false
    }
   },
   "outputs": [],
   "source": [
    "def test_CNN_shapes():\n",
    "    net = CNN()\n",
    "\n",
    "    x = torch.randn(2, 1, 28, 28)\n",
    "    y = net(x)\n",
    "    assert y.shape == torch.Size([2, 64]), f\"Wrong y.shape: {y.shape}\"\n",
    "    print('Success')\n",
    "\n",
    "test_CNN_shapes()"
   ]
  },
  {
   "cell_type": "markdown",
   "metadata": {
    "deletable": false,
    "editable": false,
    "nbgrader": {
     "cell_type": "markdown",
     "checksum": "cfe6eeac5e4f5061cfa5c506c62d2865",
     "grade": false,
     "grade_id": "cell-3588e7f10c2b8e10",
     "locked": true,
     "schema_version": 3,
     "solution": false,
     "task": false
    }
   },
   "source": [
    "## One episode of training\n",
    "\n",
    "In the cell below, you need to implement building a computational graph for one episode of training of Prototypical Networks.\n",
    "\n",
    "The required steps:\n",
    "* Use the provided network to embed both support and query examples.\n",
    "* Compute one prototype per class using the support set. The prototypes are the mean values of the embeddings of the samples from the same class.\n",
    "* Compute the log-probabilities that the query samples belong to one of the n classes.\n",
    "  The probabilities are softmax of the negative squared Euclidean distance from an embedded sample to a class prototype.\n",
    "* Compute the negative log-likelihood loss using the query samples.\n",
    "\n",
    "Notes:\n",
    "* Try to avoid using for-loops. This will result in faster training and (possibly) better accuracy.\n",
    "* One reason why for-loops can affect training is batch normalization. If you compute the embeddings in a for-loop, the running estimates of the batch norm statistics will be different compared to computing the embeddings with one call of the CNN forward function.\n",
    "* **Your implementation should work for any values of `n_way`, `n_support`, `n_query` and for input images of any resolution.**"
   ]
  },
  {
   "cell_type": "code",
   "execution_count": null,
   "metadata": {
    "deletable": false,
    "nbgrader": {
     "cell_type": "code",
     "checksum": "772695163c06c1eb52e9800bdced9dc9",
     "grade": false,
     "grade_id": "episode_pn",
     "locked": false,
     "schema_version": 3,
     "solution": true,
     "task": false
    }
   },
   "outputs": [],
   "source": [
    "def episode_pn(net, support_query, n_support):\n",
    "    \"\"\"Build a computational graph for one episode of training of prototypical networks.\n",
    "    \n",
    "    Args:\n",
    "      net: An embedding network which takes as inputs tensors of shape (batch_size, n_channels, height, width)\n",
    "           and which outputs a tensor of shape (batch_size, n_features).\n",
    "      support_query of shape (n_way, n_support+n_query, 1, height, width):\n",
    "                      support_query[:, :n_support] is the support set\n",
    "                      support_query[:, n_support:] is the query set\n",
    "    \n",
    "    Returns:\n",
    "      loss (scalar tensor): The negative log-likelihood loss.\n",
    "      accuracy (float): The classification accuracy on the given example (needed for tracking the progress).\n",
    "      outputs of shape (n_way, n_query, n_way): Logits (log-softmax) of the probabilities of query classes\n",
    "          belonging to one of the n classes. The first dimension corresponds to the true class, the last\n",
    "          dimension corresponds to predicted classes.\n",
    "    \"\"\"\n",
    "    # YOUR CODE HERE\n",
    "    raise NotImplementedError()"
   ]
  },
  {
   "cell_type": "code",
   "execution_count": null,
   "metadata": {
    "deletable": false,
    "editable": false,
    "nbgrader": {
     "cell_type": "code",
     "checksum": "9e5e9720479f4add088bb248ef261fcc",
     "grade": false,
     "grade_id": "cell-dfdb73fde9a8ea66",
     "locked": true,
     "schema_version": 3,
     "solution": false,
     "task": false
    }
   },
   "outputs": [],
   "source": [
    "def test_episode_pn_shapes():\n",
    "    n_support = 2\n",
    "    n_query = 4\n",
    "    n_way = 5\n",
    "    support_query = torch.randn(n_way, n_support+n_query, 1, 28, 28)\n",
    "\n",
    "    net = CNN()\n",
    "    loss, accuracy, outputs = episode_pn(net, support_query, n_support)\n",
    "    assert loss.shape == torch.Size([]), \"Bad loss.shape\"\n",
    "    assert 0. <= float(accuracy) <= 1., \"accuracy should be a scalar between 0 and 1.\"\n",
    "    assert outputs.shape == torch.Size([n_way, n_query, n_way]), f\"Bad outputs.shape: {outputs.shape}\"\n",
    "    print('Success')\n",
    "\n",
    "test_episode_pn_shapes()"
   ]
  },
  {
   "cell_type": "code",
   "execution_count": null,
   "metadata": {
    "deletable": false,
    "editable": false,
    "nbgrader": {
     "cell_type": "code",
     "checksum": "56eb980b00efa56a8908b54e1a2c09ae",
     "grade": true,
     "grade_id": "test_episode_pn",
     "locked": true,
     "points": 2,
     "schema_version": 3,
     "solution": false,
     "task": false
    }
   },
   "outputs": [],
   "source": [
    "# This cell tests episode_pn()"
   ]
  },
  {
   "cell_type": "markdown",
   "metadata": {
    "deletable": false,
    "editable": false,
    "nbgrader": {
     "cell_type": "markdown",
     "checksum": "f3808714dd1651e6bbf0877803d90a26",
     "grade": false,
     "grade_id": "cell-a88e6a271b270c93",
     "locked": true,
     "schema_version": 3,
     "solution": false,
     "task": false
    }
   },
   "source": [
    "## Train Prototypical Networks\n",
    "\n",
    "In the cell below, we defing the data loaders.\n",
    "\n",
    "Note:\n",
    "* Increasing `num_workers` speeds up the training procedure. However, `num_workers > 0` does not work on some systems."
   ]
  },
  {
   "cell_type": "code",
   "execution_count": null,
   "metadata": {},
   "outputs": [],
   "source": [
    "# Prepare dataloader\n",
    "n_support = 1\n",
    "n_query = 3\n",
    "n_way = 5\n",
    "trainset = OmniglotFewShot(root=data_dir, n_support=n_support, n_query=n_query, train=True, mix=True)\n",
    "trainloader = DataLoader(dataset=trainset, batch_size=n_way, shuffle=True, pin_memory=True, num_workers=3)\n",
    "\n",
    "testset = OmniglotFewShot(root=data_dir, n_support=n_support, n_query=n_query, train=False, mix=True)\n",
    "testloader = DataLoader(dataset=testset, batch_size=n_way, shuffle=False, pin_memory=True, num_workers=3)"
   ]
  },
  {
   "cell_type": "code",
   "execution_count": null,
   "metadata": {
    "deletable": false,
    "editable": false,
    "nbgrader": {
     "cell_type": "code",
     "checksum": "b8bb613890dea2d2bb8399b3165000c8",
     "grade": false,
     "grade_id": "cell-11ddbad3bea3148f",
     "locked": true,
     "schema_version": 3,
     "solution": false,
     "task": false
    }
   },
   "outputs": [],
   "source": [
    "# Create the model\n",
    "net = CNN()\n",
    "net.to(device)"
   ]
  },
  {
   "cell_type": "markdown",
   "metadata": {
    "deletable": false,
    "editable": false,
    "nbgrader": {
     "cell_type": "markdown",
     "checksum": "0f81cd86488a4c641de7da7445a00a8e",
     "grade": false,
     "grade_id": "cell-52691cce123039f7",
     "locked": true,
     "schema_version": 3,
     "solution": false,
     "task": false
    }
   },
   "source": [
    "### Training loop\n",
    "\n",
    "Implement the training loop in the cell below.\n",
    "\n",
    "Recommended hyperparameters:\n",
    "* Adam optimizer with learning rate 0.001. It helps to anneal the learning rate to 0.00001 during training (but it is not needed to pass the tests).\n",
    "\n",
    "Hints:\n",
    "* We recommended you to track training and test accuracies returned by function `episode_pn()`.\n",
    "* During training, both training and test accuracies should reach at least the level of 0.96. Note that we sample a limited number of tasks to compute the accuracies and therefore the accuracy values may fluctuate.\n",
    "* **Do not forget to set the network into the training mode during training and to evaluation mode during evaluation.**"
   ]
  },
  {
   "cell_type": "code",
   "execution_count": null,
   "metadata": {
    "deletable": false,
    "nbgrader": {
     "cell_type": "code",
     "checksum": "6b16bb5e848bd6f932e2bb98fc139caf",
     "grade": false,
     "grade_id": "cell-09efd9860a9751d4",
     "locked": false,
     "schema_version": 3,
     "solution": true,
     "task": false
    }
   },
   "outputs": [],
   "source": [
    "# Implement the training loop in this cell\n",
    "if not skip_training:\n",
    "    # YOUR CODE HERE\n",
    "    raise NotImplementedError()"
   ]
  },
  {
   "cell_type": "code",
   "execution_count": null,
   "metadata": {},
   "outputs": [],
   "source": [
    "# Save the model to disk (the pth-files will be submitted automatically together with your notebook)\n",
    "# Set confirm=False if you do not want to be asked for confirmation before saving.\n",
    "if not skip_training:\n",
    "    tools.save_model(net, '1_pn.pth', confirm=True)"
   ]
  },
  {
   "cell_type": "code",
   "execution_count": null,
   "metadata": {
    "deletable": false,
    "editable": false,
    "nbgrader": {
     "cell_type": "code",
     "checksum": "53ad9b18adbe3d98925f32d4813e6e37",
     "grade": false,
     "grade_id": "cell-88c8729b8d92cfec",
     "locked": true,
     "schema_version": 3,
     "solution": false,
     "task": false
    }
   },
   "outputs": [],
   "source": [
    "if skip_training:\n",
    "    net = CNN()\n",
    "    tools.load_model(net, '1_pn.pth', device)"
   ]
  },
  {
   "cell_type": "code",
   "execution_count": null,
   "metadata": {
    "deletable": false,
    "editable": false,
    "nbgrader": {
     "cell_type": "code",
     "checksum": "bf29689dc5b088ee22f5c0c71cac0692",
     "grade": true,
     "grade_id": "test_accuracy",
     "locked": true,
     "points": 4,
     "schema_version": 3,
     "solution": false,
     "task": false
    }
   },
   "outputs": [],
   "source": [
    "# This cell tests the accuracy of your model"
   ]
  },
  {
   "cell_type": "markdown",
   "metadata": {
    "deletable": false,
    "editable": false,
    "nbgrader": {
     "cell_type": "markdown",
     "checksum": "9a384d59fc718781a332904c7e24e0cc",
     "grade": false,
     "grade_id": "cell-364bddb7a74b7f4c",
     "locked": true,
     "schema_version": 3,
     "solution": false,
     "task": false
    }
   },
   "source": [
    "# Test the trained model"
   ]
  },
  {
   "cell_type": "code",
   "execution_count": null,
   "metadata": {
    "deletable": false,
    "editable": false,
    "nbgrader": {
     "cell_type": "code",
     "checksum": "ffb9d9ab71ee5de8d440c06bc2ab1ed2",
     "grade": false,
     "grade_id": "cell-a8e2f2267077b11d",
     "locked": true,
     "schema_version": 3,
     "solution": false,
     "task": false
    }
   },
   "outputs": [],
   "source": [
    "# Use one clasification task from the test set\n",
    "net.eval()\n",
    "with torch.no_grad():\n",
    "    support_query = iter(testloader).next()\n",
    "    _, acc, outputs = episode_pn(net, support_query.to(device), n_support=1)\n",
    "    print(outputs.argmax(dim=2))"
   ]
  },
  {
   "cell_type": "markdown",
   "metadata": {
    "deletable": false,
    "editable": false,
    "nbgrader": {
     "cell_type": "markdown",
     "checksum": "9a596a1e47b0fbe350f430c5e447724e",
     "grade": false,
     "grade_id": "cell-d9cb299e4585a009",
     "locked": true,
     "schema_version": 3,
     "solution": false,
     "task": false
    }
   },
   "source": [
    "## Interactive demo\n",
    "\n",
    "Please take a look at the demo in [the blog post](https://openai.com/blog/reptile/) about another meta-learning algorithm called Reptile.\n",
    "\n",
    "In the cell below, you can test your prototypical network in a similar setup. In the first row of the figure below, you can draw new classes (support set) using your mouse. Then, you can create three query examples in the second row of the figure."
   ]
  },
  {
   "cell_type": "code",
   "execution_count": null,
   "metadata": {
    "deletable": false,
    "editable": false,
    "nbgrader": {
     "cell_type": "code",
     "checksum": "c9d41114b1e34e94b261ba3e5ca6c253",
     "grade": false,
     "grade_id": "cell-e61b5a23b1ea87d5",
     "locked": true,
     "schema_version": 3,
     "solution": false,
     "task": false
    }
   },
   "outputs": [],
   "source": [
    "canvas = tests.Canvas()"
   ]
  },
  {
   "cell_type": "markdown",
   "metadata": {
    "deletable": false,
    "editable": false,
    "nbgrader": {
     "cell_type": "markdown",
     "checksum": "924abd5b8121530fc7716a1b4022dd3e",
     "grade": false,
     "grade_id": "cell-c7f4ebeab3a34177",
     "locked": true,
     "schema_version": 3,
     "solution": false,
     "task": false
    }
   },
   "source": [
    "In the next cell, we classify the images of the query set to one of three classes specified by the support set.\n",
    "The colors of the frames in the bottom row represent the labels produced by the classifier for the query set."
   ]
  },
  {
   "cell_type": "code",
   "execution_count": null,
   "metadata": {
    "deletable": false,
    "editable": false,
    "nbgrader": {
     "cell_type": "code",
     "checksum": "998274ef2834ed73cd93235e0634a850",
     "grade": false,
     "grade_id": "cell-ed7f71cbf32306b2",
     "locked": true,
     "schema_version": 3,
     "solution": false,
     "task": false
    }
   },
   "outputs": [],
   "source": [
    "# Convert images into torch tensors\n",
    "support_query = canvas.get_images()\n",
    "print(support_query.shape)\n",
    "\n",
    "net.eval()\n",
    "with torch.no_grad():\n",
    "    _, _, outputs = episode_pn(net, support_query.float().to(device), n_support=1)\n",
    "    # outputs is (n_way, n_query, n_way)\n",
    "classes = outputs.argmax(dim=2).view(-1)\n",
    "\n",
    "tests.plot_classification(support_query, classes)"
   ]
  },
  {
   "cell_type": "markdown",
   "metadata": {
    "deletable": false,
    "editable": false,
    "nbgrader": {
     "cell_type": "markdown",
     "checksum": "e76f9c1ff7b71b38682ff2d84db8e566",
     "grade": false,
     "grade_id": "cell-29d055bc39296797",
     "locked": true,
     "schema_version": 3,
     "solution": false,
     "task": false
    }
   },
   "source": [
    "<div class=\"alert alert-block alert-info\">\n",
    "<b>Conclusions</b>\n",
    "</div>\n",
    "\n",
    "In this exercise, we learned how to train prototypical networks for few-shot learning."
   ]
  }
 ],
 "metadata": {
  "kernelspec": {
   "display_name": "Python 3",
   "language": "python",
   "name": "python3"
  },
  "language_info": {
   "codemirror_mode": {
    "name": "ipython",
    "version": 3
   },
   "file_extension": ".py",
   "mimetype": "text/x-python",
   "name": "python",
   "nbconvert_exporter": "python",
   "pygments_lexer": "ipython3",
   "version": "3.8.6"
  },
  "varInspector": {
   "cols": {
    "lenName": 16,
    "lenType": 16,
    "lenVar": 40
   },
   "kernels_config": {
    "python": {
     "delete_cmd_postfix": "",
     "delete_cmd_prefix": "del ",
     "library": "var_list.py",
     "varRefreshCmd": "print(var_dic_list())"
    },
    "r": {
     "delete_cmd_postfix": ") ",
     "delete_cmd_prefix": "rm(",
     "library": "var_list.r",
     "varRefreshCmd": "cat(var_dic_list()) "
    }
   },
   "types_to_exclude": [
    "module",
    "function",
    "builtin_function_or_method",
    "instance",
    "_Feature"
   ],
   "window_display": false
  }
 },
 "nbformat": 4,
 "nbformat_minor": 2
}
