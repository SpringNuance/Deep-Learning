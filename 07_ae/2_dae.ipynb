{
 "cells": [
  {
   "cell_type": "markdown",
   "metadata": {
    "deletable": false,
    "editable": false,
    "nbgrader": {
     "cell_type": "markdown",
     "checksum": "6028f74609660bc27b47fac51a16ffd4",
     "grade": false,
     "grade_id": "cell-be8c5c03905df198",
     "locked": true,
     "schema_version": 3,
     "solution": false,
     "task": false
    }
   },
   "source": [
    "<div class=\"alert alert-block alert-info\">\n",
    "<b>Deadline:</b> May 03, 2023 (Wednesday) 23:00\n",
    "</div>\n",
    "\n",
    "# Exercise 2. Denoising autoencoders\n",
    "\n",
    "The goal of this exercise is to get familiar with *denoising* autoencoders."
   ]
  },
  {
   "cell_type": "code",
   "execution_count": 50,
   "metadata": {},
   "outputs": [],
   "source": [
    "skip_training = True  # Set this flag to True before validation and submission"
   ]
  },
  {
   "cell_type": "code",
   "execution_count": 51,
   "metadata": {
    "deletable": false,
    "editable": false,
    "nbgrader": {
     "cell_type": "code",
     "checksum": "e2c402213ca11a2fa44cae6c496cf50d",
     "grade": true,
     "grade_id": "cell-4c5ad871b433468b",
     "locked": true,
     "points": 0,
     "schema_version": 3,
     "solution": false,
     "task": false
    }
   },
   "outputs": [],
   "source": [
    "# During evaluation, this cell sets skip_training to True\n",
    "# skip_training = True\n",
    "\n",
    "import tools, warnings\n",
    "warnings.showwarning = tools.customwarn"
   ]
  },
  {
   "cell_type": "code",
   "execution_count": 52,
   "metadata": {},
   "outputs": [],
   "source": [
    "import os\n",
    "import numpy as np\n",
    "import matplotlib.pyplot as plt\n",
    "%matplotlib inline\n",
    "\n",
    "import torch\n",
    "import torchvision\n",
    "import torchvision.transforms as transforms\n",
    "import torch.nn as nn\n",
    "import torch.nn.functional as F\n",
    "import torch.optim as optim\n",
    "\n",
    "import tools\n",
    "import tests"
   ]
  },
  {
   "cell_type": "code",
   "execution_count": 53,
   "metadata": {},
   "outputs": [
    {
     "name": "stdout",
     "output_type": "stream",
     "text": [
      "The data directory is /coursedata\n"
     ]
    }
   ],
   "source": [
    "# When running on your own computer, you can specify the data directory by:\n",
    "# data_dir = tools.select_data_dir('/your/local/data/directory')\n",
    "data_dir = tools.select_data_dir()"
   ]
  },
  {
   "cell_type": "code",
   "execution_count": 54,
   "metadata": {},
   "outputs": [],
   "source": [
    "# Select the device for training (use GPU if you have one)\n",
    "#device = torch.device('cuda:0')\n",
    "device = torch.device('cpu')"
   ]
  },
  {
   "cell_type": "code",
   "execution_count": 55,
   "metadata": {
    "deletable": false,
    "editable": false,
    "nbgrader": {
     "cell_type": "code",
     "checksum": "4a656abba884bea225c43a917fbd0951",
     "grade": false,
     "grade_id": "cell-59bd1af0b867a73f",
     "locked": true,
     "schema_version": 3,
     "solution": false,
     "task": false
    }
   },
   "outputs": [],
   "source": [
    "if skip_training:\n",
    "    # The models are always evaluated on CPU\n",
    "    device = torch.device(\"cpu\")"
   ]
  },
  {
   "cell_type": "markdown",
   "metadata": {
    "deletable": false,
    "editable": false,
    "nbgrader": {
     "cell_type": "markdown",
     "checksum": "4c61d255b6e796a7c1c01d883232da67",
     "grade": false,
     "grade_id": "cell-b2b6a9c89bb934a4",
     "locked": true,
     "schema_version": 3,
     "solution": false,
     "task": false
    }
   },
   "source": [
    "# Data\n",
    "\n",
    "In this exercise, we will use MNIST to create a new dataset (that we call varianceMNIST). In the new dataset, the information about the shapes of the digits is represented in the variances of the pixel intensities and not in the pixel intensities (like in MNIST). We use a custom `transform.Lambda()` to generate the dataset. Note that our dataset contains an infinite amount of samples because we generate different noise instances every time we request the data. The number of shapes is of course limited to the number of digits in the MNIST dataset.\n",
    "\n",
    "This is a challenging dataset and a plain bottleneck autoencoder (from  notebook 1) with a mean-squared error (MSE) loss cannot encode useful information in the bottleneck layer. However, a denoising autoencoder trained with an MSE loss is able to encode the shapes of the digits in the bottleneck layer."
   ]
  },
  {
   "cell_type": "code",
   "execution_count": 56,
   "metadata": {
    "deletable": false,
    "editable": false,
    "nbgrader": {
     "cell_type": "code",
     "checksum": "019586b617be8bbc28c79a50437ff101",
     "grade": false,
     "grade_id": "cell-e59e6a0054c13c82",
     "locked": true,
     "schema_version": 3,
     "solution": false,
     "task": false
    }
   },
   "outputs": [],
   "source": [
    "# We will use varianceMNIST data in this exercise\n",
    "transform = transforms.Compose([\n",
    "    transforms.ToTensor(),  # Transform to tensor\n",
    "    transforms.Lambda(lambda x: x * torch.randn_like(x))\n",
    "])\n",
    "\n",
    "trainset = torchvision.datasets.MNIST(root=data_dir, train=True, download=True, transform=transform)\n",
    "trainloader = torch.utils.data.DataLoader(trainset, batch_size=32, shuffle=True)"
   ]
  },
  {
   "cell_type": "markdown",
   "metadata": {
    "deletable": false,
    "editable": false,
    "nbgrader": {
     "cell_type": "markdown",
     "checksum": "8373dd37832ca59582d6966b0bbfdfad",
     "grade": false,
     "grade_id": "cell-9e0ac40239400446",
     "locked": true,
     "schema_version": 3,
     "solution": false,
     "task": false
    }
   },
   "source": [
    "We visualize some random training samples in the cell below. As you can see, we can quite easily identify the shapes and recognize the digits."
   ]
  },
  {
   "cell_type": "code",
   "execution_count": 57,
   "metadata": {
    "deletable": false,
    "editable": false,
    "nbgrader": {
     "cell_type": "code",
     "checksum": "ac840ab597e5ef91ea8772ede5dce9df",
     "grade": false,
     "grade_id": "cell-3b2f4813f230f675",
     "locked": true,
     "schema_version": 3,
     "solution": false,
     "task": false
    }
   },
   "outputs": [
    {
     "data": {
      "image/png": "[encoded data removed]",
      "text/plain": [
       "<Figure size 576x576 with 1 Axes>"
      ]
     },
     "metadata": {},
     "output_type": "display_data"
    }
   ],
   "source": [
    "images, labels = next(iter(trainloader))\n",
    "tools.show_images(images[:8], ncol=4, cmap=plt.cm.bwr, clim=[-3,3])"
   ]
  },
  {
   "cell_type": "markdown",
   "metadata": {
    "deletable": false,
    "editable": false,
    "nbgrader": {
     "cell_type": "markdown",
     "checksum": "50648356cc07337524c37315d7fb0172",
     "grade": false,
     "grade_id": "cell-64dcf0d0caa30c3a",
     "locked": true,
     "schema_version": 3,
     "solution": false,
     "task": false
    }
   },
   "source": [
    "# Denoising autoencoder (DAE)\n",
    "\n",
    "### Optimal denoising function\n",
    "\n",
    "Suppose we corrupt an image $\\mathbf{x}$ of the varianceMNIST dataset with a zero-mean Gaussian noise with standard deviation $\\sigma_n$. For a given clean pixel value $x$, the corrupted value $\\tilde{x}$ is thus produced as:\n",
    "$$\n",
    "\\tilde{x} = x + n, \\qquad n \\sim \\mathcal{N}(0, \\sigma^2_n)\n",
    "$$\n",
    "Please do not confuse the corruption process with the generative process of the varianceMNIST dataset. We assume that the varianceMNIST dataset is given to us, while we are free to select any corruption process to train a DAE. In this experiment, we choose Gaussian corruption.\n",
    "\n",
    "Knowing the generative process of the varianceMNIST dataset (which is a bit of cheating because we usually do not know the data generative process), we can compute the optimal denoising function which produces an estimate of the clean pixel value $x$ given corrupted value $\\tilde{x}$:\n",
    "$$\n",
    "g(\\tilde{x}) = \\tilde{x} \\: \\text{sigmoid}(f(\\sigma_x^2, \\sigma_n^2))\n",
    "$$\n",
    "where $f$ is some function of the variance $\\sigma^2_x$ of a pixel intensity in the varianceMNIST dataset and the variance $\\sigma^2_n$ of the corruption noise.\n",
    "\n",
    "\n",
    "In the cell below, your task is to implement a denoising autoencoder (DAE) which can learn to approximate the optimal denoising function shown above.\n",
    "* Our DAE will be trained to learn the optimal denoising function $g(\\tilde{x})$. In each training iteration, we feed corrupted images $\\tilde{\\mathbf{x}}$ to the inputs of the DAE and provide the corresponding clean images $\\mathbf{x}$ as the targets for the DAE outputs.\n",
    "* To learn useful representations (the shapes of the digits for the varianceMNIST dataset), our DAE will have a bottleneck layer with `n_components` elements. It is the output of the encoder.\n",
    "* We are not going to use values of $\\sigma_x^2$ and $\\sigma_n^2$ inside the DAE: The value of $\\sigma_x^2$ we simply do not know. We know the value of $\\sigma_n^2$ (because we select the corruption process) but we are not going to use that value in the computations of the denoising function.\n",
    "* Look carefully at the structure of the optimal denoising function. We can select the architecture of the DAE that makes it easy to perform the computations needed for optimal denoising.\n",
    "\n",
    "The proposed architecture for the DAE:\n",
    "* Encoder:\n",
    "    * `Conv2d` layer with kernel size 5 with 6 output channels, followed by ReLU\n",
    "    * `Conv2d` layer with kernel size 5 with 16 output channels, followed by ReLU\n",
    "    * Fully-connected layer with 250 output features, followed by ReLU\n",
    "    * Fully-connected layer with `n_components`\n",
    "* Decoder:\n",
    "    * Fully-connected layer with 250 output features, followed by ReLU\n",
    "    * Fully-connected layer with 250 input features, followed by ReLU\n",
    "    * `ConvTranspose2d` layer with kernel size 5 with 16 input channels, followed by ReLU\n",
    "    * `ConvTranspose2d` layer with kernel size 5 with 6 input channels\n",
    "\n",
    "Notes:\n",
    "* The exact architecture is not tested in this notebook. The above description is not full, you need to add some missing connections using the knowledge of the form of the optimal denoising function.\n",
    "* Please use recommended convolutional layers in the encoder and the decoder. If the autoencoder consists of only fully-connected layers, the learning problem is harder."
   ]
  },
  {
   "cell_type": "code",
   "execution_count": 58,
   "metadata": {
    "deletable": false,
    "nbgrader": {
     "cell_type": "code",
     "checksum": "7e87c77743f014e48470f2d7845d10af",
     "grade": false,
     "grade_id": "DAE",
     "locked": false,
     "schema_version": 3,
     "solution": true,
     "task": false
    }
   },
   "outputs": [],
   "source": [
    "class DAE(nn.Module):\n",
    "    def __init__(self, n_components=10):\n",
    "        \"\"\"\n",
    "        Args:\n",
    "          n_components (int): Number of outputs in the bottleneck layer.\n",
    "        \"\"\"\n",
    "        # YOUR CODE HERE\n",
    "        #raise NotImplementedError()\n",
    "        super(DAE, self).__init__()\n",
    "        \n",
    "        # ENCODER PART\n",
    "        # Shape (1, 28, 28)\n",
    "        self.conv1 = nn.Conv2d(in_channels=1, out_channels=6, kernel_size=5, stride=1, padding=0)\n",
    "        # Shape (6, 24, 24)\n",
    "        self.relu1 = nn.ReLU()\n",
    "        self.conv2 = nn.Conv2d(in_channels=6, out_channels=16, kernel_size=5, stride=1, padding=0)\n",
    "        # Shape (16, 20, 20)\n",
    "        self.relu2 = nn.ReLU()\n",
    "        self.fc3 = nn.Linear(in_features=6400, out_features=250) # 16 x 20 x 20 = 6400\n",
    "        # Shape (250)\n",
    "        self.relu3 = nn.ReLU()\n",
    "        self.fc4 = nn.Linear(in_features=250, out_features=n_components)\n",
    "        # Shape (n_components)\n",
    "        \n",
    "        # DECODER PART\n",
    "       \n",
    "        self.fc5 = nn.Linear(in_features=n_components, out_features=250)\n",
    "        self.relu5 = nn.ReLU()\n",
    "        # shape (250)\n",
    "        self.fc6 = nn.Linear(in_features=250, out_features=6400)\n",
    "        self.relu6 = nn.ReLU()\n",
    "        # shape (6400)\n",
    "        # Shape (16, 20, 20)\n",
    "        self.convt7 = nn.ConvTranspose2d(in_channels=16, out_channels=6, kernel_size=5, stride=1, padding=0, output_padding=0)\n",
    "        # Shape (6, 20, 20)\n",
    "        self.relu7 = nn.ReLU()\n",
    "        self.convt8 = nn.ConvTranspose2d(in_channels=6, out_channels=1, kernel_size=5, stride=1, padding=0, output_padding=0)\n",
    "        # Shape (1, 28, 28)\n",
    "        self.sigmoid = nn.Sigmoid()\n",
    "        \n",
    "    def forward(self, x):\n",
    "        \"\"\"\n",
    "        Args:\n",
    "          x of shape (batch_size, n_channels=1, width, height): Examples corrupted with noise.\n",
    "\n",
    "        Returns:\n",
    "          z of shape (batch_size, n_components): Outputs of the bottleneck layer.\n",
    "          denoised_x of shape (batch_size, n_channels=1, width, height): Denoised examples.\n",
    "        \"\"\"\n",
    "        # ENCODER PART\n",
    "        z = self.conv1(x)\n",
    "        z = self.relu1(z)\n",
    "        z = self.conv2(z)\n",
    "        z = self.relu2(z)\n",
    "        z = z.reshape(x.size(0), -1)\n",
    "        z = self.fc3(z)\n",
    "        z = self.relu3(z)\n",
    "        z = self.fc4(z)\n",
    "        \n",
    "        # DECODER PART\n",
    "        denoised_x = self.fc5(z)\n",
    "        denoised_x = self.relu5(denoised_x)\n",
    "        denoised_x = self.fc6(denoised_x)\n",
    "        denoised_x = self.relu6(denoised_x)\n",
    "        denoised_x = denoised_x.reshape((x.size(0), 16, 20, 20))\n",
    "        denoised_x = self.convt7(denoised_x)\n",
    "        denoised_x = self.relu7(denoised_x)\n",
    "        denoised_x = self.convt8(denoised_x)\n",
    "        \n",
    "        # Very important. This is denoising cost, check slide 15\n",
    "        denoised_x = x * self.sigmoid(denoised_x)\n",
    "        \n",
    "        return z, denoised_x\n",
    "        # YOUR CODE HERE\n",
    "        #raise NotImplementedError()"
   ]
  },
  {
   "cell_type": "code",
   "execution_count": 59,
   "metadata": {
    "deletable": false,
    "editable": false,
    "nbgrader": {
     "cell_type": "code",
     "checksum": "762ad40a5382484ccd26e888e90e3868",
     "grade": false,
     "grade_id": "cell-00fa5a667ce568cc",
     "locked": true,
     "schema_version": 3,
     "solution": false,
     "task": false
    }
   },
   "outputs": [
    {
     "name": "stdout",
     "output_type": "stream",
     "text": [
      "Success\n"
     ]
    }
   ],
   "source": [
    "def test_DAE_shapes():\n",
    "    n_components = 2\n",
    "    dae = DAE(n_components)\n",
    "\n",
    "    x = torch.randn(3, 1, 28, 28)\n",
    "    z, y = dae(x)\n",
    "    assert z.shape == torch.Size([3, n_components]), f\"Bad z.shape: {z.shape}\"\n",
    "    assert y.shape == x.shape, \"Bad y.shape: {y.shape}\"\n",
    "    print('Success')\n",
    "\n",
    "test_DAE_shapes()"
   ]
  },
  {
   "cell_type": "markdown",
   "metadata": {
    "deletable": false,
    "editable": false,
    "nbgrader": {
     "cell_type": "markdown",
     "checksum": "77dcf973d8738d2241d863fce4f7c2e8",
     "grade": false,
     "grade_id": "cell-b0025c31387e75cf",
     "locked": true,
     "schema_version": 3,
     "solution": false,
     "task": false
    }
   },
   "source": [
    "# Train a denoising autoencoder"
   ]
  },
  {
   "cell_type": "code",
   "execution_count": 60,
   "metadata": {
    "deletable": false,
    "editable": false,
    "nbgrader": {
     "cell_type": "code",
     "checksum": "8d993412a5a1f5975a364f1f810e798c",
     "grade": false,
     "grade_id": "cell-78dea48b9207c439",
     "locked": true,
     "schema_version": 3,
     "solution": false,
     "task": false
    }
   },
   "outputs": [
    {
     "data": {
      "text/plain": [
       "DAE(\n",
       "  (conv1): Conv2d(1, 6, kernel_size=(5, 5), stride=(1, 1))\n",
       "  (relu1): ReLU()\n",
       "  (conv2): Conv2d(6, 16, kernel_size=(5, 5), stride=(1, 1))\n",
       "  (relu2): ReLU()\n",
       "  (fc3): Linear(in_features=6400, out_features=250, bias=True)\n",
       "  (relu3): ReLU()\n",
       "  (fc4): Linear(in_features=250, out_features=10, bias=True)\n",
       "  (fc5): Linear(in_features=10, out_features=250, bias=True)\n",
       "  (relu5): ReLU()\n",
       "  (fc6): Linear(in_features=250, out_features=6400, bias=True)\n",
       "  (relu6): ReLU()\n",
       "  (convt7): ConvTranspose2d(16, 6, kernel_size=(5, 5), stride=(1, 1))\n",
       "  (relu7): ReLU()\n",
       "  (convt8): ConvTranspose2d(6, 1, kernel_size=(5, 5), stride=(1, 1))\n",
       "  (sigmoid): Sigmoid()\n",
       ")"
      ]
     },
     "execution_count": 60,
     "metadata": {},
     "output_type": "execute_result"
    }
   ],
   "source": [
    "# Create an autoencoder\n",
    "n_components = 10\n",
    "dae = DAE(n_components)\n",
    "dae.to(device)"
   ]
  },
  {
   "cell_type": "markdown",
   "metadata": {
    "deletable": false,
    "editable": false,
    "nbgrader": {
     "cell_type": "markdown",
     "checksum": "43719bd8329f33bea79acadd186912b1",
     "grade": false,
     "grade_id": "cell-05c2281f8c2211fc",
     "locked": true,
     "schema_version": 3,
     "solution": false,
     "task": false
    }
   },
   "source": [
    "### Training loop\n",
    "\n",
    "Implement the training loop in the cell below. Training proceeds similarly to the standard bottleneck autoencoder. The difference is that the encoder gets *corrupted* training images as inputs and the targets are the varianceMNIST digits without the corruption noise.\n",
    "\n",
    "The recommended hyperparameters:\n",
    "* Corruption of varianceMNIST images with **additive** Gaussian noise with zero mean and standard deivation $\\sigma_n=0.2$.\n",
    "* Adam optimizer with learning rate 0.001\n",
    "* MSE loss\n",
    "\n",
    "Hints:\n",
    "- Training usually converges fast, a couple of epochs should suffice.\n",
    "- The loss at convergence should be close to 0.009."
   ]
  },
  {
   "cell_type": "code",
   "execution_count": 61,
   "metadata": {
    "deletable": false,
    "nbgrader": {
     "cell_type": "code",
     "checksum": "172280b79837ad6192e61ef225d16ea9",
     "grade": false,
     "grade_id": "training_loop",
     "locked": false,
     "schema_version": 3,
     "solution": true,
     "task": false
    }
   },
   "outputs": [],
   "source": [
    "# Training loop\n",
    "if not skip_training:\n",
    "    # YOUR CODE HERE\n",
    "    # raise NotImplementedError()\n",
    "    optimizer = torch.optim.Adam(dae.parameters(), lr=0.001)\n",
    "    criterion = nn.MSELoss()\n",
    "\n",
    "    for epoch in range(5):\n",
    "        train_loss = []\n",
    "        for images, labels in trainloader:\n",
    "            images = images.to(device)\n",
    "            labels = labels.to(device)\n",
    "            # images is torch.Tensor\n",
    "            noise = images.clone().normal_(mean=0,std=0.2)\n",
    "            optimizer.zero_grad()\n",
    "            # print(type(images.clone()))\n",
    "            latent_space, denoised_images = dae(images+noise)\n",
    "            loss = criterion(denoised_images, images)\n",
    "            loss.backward()\n",
    "            optimizer.step()\n",
    "            train_loss.append(loss.item()) \n",
    "        loss = np.mean(train_loss)\n",
    "        print(f'Epoch {epoch + 1}, Loss: {loss:.4f}')\n"
   ]
  },
  {
   "cell_type": "code",
   "execution_count": 62,
   "metadata": {},
   "outputs": [],
   "source": [
    "# Save the model to disk (the pth-files will be submitted automatically together with your notebook)\n",
    "# Set confirm=False if you do not want to be asked for confirmation before saving.\n",
    "if not skip_training:\n",
    "    tools.save_model(dae, '2_dae.pth', confirm=False)"
   ]
  },
  {
   "cell_type": "code",
   "execution_count": 63,
   "metadata": {
    "deletable": false,
    "editable": false,
    "nbgrader": {
     "cell_type": "code",
     "checksum": "605920466014bd2a7f155aa9bcf22e0a",
     "grade": false,
     "grade_id": "cell-d9871235237c49d0",
     "locked": true,
     "schema_version": 3,
     "solution": false,
     "task": false
    }
   },
   "outputs": [
    {
     "name": "stdout",
     "output_type": "stream",
     "text": [
      "Model loaded from 2_dae.pth.\n"
     ]
    }
   ],
   "source": [
    "if skip_training:\n",
    "    dae = DAE(n_components=10)\n",
    "    tools.load_model(dae, '2_dae.pth', device)"
   ]
  },
  {
   "cell_type": "markdown",
   "metadata": {
    "deletable": false,
    "editable": false,
    "nbgrader": {
     "cell_type": "markdown",
     "checksum": "6d0497cba0dda7555c86c847de8b8fb1",
     "grade": false,
     "grade_id": "cell-7953c9131c274027",
     "locked": true,
     "schema_version": 3,
     "solution": false,
     "task": false
    }
   },
   "source": [
    "### Visualize embeddings\n",
    "\n",
    "Let us visualize the latent space in the cell below. If your DAE does a good job, you should clearly see ten clusters corresponding to the ten classes."
   ]
  },
  {
   "cell_type": "code",
   "execution_count": 64,
   "metadata": {
    "deletable": false,
    "editable": false,
    "nbgrader": {
     "cell_type": "code",
     "checksum": "5175eeff236e291ad5567dc228bf706d",
     "grade": true,
     "grade_id": "cell-7b912a34da7ea0ce",
     "locked": true,
     "points": 0,
     "schema_version": 3,
     "solution": false,
     "task": false
    }
   },
   "outputs": [
    {
     "name": "stdout",
     "output_type": "stream",
     "text": [
      "Use t-SNE\n",
      "/opt/software/lib/python3.9/site-packages/sklearn/manifold/_t_sne.py:780: FutureWarning: The default initialization in TSNE will change from 'random' to 'pca' in 1.2.\n",
      "  warnings.warn(\n",
      "/opt/software/lib/python3.9/site-packages/sklearn/manifold/_t_sne.py:790: FutureWarning: The default learning rate in TSNE will change from 200.0 to 'auto' in 1.2.\n",
      "  warnings.warn(\n"
     ]
    },
    {
     "data": {
      "image/png": "[encoded data removed]",
      "text/plain": [
       "<Figure size 432x288 with 1 Axes>"
      ]
     },
     "metadata": {
      "needs_background": "light"
     },
     "output_type": "display_data"
    }
   ],
   "source": [
    "tests.visualize_embeddings(lambda x: dae(x)[0], trainloader, n_samples=1000, device=device)"
   ]
  },
  {
   "cell_type": "markdown",
   "metadata": {
    "deletable": false,
    "editable": false,
    "nbgrader": {
     "cell_type": "markdown",
     "checksum": "a4ffe217eacbfe3c570b8ded01c07647",
     "grade": false,
     "grade_id": "cell-a12ae53cbe38abd0",
     "locked": true,
     "schema_version": 3,
     "solution": false,
     "task": false
    }
   },
   "source": [
    "In the cell below, we denoise some test images using the trained DAE. If your DAE does a good job, it should remove noise from the background."
   ]
  },
  {
   "cell_type": "code",
   "execution_count": 65,
   "metadata": {
    "deletable": false,
    "editable": false,
    "nbgrader": {
     "cell_type": "code",
     "checksum": "f5050837c044f3589b35753caaf35122",
     "grade": true,
     "grade_id": "cell-9e0b910e916b4703",
     "locked": true,
     "points": 0,
     "schema_version": 3,
     "solution": false,
     "task": false
    }
   },
   "outputs": [
    {
     "data": {
      "image/png": "[encoded data removed]",
      "text/plain": [
       "<Figure size 576x576 with 1 Axes>"
      ]
     },
     "metadata": {},
     "output_type": "display_data"
    }
   ],
   "source": [
    "@torch.no_grad()\n",
    "def plot_denoising(trainloader):\n",
    "    dataiter = iter(trainloader)\n",
    "    images, labels = dataiter.next()\n",
    "    images = images[:4].to(device)\n",
    "\n",
    "    corrupted_images = images + 0.2 * torch.randn_like(images)\n",
    "    z, reconstructions = dae(corrupted_images)\n",
    "    tools.show_images(\n",
    "        torch.cat([corrupted_images, reconstructions]),\n",
    "        ncol=4, cmap=plt.cm.bwr, clim=[-3,3]\n",
    "    )\n",
    "\n",
    "plot_denoising(trainloader)"
   ]
  },
  {
   "cell_type": "markdown",
   "metadata": {
    "deletable": false,
    "editable": false,
    "nbgrader": {
     "cell_type": "markdown",
     "checksum": "564e67c421adcc4ae45ddcbd397dae6d",
     "grade": false,
     "grade_id": "cell-4ed4c7d66516fa37",
     "locked": true,
     "schema_version": 3,
     "solution": false,
     "task": false
    }
   },
   "source": [
    "## Test the quality of the produced embeddings by classification\n",
    "\n",
    "We will test the quality of the produced encodings by training a simple linear regression classifier using the encoded images. If the classifier gives a reasonable accuracy, this is an evidence that we learned to represent the shapes of the digits in the bottleneck layer."
   ]
  },
  {
   "cell_type": "code",
   "execution_count": 66,
   "metadata": {
    "deletable": false,
    "editable": false,
    "nbgrader": {
     "cell_type": "code",
     "checksum": "57772a6e6ab397a144284f09033d5741",
     "grade": false,
     "grade_id": "cell-e0d4533abca6846a",
     "locked": true,
     "schema_version": 3,
     "solution": false,
     "task": false
    }
   },
   "outputs": [],
   "source": [
    "testset = torchvision.datasets.MNIST(root=data_dir, train=False, download=True, transform=transform)\n",
    "testloader = torch.utils.data.DataLoader(testset, batch_size=100, shuffle=False)"
   ]
  },
  {
   "cell_type": "code",
   "execution_count": 67,
   "metadata": {
    "deletable": false,
    "editable": false,
    "nbgrader": {
     "cell_type": "code",
     "checksum": "7d86bf2127b657b336a17413d02bcf75",
     "grade": true,
     "grade_id": "cell-7e181194d756063b",
     "locked": true,
     "points": 0,
     "schema_version": 3,
     "solution": false,
     "task": false
    }
   },
   "outputs": [],
   "source": [
    "# Encode data samples using the encoder\n",
    "@torch.no_grad()\n",
    "def encode(dataset, dae):\n",
    "    dataloader = torch.utils.data.DataLoader(dataset, batch_size=100, shuffle=False)\n",
    "    embeddings = []\n",
    "    labels = []\n",
    "    for images, labels_ in dataloader:\n",
    "        z, rec = dae(images.to(device))\n",
    "        embeddings.append(z)\n",
    "        labels.append(labels_)\n",
    "\n",
    "    embeddings = torch.cat(embeddings, dim=0)\n",
    "    labels = torch.cat(labels, dim=0)\n",
    "    return embeddings, labels"
   ]
  },
  {
   "cell_type": "code",
   "execution_count": 68,
   "metadata": {
    "deletable": false,
    "editable": false,
    "nbgrader": {
     "cell_type": "code",
     "checksum": "69f1b3d73084128ba0675de6aa80ef58",
     "grade": true,
     "grade_id": "cell-f7e691d398ef9135",
     "locked": true,
     "points": 0,
     "schema_version": 3,
     "solution": false,
     "task": false
    }
   },
   "outputs": [],
   "source": [
    "# Save and submit the DAE embeddings\n",
    "if not skip_training:\n",
    "    traincodes, trainlabels = encode(trainset, dae)  # traincodes is (60000, 10)\n",
    "    testcodes, testlabels = encode(testset, dae)  # testcodes is (10000, 10)\n",
    "    torch.save([traincodes, trainlabels, testcodes, testlabels], '2_dae_embeddings.pth')\n",
    "else:\n",
    "    traincodes, trainlabels, testcodes, testlabels = torch.load('2_dae_embeddings.pth', map_location=lambda storage, loc: storage)"
   ]
  },
  {
   "cell_type": "code",
   "execution_count": 69,
   "metadata": {
    "deletable": false,
    "editable": false,
    "nbgrader": {
     "cell_type": "code",
     "checksum": "029ba3921020639b31fd5824d21a574b",
     "grade": true,
     "grade_id": "accuracy",
     "locked": true,
     "points": 2,
     "schema_version": 3,
     "solution": false,
     "task": false
    }
   },
   "outputs": [
    {
     "name": "stdout",
     "output_type": "stream",
     "text": [
      "Accuracy with a linear classifier: 89.19%\n",
      "Success\n"
     ]
    }
   ],
   "source": [
    "# Train a simple linear classifier\n",
    "from sklearn.linear_model import LogisticRegression\n",
    "\n",
    "logreg = LogisticRegression(C=1e5, solver='lbfgs', multi_class='multinomial', max_iter=200)\n",
    "logreg.fit(traincodes.cpu(), trainlabels.cpu())\n",
    "\n",
    "predicted_labels = logreg.predict(testcodes.cpu())  # (10000,)\n",
    "\n",
    "accuracy = np.sum(testlabels.cpu().numpy() == predicted_labels) / predicted_labels.size\n",
    "print('Accuracy with a linear classifier: %.2f%%' % (accuracy*100))\n",
    "assert accuracy > .83, \"Poor accuracy of the embeddings: classification accuracy is %.2f%%\" % (accuracy*100)\n",
    "print('Success')"
   ]
  },
  {
   "cell_type": "markdown",
   "metadata": {
    "deletable": false,
    "editable": false,
    "nbgrader": {
     "cell_type": "markdown",
     "checksum": "f3b1a9f1756b62c370ba87c8f496a926",
     "grade": false,
     "grade_id": "cell-49dd30e7e1be67c5",
     "locked": true,
     "schema_version": 3,
     "solution": false,
     "task": false
    }
   },
   "source": [
    "<div class=\"alert alert-block alert-info\">\n",
    "<b>Conclusions</b>\n",
    "</div>\n",
    "\n",
    "In this exercise, we trained a denoising autoencoder to encode meaningful information in the bottleneck layer. The codes produced in the bottleneck layer are only 10-dimensional but they can represent useful information present in the original $28 \\times 28 = 784$-dimensional images. You can try to use in this task a plain bottleneck autoencoder (trained without the corruption process) with MSE loss and you will see that it fails to develop useful representations."
   ]
  }
 ],
 "metadata": {
  "kernelspec": {
   "display_name": "Python 3",
   "language": "python",
   "name": "python3"
  },
  "language_info": {
   "codemirror_mode": {
    "name": "ipython",
    "version": 3
   },
   "file_extension": ".py",
   "mimetype": "text/x-python",
   "name": "python",
   "nbconvert_exporter": "python",
   "pygments_lexer": "ipython3",
   "version": "3.9.16"
  },
  "varInspector": {
   "cols": {
    "lenName": 16,
    "lenType": 16,
    "lenVar": 40
   },
   "kernels_config": {
    "python": {
     "delete_cmd_postfix": "",
     "delete_cmd_prefix": "del ",
     "library": "var_list.py",
     "varRefreshCmd": "print(var_dic_list())"
    },
    "r": {
     "delete_cmd_postfix": ") ",
     "delete_cmd_prefix": "rm(",
     "library": "var_list.r",
     "varRefreshCmd": "cat(var_dic_list()) "
    }
   },
   "types_to_exclude": [
    "module",
    "function",
    "builtin_function_or_method",
    "instance",
    "_Feature"
   ],
   "window_display": false
  }
 },
 "nbformat": 4,
 "nbformat_minor": 2
}
