{
 "cells": [
  {
   "cell_type": "markdown",
   "metadata": {
    "deletable": false,
    "editable": false,
    "nbgrader": {
     "cell_type": "markdown",
     "checksum": "914ca50d8e597911ef52a1aa3a8cb098",
     "grade": false,
     "grade_id": "cell-c793b2b7fc5465d8",
     "locked": true,
     "schema_version": 3,
     "solution": false,
     "task": false
    }
   },
   "source": [
    "<div class=\"alert alert-block alert-info\">\n",
    "<b>Number of points for this notebook:</b> 6\n",
    "<br>\n",
    "<b>Deadline:</b> March 24, 2021 (Wednesday) 23:00\n",
    "</div>\n",
    "\n",
    "# Exercise 4.2 Recommender system\n",
    "\n",
    "In this exercise, your task is to design a recommender system.\n",
    "\n",
    "## Learning goals:\n",
    "* Practise tuning a neural network model by using different regularization methods."
   ]
  },
  {
   "cell_type": "code",
   "execution_count": 1,
   "metadata": {},
   "outputs": [],
   "source": [
    "import os\n",
    "import pandas as pd\n",
    "import numpy as np\n",
    "import matplotlib.pyplot as plt\n",
    "\n",
    "import torch\n",
    "import torch.nn as nn\n",
    "import torch.optim as optim\n",
    "import torch.nn.functional as F\n",
    "\n",
    "import tools\n",
    "import data"
   ]
  },
  {
   "cell_type": "code",
   "execution_count": 2,
   "metadata": {},
   "outputs": [],
   "source": [
    "skip_training = False  # Set this flag to True before validation and submission\n",
    "skip_tests = False"
   ]
  },
  {
   "cell_type": "code",
   "execution_count": 3,
   "metadata": {
    "deletable": false,
    "editable": false,
    "nbgrader": {
     "cell_type": "code",
     "checksum": "a9fd2ac08ea54f08064d67d81b1af11d",
     "grade": true,
     "grade_id": "cell-281020e1f967884d",
     "locked": true,
     "points": 0,
     "schema_version": 3,
     "solution": false,
     "task": false
    }
   },
   "outputs": [],
   "source": [
    "# During evaluation, this cell sets skip_training to True\n",
    "# skip_training = True"
   ]
  },
  {
   "cell_type": "code",
   "execution_count": 4,
   "metadata": {},
   "outputs": [
    {
     "name": "stdout",
     "output_type": "stream",
     "text": [
      "The data directory is /coursedata\n"
     ]
    }
   ],
   "source": [
    "# When running on your own computer, you can specify the data directory by:\n",
    "# data_dir = tools.select_data_dir('/your/local/data/directory')\n",
    "data_dir = tools.select_data_dir()"
   ]
  },
  {
   "cell_type": "code",
   "execution_count": 5,
   "metadata": {},
   "outputs": [],
   "source": [
    "# Select the device for training (use GPU if you have one)\n",
    "#device = torch.device('cuda:0')\n",
    "device = torch.device('cpu')"
   ]
  },
  {
   "cell_type": "code",
   "execution_count": 6,
   "metadata": {
    "deletable": false,
    "editable": false,
    "nbgrader": {
     "cell_type": "code",
     "checksum": "6dc2c53928c3ad25702c9ac906bc6ac3",
     "grade": false,
     "grade_id": "cell-799c694caf47e754",
     "locked": true,
     "schema_version": 3,
     "solution": false,
     "task": false
    }
   },
   "outputs": [],
   "source": [
    "if skip_training:\n",
    "    # The models are always evaluated on CPU\n",
    "    device = torch.device(\"cpu\")"
   ]
  },
  {
   "cell_type": "markdown",
   "metadata": {
    "deletable": false,
    "editable": false,
    "nbgrader": {
     "cell_type": "markdown",
     "checksum": "59060d908a6d0040774a9a7c24a2b78a",
     "grade": false,
     "grade_id": "cell-93b1b51f03178ceb",
     "locked": true,
     "schema_version": 3,
     "solution": false,
     "task": false
    }
   },
   "source": [
    "## Ratings dataset\n",
    "\n",
    "We will train the recommender system on the dataset in which element consists of three values:\n",
    "* `user_id` - id of the user (the smallest user id is 1)\n",
    "* `item_id` - id of the movie (the smallest item id is 1)\n",
    "* `rating` - rating given by the user to the item (ratings are integer numbers between 1 and 5.\n",
    "\n",
    "The recommender system need to predict the rating for any given pair of `user_id` and `item_id`.\n",
    "\n",
    "We measure the quality of the predicted ratings using the mean-squared error (MSE) loss:\n",
    "$$\n",
    "  \\frac{1}{N}\\sum_{i=1}^N (r_i - \\hat{r}_i)^2\n",
    "$$\n",
    "where $r_i$ is a real rating and $\\hat{r}_i$ is a predicted one.\n",
    "\n",
    "Note: The predicted rating $\\hat{r}_i$ does not have to be an integer number."
   ]
  },
  {
   "cell_type": "code",
   "execution_count": 7,
   "metadata": {
    "deletable": false,
    "editable": false,
    "nbgrader": {
     "cell_type": "code",
     "checksum": "49c9bb6f71c5bebac88f572ebc5fdf21",
     "grade": false,
     "grade_id": "cell-fb7ca3b718244670",
     "locked": true,
     "schema_version": 3,
     "solution": false,
     "task": false
    }
   },
   "outputs": [],
   "source": [
    "trainset = data.RatingsData(root=data_dir, train=True)\n",
    "testset = data.RatingsData(root=data_dir, train=False)"
   ]
  },
  {
   "cell_type": "code",
   "execution_count": 8,
   "metadata": {},
   "outputs": [],
   "source": [
    "trainloader = torch.utils.data.DataLoader(trainset, batch_size=32, shuffle=True)\n",
    "testloader = torch.utils.data.DataLoader(testset, batch_size=5, shuffle=False)"
   ]
  },
  {
   "cell_type": "code",
   "execution_count": 9,
   "metadata": {
    "deletable": false,
    "editable": false,
    "nbgrader": {
     "cell_type": "code",
     "checksum": "aa25e5e6256ec9dcb5dffe5b20d88f87",
     "grade": false,
     "grade_id": "cell-35493e186fda7a43",
     "locked": true,
     "schema_version": 3,
     "solution": false,
     "task": false
    }
   },
   "outputs": [
    {
     "name": "stdout",
     "output_type": "stream",
     "text": [
      "user_id=1, item_id=1, rating=5\n"
     ]
    }
   ],
   "source": [
    "# Print one sample from the dataset\n",
    "x = trainset[0]\n",
    "print(f'user_id={x[0]}, item_id={x[1]}, rating={x[2]}')"
   ]
  },
  {
   "cell_type": "markdown",
   "metadata": {
    "deletable": false,
    "editable": false,
    "nbgrader": {
     "cell_type": "markdown",
     "checksum": "ee8820cbf2cb7599f7f94fdf6c67e582",
     "grade": false,
     "grade_id": "cell-40d7d3e85e395d42",
     "locked": true,
     "schema_version": 3,
     "solution": false,
     "task": false
    }
   },
   "source": [
    "# Model\n",
    "\n",
    "You need to design a recommender system model with the API described in the cell below.\n",
    "\n",
    "Hints on the model architecture:\n",
    "* You need to use [torch.nn.Embedding](https://pytorch.org/docs/stable/generated/torch.nn.Embedding.html?highlight=embedding#torch.nn.Embedding) layer to convert inputs `user_ids` and `item_ids` into reasonable representations. The idea of the embedding layer is that we want to represent similar users with values that are close to each other. The original representation as integers is not good for that. By using the embedding layer, we can learn such useful representations automatically.\n",
    "\n",
    "### Model tuning\n",
    "\n",
    "In this exercise, you need to tune the architecture of your model to achieve the best performance on the provided test set. You will notice that overfitting is a severe problem for this data: The model can easily overfit the training set producing poor accuracy on the out-of-training (test) data.\n",
    "\n",
    "You need to find an optimal combination of the hyperparameters, with some hyperparameters corresponding to the regularization techniques that we studied in the lecture.\n",
    "\n",
    "The hyperparameters that you are advised to consider:\n",
    "* Learning rate value and learning rate schedule (decresing the learning rate often has positive effect on the model performance)\n",
    "* Number of training epochs\n",
    "* Network size\n",
    "* Weight decay\n",
    "* Early stopping\n",
    "* Dropout\n",
    "* Increase amount of data:\n",
    "  * Data augmentation\n",
    "  * Injecting noise\n",
    "\n",
    "You can tune the hyperparameters by, for example, grid search, random search or manual tuning.\n",
    "\n",
    "Note:\n",
    "* The number of points that you will get from this exercise depends on the MSE loss on the test set:\n",
    "  * below 1.00: 1 point\n",
    "  * below 0.95: 2 points\n",
    "  * below 0.92: 3 points\n",
    "  * below 0.90: 4 points\n",
    "  * below 0.89: 5 points\n",
    "  * below 0.88: 6 points "
   ]
  },
  {
   "cell_type": "code",
   "execution_count": 10,
   "metadata": {
    "deletable": false,
    "nbgrader": {
     "cell_type": "code",
     "checksum": "6fd13b1a6efb3fc5411755f460795f22",
     "grade": false,
     "grade_id": "cell-c3cffbe259a08d4d",
     "locked": false,
     "schema_version": 3,
     "solution": true,
     "task": false
    }
   },
   "outputs": [],
   "source": [
    "class RecommenderSystem(nn.Module):\n",
    "    def __init__(self, n_users, n_items,\n",
    "                 embed_size = 100,\n",
    "                 drop_embed = 0.02, drop_hl = 0.2,\n",
    "                 n_layers = 2, layer_size = 100):\n",
    "        \"\"\"\n",
    "        Args:\n",
    "          n_users: Number of users.\n",
    "          n_items: Number of items.\n",
    "        \"\"\"\n",
    "        # YOUR CODE HERE\n",
    "        super(RecommenderSystem, self).__init__()\n",
    "        \n",
    "        self.users = nn.Embedding(n_users+1, embed_size)\n",
    "        self.items = nn.Embedding(n_items+1, embed_size)\n",
    "        \n",
    "        if drop_hl is not None:\n",
    "            self.drop = nn.Dropout(drop_embed)\n",
    "        else:\n",
    "            self.drop = nn.Sequential()\n",
    "        \n",
    "        def hiden_layers(n_in):\n",
    "            for _ in range(n_layers):\n",
    "                yield nn.Linear(n_in, layer_size)\n",
    "                yield nn.ReLU()\n",
    "                if drop_hl is not None:\n",
    "                    yield nn.Dropout(drop_hl)\n",
    "                n_in = layer_size\n",
    "        \n",
    "        self.hl = nn.Sequential(*list(hiden_layers(embed_size * 2)))\n",
    "        \n",
    "        self.fc = nn.Linear(layer_size,1)\n",
    "        #raise NotImplementedError()\n",
    "        \n",
    "    def forward(self, user_ids, item_ids):\n",
    "        \"\"\"\n",
    "        Args:\n",
    "          user_ids of shape (batch_size): User ids (starting from 1).\n",
    "          item_ids of shape (batch_size): Item ids (starting from 1).\n",
    "        \n",
    "        Returns:\n",
    "          outputs of shape (batch_size): Predictions of ratings.\n",
    "        \"\"\"\n",
    "        # YOUR CODE HERE\n",
    "        usr = self.users(user_ids)\n",
    "        itm = self.items(item_ids)\n",
    "        x = torch.cat([usr, itm], dim=1)\n",
    "        x = self.drop(x)\n",
    "        x = self.hl(x)\n",
    "        y = torch.sigmoid(self.fc(x)).flatten()*5\n",
    "        return y\n",
    "        #raise NotImplementedError()"
   ]
  },
  {
   "cell_type": "markdown",
   "metadata": {
    "deletable": false,
    "editable": false,
    "nbgrader": {
     "cell_type": "markdown",
     "checksum": "01bb09f330da9db46e6c8215cba93908",
     "grade": false,
     "grade_id": "cell-4963b96623072e67",
     "locked": true,
     "schema_version": 3,
     "solution": false,
     "task": false
    }
   },
   "source": [
    "You can test the shapes of the model outputs using the function below."
   ]
  },
  {
   "cell_type": "code",
   "execution_count": 11,
   "metadata": {
    "deletable": false,
    "editable": false,
    "nbgrader": {
     "cell_type": "code",
     "checksum": "66e06523fac3af0ef33791d1f4b8b3d8",
     "grade": false,
     "grade_id": "cell-c6083c824af45d0c",
     "locked": true,
     "schema_version": 3,
     "solution": false,
     "task": false
    }
   },
   "outputs": [
    {
     "name": "stdout",
     "output_type": "stream",
     "text": [
      "torch.Size([10])\n",
      "Success\n"
     ]
    }
   ],
   "source": [
    "def test_RecommenderSystem_shapes():\n",
    "    n_users, n_items = 100, 1000\n",
    "    model = RecommenderSystem(n_users, n_items)\n",
    "    batch_size = 10\n",
    "    user_ids = torch.arange(1, batch_size+1)\n",
    "    item_ids = torch.arange(1, batch_size+1)\n",
    "    output = model(user_ids, item_ids)\n",
    "    print(output.shape)\n",
    "    assert output.shape == torch.Size([batch_size]), \"Wrong output shape.\"\n",
    "    print('Success')\n",
    "\n",
    "test_RecommenderSystem_shapes()"
   ]
  },
  {
   "cell_type": "code",
   "execution_count": 12,
   "metadata": {
    "deletable": false,
    "editable": false,
    "nbgrader": {
     "cell_type": "code",
     "checksum": "450b5cbba95ea6ca97ff7d0c086abcc2",
     "grade": true,
     "grade_id": "cell-77bda8eb73762ef9",
     "locked": true,
     "points": 0,
     "schema_version": 3,
     "solution": false,
     "task": false
    }
   },
   "outputs": [],
   "source": [
    "# This cell is reserved for testing"
   ]
  },
  {
   "cell_type": "markdown",
   "metadata": {
    "deletable": false,
    "editable": false,
    "nbgrader": {
     "cell_type": "markdown",
     "checksum": "df556c08fdc19d169c17762fc7c4e40f",
     "grade": false,
     "grade_id": "cell-ba8b7cb0e60e0809",
     "locked": true,
     "schema_version": 3,
     "solution": false,
     "task": false
    }
   },
   "source": [
    "## Train the model\n",
    "\n",
    "You need to train a recommender system using **only the training data.** Please use the test set to select the best model: the model that generalizes best to out-of-training data."
   ]
  },
  {
   "cell_type": "code",
   "execution_count": 13,
   "metadata": {
    "deletable": false,
    "editable": false,
    "nbgrader": {
     "cell_type": "code",
     "checksum": "2b40e6793fc8e2aa368d373daf4c6dbc",
     "grade": false,
     "grade_id": "cell-d149dfc0245469b4",
     "locked": true,
     "schema_version": 3,
     "solution": false,
     "task": false
    }
   },
   "outputs": [],
   "source": [
    "# Create the model\n",
    "model = RecommenderSystem(trainset.n_users, trainset.n_items)"
   ]
  },
  {
   "cell_type": "code",
   "execution_count": 33,
   "metadata": {},
   "outputs": [],
   "source": [
    "class EarlyStopping:\n",
    "    def __init__(self, tolerance, patience):\n",
    "        \"\"\"\n",
    "        Args:\n",
    "          patience (int):    Maximum number of epochs with unsuccessful updates.\n",
    "          tolerance (float): We assume that the update is unsuccessful if the validation error is larger\n",
    "                              than the best validation error so far plus this tolerance.\n",
    "        \"\"\"\n",
    "        self.tolerance = tolerance\n",
    "        self.patience = patience\n",
    "    \n",
    "    def stop_criterion(self, val_errors):\n",
    "        \"\"\"\n",
    "        Args:\n",
    "          val_errors (iterable): Validation errors after every update during training.\n",
    "        \n",
    "        Returns: True if training should be stopped: when the validation error is larger than the best\n",
    "                  validation error obtained so far (with given tolearance) for patience epochs (number of consecutive epochs for which the criterion is satisfied).\n",
    "                 \n",
    "                 Otherwise, False.\n",
    "        \"\"\"\n",
    "        if len(val_errors) <= self.patience:\n",
    "            return False\n",
    "\n",
    "        min_val_error = min(val_errors)\n",
    "        val_errors = np.array(val_errors[-self.patience:])\n",
    "        return val_errors[-1] > min_val_error + self.tolerance"
   ]
  },
  {
   "cell_type": "code",
   "execution_count": 15,
   "metadata": {},
   "outputs": [],
   "source": [
    "# This is the function to compute the loss:\n",
    "def compute_loss(model, x1, x2, y):\n",
    "    model.eval()\n",
    "    with torch.no_grad():\n",
    "        outputs = model.forward(x1,x2)\n",
    "        loss = F.mse_loss(outputs, y)\n",
    "        return loss.cpu().numpy()\n",
    "\n",
    "# This is the function to print the progress during training\n",
    "def print_progress(epoch, train_error, val_error):\n",
    "    print('Epoch {}: Train error: {:.4f}, Test error: {:.4f}'.format(\n",
    "        epoch, train_error, val_error))"
   ]
  },
  {
   "cell_type": "code",
   "execution_count": 31,
   "metadata": {
    "deletable": false,
    "nbgrader": {
     "cell_type": "code",
     "checksum": "9ae611f86dc42c930a1421847d3310e8",
     "grade": false,
     "grade_id": "cell-d821843867334aed",
     "locked": false,
     "schema_version": 3,
     "solution": true,
     "task": false
    }
   },
   "outputs": [],
   "source": [
    "# Implement the training loop in this cell\n",
    "def train_model(embed_size = 100,\n",
    "                drop_embed = 0.02, drop_hl = 0.2,\n",
    "                n_layers = 2, layer_size = 100,\n",
    "                epochs = 50, lr = 0.0001, wd = 0.001,\n",
    "                early_stop = True, tolerance = 0.001, patience = 15):    \n",
    "    \n",
    "    model = RecommenderSystem(trainset.n_users, trainset.n_items, embed_size, \n",
    "                              drop_embed, drop_hl,\n",
    "                              n_layers, layer_size)\n",
    "    \n",
    "    if not skip_training:\n",
    "        # YOUR CODE HERE\n",
    "        model.zero_grad()\n",
    "        lossFunc = F.mse_loss\n",
    "        \n",
    "        if wd is not None:\n",
    "            optimizer = torch.optim.Adam(model.parameters(), lr = lr, weight_decay = wd)\n",
    "        else: \n",
    "            optimizer = torch.optim.Adam(model.parameters(), lr = lr)\n",
    "\n",
    "        if early_stop:\n",
    "            eStop = EarlyStopping(tolerance=tolerance, patience=patience)\n",
    "        \n",
    "        train_errors = []\n",
    "        val_errors = []\n",
    "        \n",
    "        for epoch in range(epochs):\n",
    "            model.train()\n",
    "            for user_ids, item_ids, ratings in trainloader:\n",
    "                optimizer.zero_grad()\n",
    "                ratings = ratings.to(torch.float32)\n",
    "                y = model.forward(user_ids, item_ids)\n",
    "                loss = lossFunc(y, ratings)\n",
    "                loss.backward()\n",
    "                optimizer.step()\n",
    "\n",
    "            train_error = compute_loss(model, trainset[:][0], trainset[:][1], trainset[:][2])\n",
    "            train_errors.append(train_error)\n",
    "            \n",
    "            val_error = compute_loss(model, testset[:][0], testset[:][1], testset[:][2])\n",
    "            val_errors.append(val_error)\n",
    "            \n",
    "            print_progress(epoch, train_error, val_error)\n",
    "            \n",
    "            if early_stop and eStop.stop_criterion(val_errors):\n",
    "                print('Stop after %d epochs' % epoch)\n",
    "                break\n",
    "        \n",
    "        if early_stop:\n",
    "            N = epoch+1\n",
    "        else:\n",
    "            N = epochs\n",
    "            \n",
    "        plt.plot(range(N), train_errors, label = 'training loss')\n",
    "        plt.plot(range(N), val_errors, label = 'validation loss')\n",
    "        print('Final Test error:',val_errors[-1])\n",
    "        \n",
    "        return model"
   ]
  },
  {
   "cell_type": "code",
   "execution_count": 17,
   "metadata": {},
   "outputs": [
    {
     "name": "stderr",
     "output_type": "stream",
     "text": [
      "/opt/conda/lib/python3.8/site-packages/torch/autograd/__init__.py:130: UserWarning: CUDA initialization: Found no NVIDIA driver on your system. Please check that you have an NVIDIA GPU and installed a driver from http://www.nvidia.com/Download/index.aspx (Triggered internally at  /opt/conda/conda-bld/pytorch_1603729096996/work/c10/cuda/CUDAFunctions.cpp:100.)\n",
      "  Variable._execution_engine.run_backward(\n"
     ]
    },
    {
     "name": "stdout",
     "output_type": "stream",
     "text": [
      "Epoch 0: Train error: 1.0788, Test error: 1.1076\n",
      "Epoch 1: Train error: 0.9756, Test error: 1.0292\n",
      "Epoch 2: Train error: 0.9139, Test error: 0.9929\n",
      "Epoch 3: Train error: 0.8734, Test error: 0.9735\n",
      "Epoch 4: Train error: 0.8454, Test error: 0.9681\n",
      "Epoch 5: Train error: 0.8159, Test error: 0.9562\n",
      "Epoch 6: Train error: 0.7997, Test error: 0.9621\n",
      "Epoch 7: Train error: 0.7745, Test error: 0.9542\n",
      "Epoch 8: Train error: 0.7595, Test error: 0.9606\n",
      "Epoch 9: Train error: 0.7406, Test error: 0.9581\n",
      "Final Test error: 0.9581003\n"
     ]
    },
    {
     "data": {
      "image/png": "[encoded data removed]",
      "text/plain": [
       "<Figure size 432x288 with 1 Axes>"
      ]
     },
     "metadata": {
      "needs_background": "light"
     },
     "output_type": "display_data"
    }
   ],
   "source": [
    "if not skip_tests:\n",
    "    #Without regularization\n",
    "    train_model(embed_size = 100,\n",
    "                drop_embed = None, drop_hl = None,\n",
    "                n_layers = 2, layer_size = 100,\n",
    "                epochs = 10, lr = 0.0001, wd = None,\n",
    "                early_stop = False)"
   ]
  },
  {
   "cell_type": "code",
   "execution_count": 18,
   "metadata": {},
   "outputs": [
    {
     "name": "stdout",
     "output_type": "stream",
     "text": [
      "Epoch 0: Train error: 1.0974, Test error: 1.1296\n",
      "Epoch 1: Train error: 1.0064, Test error: 1.0641\n",
      "Epoch 2: Train error: 0.9475, Test error: 1.0215\n",
      "Epoch 3: Train error: 0.9076, Test error: 0.9932\n",
      "Epoch 4: Train error: 0.8761, Test error: 0.9752\n",
      "Epoch 5: Train error: 0.8509, Test error: 0.9584\n",
      "Epoch 6: Train error: 0.8331, Test error: 0.9500\n",
      "Epoch 7: Train error: 0.8129, Test error: 0.9370\n",
      "Epoch 8: Train error: 0.8001, Test error: 0.9330\n",
      "Epoch 9: Train error: 0.7772, Test error: 0.9186\n",
      "Final Test error: 0.9185929\n"
     ]
    },
    {
     "data": {
      "image/png": "[encoded data removed]",
      "text/plain": [
       "<Figure size 432x288 with 1 Axes>"
      ]
     },
     "metadata": {
      "needs_background": "light"
     },
     "output_type": "display_data"
    }
   ],
   "source": [
    "if not skip_tests:\n",
    "    #With weight decay\n",
    "    train_model(embed_size = 100,\n",
    "                drop_embed = None, drop_hl = None,\n",
    "                n_layers = 2, layer_size = 100,\n",
    "                epochs = 10, lr = 0.0001, wd = 0.001,\n",
    "                early_stop = False)"
   ]
  },
  {
   "cell_type": "code",
   "execution_count": 19,
   "metadata": {},
   "outputs": [
    {
     "name": "stdout",
     "output_type": "stream",
     "text": [
      "Epoch 0: Train error: 1.1031, Test error: 1.1296\n",
      "Epoch 1: Train error: 1.0171, Test error: 1.0591\n",
      "Epoch 2: Train error: 0.9593, Test error: 1.0173\n",
      "Epoch 3: Train error: 0.9157, Test error: 0.9866\n",
      "Epoch 4: Train error: 0.8834, Test error: 0.9647\n",
      "Epoch 5: Train error: 0.8591, Test error: 0.9484\n",
      "Epoch 6: Train error: 0.8377, Test error: 0.9374\n",
      "Epoch 7: Train error: 0.8158, Test error: 0.9238\n",
      "Epoch 8: Train error: 0.8001, Test error: 0.9167\n",
      "Epoch 9: Train error: 0.7833, Test error: 0.9062\n",
      "Final Test error: 0.90617585\n"
     ]
    },
    {
     "data": {
      "image/png": "[encoded data removed]",
      "text/plain": [
       "<Figure size 432x288 with 1 Axes>"
      ]
     },
     "metadata": {
      "needs_background": "light"
     },
     "output_type": "display_data"
    }
   ],
   "source": [
    "if not skip_tests:\n",
    "    #With weight decay and dropping after embedding\n",
    "    train_model(embed_size = 100,\n",
    "                drop_embed = 0.2, drop_hl = None,\n",
    "                n_layers = 2, layer_size = 100,\n",
    "                epochs = 10, lr = 0.0001, wd = 0.001,\n",
    "                early_stop = False)"
   ]
  },
  {
   "cell_type": "code",
   "execution_count": 20,
   "metadata": {},
   "outputs": [
    {
     "name": "stdout",
     "output_type": "stream",
     "text": [
      "Epoch 0: Train error: 1.1661, Test error: 1.1809\n",
      "Epoch 1: Train error: 1.1075, Test error: 1.1334\n",
      "Epoch 2: Train error: 1.0484, Test error: 1.0837\n",
      "Epoch 3: Train error: 1.0062, Test error: 1.0453\n",
      "Epoch 4: Train error: 0.9723, Test error: 1.0128\n",
      "Epoch 5: Train error: 0.9463, Test error: 0.9879\n",
      "Epoch 6: Train error: 0.9225, Test error: 0.9672\n",
      "Epoch 7: Train error: 0.9026, Test error: 0.9481\n",
      "Epoch 8: Train error: 0.8820, Test error: 0.9266\n",
      "Epoch 9: Train error: 0.8674, Test error: 0.9121\n",
      "Final Test error: 0.912052\n"
     ]
    },
    {
     "data": {
      "image/png": "[encoded data removed]",
      "text/plain": [
       "<Figure size 432x288 with 1 Axes>"
      ]
     },
     "metadata": {
      "needs_background": "light"
     },
     "output_type": "display_data"
    }
   ],
   "source": [
    "if not skip_tests:\n",
    "    #With weight decay, dropping after embedding and dropping between layers\n",
    "    train_model(embed_size = 100,\n",
    "                drop_embed = 0.2, drop_hl = 0.2,\n",
    "                n_layers = 2, layer_size = 100,\n",
    "                epochs = 10, lr = 0.0001, wd = 0.001,\n",
    "                early_stop = False)"
   ]
  },
  {
   "cell_type": "code",
   "execution_count": 21,
   "metadata": {},
   "outputs": [
    {
     "name": "stdout",
     "output_type": "stream",
     "text": [
      "Epoch 0: Train error: 1.1680, Test error: 1.1815\n",
      "Epoch 1: Train error: 1.1039, Test error: 1.1324\n",
      "Epoch 2: Train error: 1.0579, Test error: 1.0940\n",
      "Epoch 3: Train error: 1.0144, Test error: 1.0542\n",
      "Epoch 4: Train error: 0.9781, Test error: 1.0224\n",
      "Epoch 5: Train error: 0.9441, Test error: 0.9943\n",
      "Epoch 6: Train error: 0.9224, Test error: 0.9720\n",
      "Epoch 7: Train error: 0.9049, Test error: 0.9535\n",
      "Epoch 8: Train error: 0.8866, Test error: 0.9360\n",
      "Epoch 9: Train error: 0.8676, Test error: 0.9163\n",
      "Epoch 10: Train error: 0.8565, Test error: 0.9040\n",
      "Epoch 11: Train error: 0.8471, Test error: 0.8936\n",
      "Epoch 12: Train error: 0.8379, Test error: 0.8866\n",
      "Epoch 13: Train error: 0.8308, Test error: 0.8806\n",
      "Epoch 14: Train error: 0.8235, Test error: 0.8745\n",
      "Epoch 15: Train error: 0.8186, Test error: 0.8703\n",
      "Epoch 16: Train error: 0.8117, Test error: 0.8651\n",
      "Epoch 17: Train error: 0.8077, Test error: 0.8628\n",
      "Epoch 18: Train error: 0.8025, Test error: 0.8616\n",
      "Epoch 19: Train error: 0.7959, Test error: 0.8575\n",
      "Epoch 20: Train error: 0.7935, Test error: 0.8574\n",
      "Epoch 21: Train error: 0.7903, Test error: 0.8574\n",
      "Epoch 22: Train error: 0.7839, Test error: 0.8554\n",
      "Epoch 23: Train error: 0.7778, Test error: 0.8527\n",
      "Epoch 24: Train error: 0.7704, Test error: 0.8496\n",
      "Epoch 25: Train error: 0.7607, Test error: 0.8484\n",
      "Epoch 26: Train error: 0.7536, Test error: 0.8474\n",
      "Epoch 27: Train error: 0.7461, Test error: 0.8457\n",
      "Epoch 28: Train error: 0.7351, Test error: 0.8421\n",
      "Epoch 29: Train error: 0.7249, Test error: 0.8409\n",
      "Epoch 30: Train error: 0.7171, Test error: 0.8394\n",
      "Epoch 31: Train error: 0.7059, Test error: 0.8374\n",
      "Epoch 32: Train error: 0.6973, Test error: 0.8357\n",
      "Epoch 33: Train error: 0.6902, Test error: 0.8363\n",
      "Epoch 34: Train error: 0.6810, Test error: 0.8387\n",
      "Epoch 35: Train error: 0.6724, Test error: 0.8405\n",
      "Epoch 36: Train error: 0.6623, Test error: 0.8403\n",
      "Epoch 37: Train error: 0.6521, Test error: 0.8439\n",
      "Epoch 38: Train error: 0.6454, Test error: 0.8451\n",
      "Epoch 39: Train error: 0.6329, Test error: 0.8492\n",
      "Epoch 40: Train error: 0.6253, Test error: 0.8475\n",
      "Epoch 41: Train error: 0.6164, Test error: 0.8509\n",
      "Epoch 42: Train error: 0.6105, Test error: 0.8522\n",
      "Epoch 43: Train error: 0.6066, Test error: 0.8508\n",
      "Epoch 44: Train error: 0.5914, Test error: 0.8537\n",
      "Epoch 45: Train error: 0.5860, Test error: 0.8555\n",
      "Epoch 46: Train error: 0.5774, Test error: 0.8554\n",
      "Epoch 47: Train error: 0.5689, Test error: 0.8573\n",
      "Epoch 48: Train error: 0.5636, Test error: 0.8563\n",
      "Epoch 49: Train error: 0.5539, Test error: 0.8600\n",
      "Final Test error: 0.86000276\n"
     ]
    },
    {
     "data": {
      "image/png": "[encoded data removed]",
      "text/plain": [
       "<Figure size 432x288 with 1 Axes>"
      ]
     },
     "metadata": {
      "needs_background": "light"
     },
     "output_type": "display_data"
    }
   ],
   "source": [
    "if not skip_tests:\n",
    "    #With weight decay, dropping after embedding and dropping between layers with more (50) epochs\n",
    "    train_model(embed_size = 100,\n",
    "                drop_embed = 0.2, drop_hl = 0.2,\n",
    "                n_layers = 2, layer_size = 100,\n",
    "                epochs = 50, lr = 0.0001, wd = 0.001,\n",
    "                early_stop = False)"
   ]
  },
  {
   "cell_type": "code",
   "execution_count": 34,
   "metadata": {},
   "outputs": [
    {
     "name": "stdout",
     "output_type": "stream",
     "text": [
      "Epoch 0: Train error: 1.1300, Test error: 1.1568\n",
      "True\n",
      "len: 1 | patience: 15\n",
      "Crit: False\n",
      "len: 1 | patience: 15\n",
      "Epoch 1: Train error: 1.0536, Test error: 1.0954\n",
      "True\n",
      "len: 2 | patience: 15\n",
      "Crit: False\n",
      "len: 2 | patience: 15\n",
      "Epoch 2: Train error: 0.9957, Test error: 1.0457\n",
      "True\n",
      "len: 3 | patience: 15\n",
      "Crit: False\n",
      "len: 3 | patience: 15\n",
      "Epoch 3: Train error: 0.9518, Test error: 1.0064\n",
      "True\n",
      "len: 4 | patience: 15\n",
      "Crit: False\n",
      "len: 4 | patience: 15\n",
      "Epoch 4: Train error: 0.9184, Test error: 0.9761\n",
      "True\n",
      "len: 5 | patience: 15\n",
      "Crit: False\n",
      "len: 5 | patience: 15\n",
      "Epoch 5: Train error: 0.8939, Test error: 0.9575\n",
      "True\n",
      "len: 6 | patience: 15\n",
      "Crit: False\n",
      "len: 6 | patience: 15\n",
      "Epoch 6: Train error: 0.8712, Test error: 0.9373\n",
      "True\n",
      "len: 7 | patience: 15\n",
      "Crit: False\n",
      "len: 7 | patience: 15\n",
      "Epoch 7: Train error: 0.8516, Test error: 0.9191\n",
      "True\n",
      "len: 8 | patience: 15\n",
      "Crit: False\n",
      "len: 8 | patience: 15\n",
      "Epoch 8: Train error: 0.8344, Test error: 0.9062\n",
      "True\n",
      "len: 9 | patience: 15\n",
      "Crit: False\n",
      "len: 9 | patience: 15\n",
      "Epoch 9: Train error: 0.8200, Test error: 0.8956\n",
      "True\n",
      "len: 10 | patience: 15\n",
      "Crit: False\n",
      "len: 10 | patience: 15\n",
      "Epoch 10: Train error: 0.8087, Test error: 0.8885\n",
      "True\n",
      "len: 11 | patience: 15\n",
      "Crit: False\n",
      "len: 11 | patience: 15\n",
      "Epoch 11: Train error: 0.7974, Test error: 0.8794\n",
      "True\n",
      "len: 12 | patience: 15\n",
      "Crit: False\n",
      "len: 12 | patience: 15\n",
      "Epoch 12: Train error: 0.7871, Test error: 0.8748\n",
      "True\n",
      "len: 13 | patience: 15\n",
      "Crit: False\n",
      "len: 13 | patience: 15\n",
      "Epoch 13: Train error: 0.7787, Test error: 0.8719\n",
      "True\n",
      "len: 14 | patience: 15\n",
      "Crit: False\n",
      "len: 14 | patience: 15\n",
      "Epoch 14: Train error: 0.7689, Test error: 0.8686\n",
      "True\n",
      "len: 15 | patience: 15\n",
      "Crit: False\n",
      "len: 15 | patience: 15\n",
      "Epoch 15: Train error: 0.7584, Test error: 0.8650\n",
      "True\n",
      "len: 16 | patience: 15\n",
      "l_error 0.8649836 min+tol: 0.8659836182594299\n",
      "Crit: False\n",
      "len: 16 | patience: 15\n",
      "l_error 0.8649836 min+tol: 0.8659836182594299\n",
      "Epoch 16: Train error: 0.7453, Test error: 0.8602\n",
      "True\n",
      "len: 17 | patience: 15\n",
      "l_error 0.86021054 min+tol: 0.8612105379104614\n",
      "Crit: False\n",
      "len: 17 | patience: 15\n",
      "l_error 0.86021054 min+tol: 0.8612105379104614\n",
      "Epoch 17: Train error: 0.7329, Test error: 0.8554\n",
      "True\n",
      "len: 18 | patience: 15\n",
      "l_error 0.8554025 min+tol: 0.8564025292396545\n",
      "Crit: False\n",
      "len: 18 | patience: 15\n",
      "l_error 0.8554025 min+tol: 0.8564025292396545\n",
      "Epoch 18: Train error: 0.7193, Test error: 0.8538\n",
      "True\n",
      "len: 19 | patience: 15\n",
      "l_error 0.85376817 min+tol: 0.8547681698799133\n",
      "Crit: False\n",
      "len: 19 | patience: 15\n",
      "l_error 0.85376817 min+tol: 0.8547681698799133\n",
      "Epoch 19: Train error: 0.7007, Test error: 0.8507\n",
      "True\n",
      "len: 20 | patience: 15\n",
      "l_error 0.8506551 min+tol: 0.8516550788879395\n",
      "Crit: False\n",
      "len: 20 | patience: 15\n",
      "l_error 0.8506551 min+tol: 0.8516550788879395\n",
      "Epoch 20: Train error: 0.6871, Test error: 0.8492\n",
      "True\n",
      "len: 21 | patience: 15\n",
      "l_error 0.8491944 min+tol: 0.8501944074630737\n",
      "Crit: False\n",
      "len: 21 | patience: 15\n",
      "l_error 0.8491944 min+tol: 0.8501944074630737\n",
      "Epoch 21: Train error: 0.6671, Test error: 0.8474\n",
      "True\n",
      "len: 22 | patience: 15\n",
      "l_error 0.8473723 min+tol: 0.84837229347229\n",
      "Crit: False\n",
      "len: 22 | patience: 15\n",
      "l_error 0.8473723 min+tol: 0.84837229347229\n",
      "Epoch 22: Train error: 0.6527, Test error: 0.8459\n",
      "True\n",
      "len: 23 | patience: 15\n",
      "l_error 0.84587044 min+tol: 0.8468704352378845\n",
      "Crit: False\n",
      "len: 23 | patience: 15\n",
      "l_error 0.84587044 min+tol: 0.8468704352378845\n",
      "Epoch 23: Train error: 0.6355, Test error: 0.8455\n",
      "True\n",
      "len: 24 | patience: 15\n",
      "l_error 0.8455293 min+tol: 0.846529317855835\n",
      "Crit: False\n",
      "len: 24 | patience: 15\n",
      "l_error 0.8455293 min+tol: 0.846529317855835\n",
      "Epoch 24: Train error: 0.6181, Test error: 0.8456\n",
      "True\n",
      "len: 25 | patience: 15\n",
      "l_error 0.845567 min+tol: 0.846529317855835\n",
      "Crit: False\n",
      "len: 25 | patience: 15\n",
      "l_error 0.845567 min+tol: 0.846529317855835\n",
      "Epoch 25: Train error: 0.5981, Test error: 0.8500\n",
      "True\n",
      "len: 26 | patience: 15\n",
      "l_error 0.84997815 min+tol: 0.846529317855835\n",
      "Crit: True\n",
      "len: 26 | patience: 15\n",
      "l_error 0.84997815 min+tol: 0.846529317855835\n",
      "Stop after 25 epochs\n",
      "Final Test error: 0.84997815\n"
     ]
    },
    {
     "data": {
      "image/png": "[encoded data removed]",
      "text/plain": [
       "<Figure size 432x288 with 1 Axes>"
      ]
     },
     "metadata": {
      "needs_background": "light"
     },
     "output_type": "display_data"
    }
   ],
   "source": [
    "if not skip_tests:\n",
    "    #With weight decay, dropping after embedding, dropping between layers and early stop\n",
    "    train_model(embed_size = 100,\n",
    "                drop_embed = 0.02, drop_hl = 0.2,\n",
    "                n_layers = 2, layer_size = 100,\n",
    "                epochs = 50, lr = 0.0001, wd = 0.001,\n",
    "                early_stop = True, tolerance = 0.001, patience = 15)"
   ]
  },
  {
   "cell_type": "code",
   "execution_count": null,
   "metadata": {},
   "outputs": [],
   "source": [
    "# Save the model to disk (the pth-files will be submitted automatically together with your notebook)\n",
    "# Set confirm=False if you do not want to be asked for confirmation before saving.\n",
    "if not skip_training:\n",
    "    model = train_model()\n",
    "    tools.save_model(model, 'recsys.pth', confirm=True)"
   ]
  },
  {
   "cell_type": "code",
   "execution_count": null,
   "metadata": {
    "deletable": false,
    "editable": false,
    "nbgrader": {
     "cell_type": "code",
     "checksum": "24f4686b0916dc4981f5d2a94030f35e",
     "grade": false,
     "grade_id": "cell-f1407ea48ef44720",
     "locked": true,
     "schema_version": 3,
     "solution": false,
     "task": false
    }
   },
   "outputs": [],
   "source": [
    "if skip_training:\n",
    "    model = RecommenderSystem(trainset.n_users, trainset.n_items)\n",
    "    tools.load_model(model, 'recsys.pth', device)"
   ]
  },
  {
   "cell_type": "code",
   "execution_count": null,
   "metadata": {},
   "outputs": [],
   "source": [
    "# Compute the accuracy on the test set\n",
    "test_error = compute_loss(model, testset[:][0], testset[:][1], testset[:][2])\n",
    "print('Test error of the network on the test set: %.3f' % test_error)\n",
    "\n",
    "assert test_error > 1, \"Bad model. Test error ({:.3f})\".format(test_error)\n",
    "print('Success')\n",
    "if test_error >= 0.95:\n",
    "    points = 1\n",
    "elif test_error >= 0.92:\n",
    "    points = 2\n",
    "elif test_error >= 0.90:\n",
    "    points = 3\n",
    "elif test_error >= 0.89:\n",
    "    points = 4\n",
    "elif test_error >= 0.88:\n",
    "    points = 5\n",
    "else:\n",
    "    points = 6\n",
    "    \n",
    "print('Points:', points, '/ 6')"
   ]
  },
  {
   "cell_type": "code",
   "execution_count": null,
   "metadata": {
    "deletable": false,
    "editable": false,
    "nbgrader": {
     "cell_type": "code",
     "checksum": "0a60f0f8ffff236a788ab27cd2633401",
     "grade": true,
     "grade_id": "cell-bffe8fbb471081d9",
     "locked": true,
     "points": 1,
     "schema_version": 3,
     "solution": false,
     "task": false
    }
   },
   "outputs": [],
   "source": [
    "# This cell is reserved for grading"
   ]
  },
  {
   "cell_type": "code",
   "execution_count": null,
   "metadata": {
    "deletable": false,
    "editable": false,
    "nbgrader": {
     "cell_type": "code",
     "checksum": "6424893302c13e465c2c75bbe70f8735",
     "grade": true,
     "grade_id": "cell-cd5e14d4b944f427",
     "locked": true,
     "points": 1,
     "schema_version": 3,
     "solution": false,
     "task": false
    }
   },
   "outputs": [],
   "source": [
    "# This cell is reserved for grading"
   ]
  },
  {
   "cell_type": "code",
   "execution_count": null,
   "metadata": {
    "deletable": false,
    "editable": false,
    "nbgrader": {
     "cell_type": "code",
     "checksum": "1c30f9763e61f52dedcc999c69901c79",
     "grade": true,
     "grade_id": "cell-d6d18ec22f375541",
     "locked": true,
     "points": 1,
     "schema_version": 3,
     "solution": false,
     "task": false
    }
   },
   "outputs": [],
   "source": [
    "# This cell is reserved for grading"
   ]
  },
  {
   "cell_type": "code",
   "execution_count": null,
   "metadata": {
    "deletable": false,
    "editable": false,
    "nbgrader": {
     "cell_type": "code",
     "checksum": "5bb64cc670252d78e6d0610fc87f818d",
     "grade": true,
     "grade_id": "cell-2a7cbd80cefdfc28",
     "locked": true,
     "points": 1,
     "schema_version": 3,
     "solution": false,
     "task": false
    }
   },
   "outputs": [],
   "source": [
    "# This cell is reserved for grading"
   ]
  },
  {
   "cell_type": "code",
   "execution_count": null,
   "metadata": {
    "deletable": false,
    "editable": false,
    "nbgrader": {
     "cell_type": "code",
     "checksum": "655de66b979f1ac0bc9009ef71201bee",
     "grade": true,
     "grade_id": "cell-583d64dae36d06ae",
     "locked": true,
     "points": 1,
     "schema_version": 3,
     "solution": false,
     "task": false
    }
   },
   "outputs": [],
   "source": [
    "# This cell is reserved for grading"
   ]
  },
  {
   "cell_type": "code",
   "execution_count": null,
   "metadata": {
    "deletable": false,
    "editable": false,
    "nbgrader": {
     "cell_type": "code",
     "checksum": "3df236f1b1d600d0ef716148cce58c46",
     "grade": true,
     "grade_id": "cell-545fe9918fc5b54a",
     "locked": true,
     "points": 1,
     "schema_version": 3,
     "solution": false,
     "task": false
    }
   },
   "outputs": [],
   "source": [
    "# This cell is reserved for grading"
   ]
  },
  {
   "cell_type": "code",
   "execution_count": null,
   "metadata": {
    "deletable": false,
    "editable": false,
    "nbgrader": {
     "cell_type": "code",
     "checksum": "845675607fd47b1ece1e7c5288e11561",
     "grade": true,
     "grade_id": "cell-a890dc0ffcb07f46",
     "locked": true,
     "points": 0,
     "schema_version": 3,
     "solution": false,
     "task": false
    }
   },
   "outputs": [],
   "source": [
    "# This cell is reserved for grading"
   ]
  }
 ],
 "metadata": {
  "kernelspec": {
   "display_name": "Python 3",
   "language": "python",
   "name": "python3"
  },
  "language_info": {
   "codemirror_mode": {
    "name": "ipython",
    "version": 3
   },
   "file_extension": ".py",
   "mimetype": "text/x-python",
   "name": "python",
   "nbconvert_exporter": "python",
   "pygments_lexer": "ipython3",
   "version": "3.8.6"
  },
  "varInspector": {
   "cols": {
    "lenName": 16,
    "lenType": 16,
    "lenVar": 40
   },
   "kernels_config": {
    "python": {
     "delete_cmd_postfix": "",
     "delete_cmd_prefix": "del ",
     "library": "var_list.py",
     "varRefreshCmd": "print(var_dic_list())"
    },
    "r": {
     "delete_cmd_postfix": ") ",
     "delete_cmd_prefix": "rm(",
     "library": "var_list.r",
     "varRefreshCmd": "cat(var_dic_list()) "
    }
   },
   "types_to_exclude": [
    "module",
    "function",
    "builtin_function_or_method",
    "instance",
    "_Feature"
   ],
   "window_display": false
  }
 },
 "nbformat": 4,
 "nbformat_minor": 2
}
