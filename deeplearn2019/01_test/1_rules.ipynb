{
 "cells": [
  {
   "cell_type": "markdown",
   "metadata": {
    "deletable": false,
    "editable": false,
    "nbgrader": {
     "cell_type": "markdown",
     "checksum": "cec9f3e33ed61d94f27ade707124f484",
     "grade": false,
     "grade_id": "cell-0a8316b039d048ad",
     "locked": true,
     "schema_version": 3,
     "solution": false
    }
   },
   "source": [
    "<div class=\"alert alert-block alert-info\">\n",
    "<b>Number of points for this notebook:</b> 0.2\n",
    "<br>\n",
    "<b>Deadline:</b> March 5, 2021 (Friday) 23:00\n",
    "</div>\n",
    "\n",
    "\n",
    "# Rules of the course and other important information\n",
    "\n",
    "In order to participate in the course, you have to accept the rules of the course.\n",
    "\n",
    "### Important information about the course\n",
    "\n",
    "* Please review carefully [the schedule of the course and the deadlines](https://mycourses.aalto.fi/course/view.php?id=28212&section=1).\n",
    "* Please read carefully [the tips and frequently asked questions related to the assignments](https://mycourses.aalto.fi/course/view.php?id=28212&section=2).\n",
    "* Please review [the protocol for the exercise sessions](https://mycourses.aalto.fi/course/view.php?id=28212&section=3).\n",
    "* Please review [the grading policy](https://mycourses.aalto.fi/course/view.php?id=28212&section=4). Note that we have a zero-point policy for late submissions (largely because of the limitations of the technical platform).\n",
    "* Please keep in mind that **the most important learning outcome of this course is that you can debug your deep learning code by yourself**, which means that you should learn how to test your implementation. The notebooks contain lots of examples of unit tests and we hope that you will learn how to design tests during this course.\n",
    "\n",
    "### Slack etiquette\n",
    "\n",
    "* You are encouraged to participate in Slack discussions, help others learn pytorch, give tips which may help others fix problems etc. However, please be considerate and remember that the assignments are **individual projects**, not a group work.\n",
    "\n",
    "* We kindly ask you:\n",
    "  * Not to share pieces of working solution (code). We will remove such messages from slack.\n",
    "  * Not to share links to public repositories from which part of the code can be borrowed.\n",
    "  * Not to share the math needed to solve some assignments. Doing the math is part of the assignment.\n",
    "  * Not to share tests that can validate the correctness of a solution.\n",
    "\n",
    "* If someone reports a problem for which you know the solution, you are welcome to give a tip but please do not give a direct answer explaining how to fix the problem. For example, instead of saying \"*I had exactly the same problem and the reason was that my collate function did not do proper padding in the target sequences*\", you could say \"*The problem might be in your collate function, you should probably test that*\". Please remember that a student learns if s/he find the problem her/himself.\n",
    "\n",
    "* You are welcome to post questions in public channels at any time. The teaching staff will follow the slack discussions and try to answer quickly.\n",
    "* **Please note that the teaching staff cannot provide personal assistance, such as looking at your code, outside exercise sessions.**\n",
    "* If you want a teacher to look at your code, please attend the exercise sessions and follow the [protocol described in mycourses](https://mycourses.aalto.fi/course/view.php?id=28212&section=3).\n",
    "\n",
    "### Terms and conditions\n",
    "\n",
    "* You give permission for proctoring your submissions.\n",
    "* Solution sharing is strictly not allowed **before, during and after the course**. That means that you are not allowed to share your solutions **(or any parts of those)** via private channels and/or public repositories."
   ]
  },
  {
   "cell_type": "code",
   "execution_count": 1,
   "metadata": {},
   "outputs": [],
   "source": [
    "I_accept_the_rules = True  # Set this flag to True to accept the rules"
   ]
  },
  {
   "cell_type": "code",
   "execution_count": 2,
   "metadata": {
    "deletable": false,
    "editable": false,
    "nbgrader": {
     "cell_type": "code",
     "checksum": "a469c8ac474b1be247816a771504548d",
     "grade": true,
     "grade_id": "cell-3b12a7cdb8ebd4f1",
     "locked": true,
     "points": 0.2,
     "schema_version": 3,
     "solution": false,
     "task": false
    }
   },
   "outputs": [],
   "source": [
    "assert I_accept_the_rules == True, 'In order to participate in the course, you have to accept the rules of the course'"
   ]
  }
 ],
 "metadata": {
  "kernelspec": {
   "display_name": "Python 3",
   "language": "python",
   "name": "python3"
  },
  "language_info": {
   "codemirror_mode": {
    "name": "ipython",
    "version": 3
   },
   "file_extension": ".py",
   "mimetype": "text/x-python",
   "name": "python",
   "nbconvert_exporter": "python",
   "pygments_lexer": "ipython3",
   "version": "3.8.6"
  },
  "varInspector": {
   "cols": {
    "lenName": 16,
    "lenType": 16,
    "lenVar": 40
   },
   "kernels_config": {
    "python": {
     "delete_cmd_postfix": "",
     "delete_cmd_prefix": "del ",
     "library": "var_list.py",
     "varRefreshCmd": "print(var_dic_list())"
    },
    "r": {
     "delete_cmd_postfix": ") ",
     "delete_cmd_prefix": "rm(",
     "library": "var_list.r",
     "varRefreshCmd": "cat(var_dic_list()) "
    }
   },
   "types_to_exclude": [
    "module",
    "function",
    "builtin_function_or_method",
    "instance",
    "_Feature"
   ],
   "window_display": false
  }
 },
 "nbformat": 4,
 "nbformat_minor": 2
}
