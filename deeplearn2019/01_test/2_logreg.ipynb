{
 "cells": [
  {
   "cell_type": "markdown",
   "metadata": {
    "deletable": false,
    "editable": false,
    "nbgrader": {
     "cell_type": "markdown",
     "checksum": "923fd3d0a498d8190291bf32231c221a",
     "grade": false,
     "grade_id": "cell-0a8316b039d048ad",
     "locked": true,
     "schema_version": 3,
     "solution": false
    }
   },
   "source": [
    "<div class=\"alert alert-block alert-info\">\n",
    "<b>Number of points for this notebook:</b> 0.8\n",
    "<br>\n",
    "<b>Deadline:</b> March 5, 2021 (Friday) 23:00\n",
    "</div>\n",
    "\n",
    "# Test exercise\n",
    "\n",
    "**IMPORTANT**:\n",
    "**In order to be admitted to the course, you need to solve this test exercise.**\n",
    "\n",
    "The goal of that exercise is to make sure that\n",
    "* you can write python code\n",
    "* you can understand the instructions in the notebooks of the course\n",
    "* you can understand documentation of machine learning libraries.\n",
    "\n",
    "The task is to train a logistic regression model using [`sklearn`](https://scikit-learn.org/stable/index.html) library."
   ]
  },
  {
   "cell_type": "code",
   "execution_count": 1,
   "metadata": {},
   "outputs": [],
   "source": [
    "skip_training = True  # Set this flag to True before validation and submission"
   ]
  },
  {
   "cell_type": "code",
   "execution_count": 2,
   "metadata": {
    "deletable": false,
    "editable": false,
    "nbgrader": {
     "cell_type": "code",
     "checksum": "65e2970339980ef7d85c3754662c4ee8",
     "grade": true,
     "grade_id": "evaluation_settings",
     "locked": true,
     "points": 0,
     "schema_version": 3,
     "solution": false
    }
   },
   "outputs": [],
   "source": [
    "# During evaluation, this cell sets skip_training to True\n",
    "# skip_training = True"
   ]
  },
  {
   "cell_type": "code",
   "execution_count": 3,
   "metadata": {},
   "outputs": [],
   "source": [
    "import pickle\n",
    "import numpy as np\n",
    "import matplotlib.pyplot as plt\n",
    "%matplotlib inline\n",
    "\n",
    "import tools\n",
    "import data"
   ]
  },
  {
   "cell_type": "code",
   "execution_count": 4,
   "metadata": {},
   "outputs": [
    {
     "name": "stdout",
     "output_type": "stream",
     "text": [
      "The data directory is /coursedata\n"
     ]
    }
   ],
   "source": [
    "# When running on your own computer, you can specify the data directory by:\n",
    "# data_dir = tools.select_data_dir('/your/local/data/directory')\n",
    "data_dir = tools.select_data_dir()"
   ]
  },
  {
   "cell_type": "markdown",
   "metadata": {
    "deletable": false,
    "editable": false,
    "nbgrader": {
     "cell_type": "markdown",
     "checksum": "9eaf295b610437d29888a148ebbf7c9c",
     "grade": false,
     "grade_id": "cell-ce13efdf413792bd",
     "locked": true,
     "schema_version": 3,
     "solution": false
    }
   },
   "source": [
    "# Data\n",
    "\n",
    "We will use the *winequality* dataset which contains red and white vinho verde wine samples rated by experts from 0 to 10 (obtained from [here](https://archive.ics.uci.edu/ml/datasets/wine+quality))."
   ]
  },
  {
   "cell_type": "code",
   "execution_count": 5,
   "metadata": {
    "deletable": false,
    "editable": false,
    "nbgrader": {
     "cell_type": "code",
     "checksum": "d889bee97dfcec2ef8b457a43cf2af67",
     "grade": false,
     "grade_id": "cell-4bba5619c4f19119",
     "locked": true,
     "schema_version": 3,
     "solution": false,
     "task": false
    }
   },
   "outputs": [],
   "source": [
    "trainset = data.WineQuality(data_dir, train=True, normalize=False)\n",
    "x_train, quality_train = [t.numpy() for t in trainset.tensors]\n",
    "\n",
    "testset = data.WineQuality(data_dir, train=False, normalize=False)\n",
    "x_test, quality_test = [t.numpy() for t in testset.tensors]"
   ]
  },
  {
   "cell_type": "code",
   "execution_count": 6,
   "metadata": {
    "deletable": false,
    "editable": false,
    "nbgrader": {
     "cell_type": "code",
     "checksum": "5419c9c967132788abb3c6868e538079",
     "grade": false,
     "grade_id": "cell-999fe4b00daea8c3",
     "locked": true,
     "schema_version": 3,
     "solution": false,
     "task": false
    }
   },
   "outputs": [],
   "source": [
    "# We will work with inputs normalized to zero mean and unit variance\n",
    "mean = x_train.mean(axis=0)\n",
    "std = x_train.std(axis=0)\n",
    "scaler = lambda x: (x - mean) / std\n",
    "\n",
    "x_train = scaler(x_train)\n",
    "x_test = scaler(x_test)"
   ]
  },
  {
   "cell_type": "markdown",
   "metadata": {
    "deletable": false,
    "editable": false,
    "nbgrader": {
     "cell_type": "markdown",
     "checksum": "bf01a4046518500cca48a3da4300084b",
     "grade": false,
     "grade_id": "cell-a560530c488feda3",
     "locked": true,
     "schema_version": 3,
     "solution": false,
     "task": false
    }
   },
   "source": [
    "We transform the learning task into a binary classification problem:\n",
    "* class 0 (bad wines) correspond to wines with the quality smaller than 7.\n",
    "* class 1 (good wines) correspond to the rest of the wines.\n",
    "\n",
    "Your task is to implement a function that performs such a transformation."
   ]
  },
  {
   "cell_type": "code",
   "execution_count": 7,
   "metadata": {
    "deletable": false,
    "nbgrader": {
     "cell_type": "code",
     "checksum": "ba48ed51f2ba6c66f205ca676bfa5515",
     "grade": false,
     "grade_id": "cell-1125b3591cf91eb8",
     "locked": false,
     "schema_version": 3,
     "solution": true,
     "task": false
    }
   },
   "outputs": [],
   "source": [
    "def binarize_targets(quality):\n",
    "    \"\"\"\n",
    "    Convert wine quality values to binary values.\n",
    "\n",
    "    Args:\n",
    "      quality of shape (n_samples,): Wine quality (integer values between 3 and 9).\n",
    "    \n",
    "    Returns:\n",
    "      targets of shape (n_samples,): Binary targets for the classification problem:\n",
    "                                      class 0: quality < 7 (bad wine)\n",
    "                                      class 1: quality >= 7 (good wine)\n",
    "    \"\"\"\n",
    "    # YOUR CODE HERE\n",
    "    # raise NotImplementedError()\n",
    "    return np.float32(quality >= 7)"
   ]
  },
  {
   "cell_type": "code",
   "execution_count": 8,
   "metadata": {
    "deletable": false,
    "editable": false,
    "nbgrader": {
     "cell_type": "code",
     "checksum": "d3ac06f49283de2a8d1fd651f143837f",
     "grade": false,
     "grade_id": "cell-6d2e5bf2bb02b9dd",
     "locked": true,
     "schema_version": 3,
     "solution": false,
     "task": false
    }
   },
   "outputs": [
    {
     "name": "stdout",
     "output_type": "stream",
     "text": [
      "Success\n"
     ]
    }
   ],
   "source": [
    "targets_train = binarize_targets(quality_train)\n",
    "targets_test = binarize_targets(quality_test)\n",
    "\n",
    "assert targets_train.dtype == np.float32\n",
    "assert targets_train.shape == quality_train.shape\n",
    "print('Success')"
   ]
  },
  {
   "cell_type": "code",
   "execution_count": 9,
   "metadata": {
    "deletable": false,
    "editable": false,
    "nbgrader": {
     "cell_type": "code",
     "checksum": "690aa766094291573d41c340c1793ae7",
     "grade": true,
     "grade_id": "cell-baad0ccbff4c291d",
     "locked": true,
     "points": 0.3,
     "schema_version": 3,
     "solution": false,
     "task": false
    }
   },
   "outputs": [],
   "source": [
    "# This cell tests function binarize_targets()"
   ]
  },
  {
   "cell_type": "markdown",
   "metadata": {
    "deletable": false,
    "editable": false,
    "nbgrader": {
     "cell_type": "markdown",
     "checksum": "f185b3d1f4553148a9d50c7287f056ea",
     "grade": false,
     "grade_id": "cell-fff001b57c687c28",
     "locked": true,
     "schema_version": 3,
     "solution": false
    }
   },
   "source": [
    "# Logistic regression classifier\n",
    "\n",
    "Your task is to train a logistic regression classifier using class [`LogisticRegression`](https://scikit-learn.org/stable/modules/generated/sklearn.linear_model.LogisticRegression.html) from sklearn.\n",
    "\n",
    "Note:\n",
    "* **The accuracy of the trained model should be greater than 0.78 on the test set.**"
   ]
  },
  {
   "cell_type": "code",
   "execution_count": 10,
   "metadata": {
    "deletable": false,
    "editable": false,
    "nbgrader": {
     "cell_type": "code",
     "checksum": "96701cfecaef0a6af96fba3cd68c8be9",
     "grade": false,
     "grade_id": "cell-5c8792dd4f0928e2",
     "locked": true,
     "schema_version": 3,
     "solution": false,
     "task": false
    }
   },
   "outputs": [],
   "source": [
    "from sklearn.linear_model import LogisticRegression"
   ]
  },
  {
   "cell_type": "markdown",
   "metadata": {
    "deletable": false,
    "editable": false,
    "nbgrader": {
     "cell_type": "markdown",
     "checksum": "c2d47f9d25ea6f26d92407428e1c7d37",
     "grade": false,
     "grade_id": "cell-2aca50a2adc32a3b",
     "locked": true,
     "schema_version": 3,
     "solution": false,
     "task": false
    }
   },
   "source": [
    "In the cell below, you need tp Implement a function that creates the model and trains it using the provided data."
   ]
  },
  {
   "cell_type": "code",
   "execution_count": 11,
   "metadata": {
    "deletable": false,
    "nbgrader": {
     "cell_type": "code",
     "checksum": "ac3ba78972289ab59030863a791074e6",
     "grade": false,
     "grade_id": "cell-a709dc017fa6a1b4",
     "locked": false,
     "schema_version": 3,
     "solution": true,
     "task": false
    }
   },
   "outputs": [],
   "source": [
    "def create_and_train_logistic_regression(inputs, targets):\n",
    "    \"\"\"\n",
    "    Args:\n",
    "      inputs of shape (n_samples, n_inputs): Inputs in the training set.\n",
    "      targets of shape (n_samples,): Targets (integer values wither 0 or 1).\n",
    "    \n",
    "    Returns:\n",
    "      model: Trained model which is an instance of class LogisticRegression.\n",
    "    \"\"\"\n",
    "    # YOUR CODE HERE\n",
    "    # raise NotImplementedError()\n",
    "    return LogisticRegression().fit(inputs,targets)"
   ]
  },
  {
   "cell_type": "code",
   "execution_count": 12,
   "metadata": {
    "code_folding": [],
    "deletable": false,
    "editable": false,
    "nbgrader": {
     "cell_type": "code",
     "checksum": "4fdf6982f2f75e64a70f9c98dedaa3b5",
     "grade": false,
     "grade_id": "cell-692ef1b990bd1bbc",
     "locked": true,
     "schema_version": 3,
     "solution": false,
     "task": false
    }
   },
   "outputs": [],
   "source": [
    "if not skip_training:\n",
    "    model = create_and_train_logistic_regression(x_train, targets_train)"
   ]
  },
  {
   "cell_type": "code",
   "execution_count": 13,
   "metadata": {
    "deletable": false,
    "editable": false,
    "nbgrader": {
     "cell_type": "code",
     "checksum": "259865f28067803901adde075b27a1e9",
     "grade": false,
     "grade_id": "mlp_accuracy",
     "locked": true,
     "schema_version": 3,
     "solution": false,
     "task": false
    }
   },
   "outputs": [],
   "source": [
    "# Save the model to disk (the p-file will be submitted automatically together with your notebook)\n",
    "if not skip_training:\n",
    "    assert isinstance(model, LogisticRegression), 'model should be of type LogisticRegression.'\n",
    "    pickle.dump(model, open('2_logreg.p', 'wb'))\n",
    "else:\n",
    "    model = pickle.load(open('2_logreg.p', 'rb'))"
   ]
  },
  {
   "cell_type": "code",
   "execution_count": 14,
   "metadata": {
    "deletable": false,
    "editable": false,
    "nbgrader": {
     "cell_type": "code",
     "checksum": "0cafe52e3bb684feeb7ee10e64db3c3b",
     "grade": true,
     "grade_id": "cell-7f56154b186d5c0e",
     "locked": true,
     "points": 0.5,
     "schema_version": 3,
     "solution": false,
     "task": false
    }
   },
   "outputs": [],
   "source": [
    "# This cell tests your model"
   ]
  }
 ],
 "metadata": {
  "kernelspec": {
   "display_name": "Python 3",
   "language": "python",
   "name": "python3"
  },
  "language_info": {
   "codemirror_mode": {
    "name": "ipython",
    "version": 3
   },
   "file_extension": ".py",
   "mimetype": "text/x-python",
   "name": "python",
   "nbconvert_exporter": "python",
   "pygments_lexer": "ipython3",
   "version": "3.8.6"
  },
  "varInspector": {
   "cols": {
    "lenName": 16,
    "lenType": 16,
    "lenVar": 40
   },
   "kernels_config": {
    "python": {
     "delete_cmd_postfix": "",
     "delete_cmd_prefix": "del ",
     "library": "var_list.py",
     "varRefreshCmd": "print(var_dic_list())"
    },
    "r": {
     "delete_cmd_postfix": ") ",
     "delete_cmd_prefix": "rm(",
     "library": "var_list.r",
     "varRefreshCmd": "cat(var_dic_list()) "
    }
   },
   "types_to_exclude": [
    "module",
    "function",
    "builtin_function_or_method",
    "instance",
    "_Feature"
   ],
   "window_display": false
  }
 },
 "nbformat": 4,
 "nbformat_minor": 2
}
