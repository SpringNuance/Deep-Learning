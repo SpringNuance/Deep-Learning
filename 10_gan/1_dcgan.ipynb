{
  "cells": [
    {
      "cell_type": "markdown",
      "metadata": {
        "deletable": false,
        "editable": false,
        "nbgrader": {
          "cell_type": "markdown",
          "checksum": "a7e8d89f469ac665ae0be4cf0b2c8529",
          "grade": false,
          "grade_id": "cell-3941e0c28ecf711b",
          "locked": true,
          "schema_version": 3,
          "solution": false,
          "task": false
        },
        "id": "4Hq6Qvh9lgzM"
      },
      "source": [
        "<div class=\"alert alert-block alert-info\">\n",
        "<b>Deadline:</b> May 24, 2023 (Wednesday) 23:00\n",
        "</div>\n",
        "\n",
        "# Exercise 1. Generative adversarial networks (GANs). DCGAN: Deep convolutional GAN\n",
        "\n",
        "The goal of this exercise is to get familiar with generative adversarial networks and specifically DCGAN. The model was proposed by [Radford et al., 2015](https://arxiv.org/pdf/1511.06434.pdf).\n",
        "\n",
        "DCGAN is probably the simplest GAN model which is relatively easy to train."
      ]
    },
    {
      "cell_type": "code",
      "execution_count": 53,
      "metadata": {
        "id": "zZlWUB7WlgzN"
      },
      "outputs": [],
      "source": [
        "skip_training = False  # Set this flag to True before validation and submission"
      ]
    },
    {
      "cell_type": "code",
      "execution_count": 54,
      "metadata": {
        "deletable": false,
        "editable": false,
        "nbgrader": {
          "cell_type": "code",
          "checksum": "98d57e95bab744702a07e57404aa169b",
          "grade": true,
          "grade_id": "cell-bd68b7386e29d846",
          "locked": true,
          "points": 0,
          "schema_version": 3,
          "solution": false,
          "task": false
        },
        "id": "BAglGhV7lgzO"
      },
      "outputs": [],
      "source": [
        "# During evaluation, this cell sets skip_training to True\n",
        "# skip_training = True\n",
        "# !pip install einops\n",
        "import tools, warnings\n",
        "warnings.showwarning = tools.customwarn"
      ]
    },
    {
      "cell_type": "code",
      "execution_count": 55,
      "metadata": {
        "id": "YHHAAtDZlgzP"
      },
      "outputs": [],
      "source": [
        "import os\n",
        "import numpy as np\n",
        "import matplotlib.pyplot as plt\n",
        "from IPython import display\n",
        "\n",
        "import torch\n",
        "import torchvision\n",
        "import torch.nn as nn\n",
        "from torch.nn import functional as F\n",
        "from torchvision import transforms\n",
        "\n",
        "import tools\n",
        "import tests"
      ]
    },
    {
      "cell_type": "code",
      "execution_count": 56,
      "metadata": {
        "colab": {
          "base_uri": "https://localhost:8080/"
        },
        "id": "VGNyGHyRlgzP",
        "outputId": "37a227a2-a540-4eca-8378-48ce7b542fcc"
      },
      "outputs": [
        {
          "output_type": "stream",
          "name": "stdout",
          "text": [
            "The data directory is ../data\n"
          ]
        }
      ],
      "source": [
        "# When running on your own computer, you can specify the data directory by:\n",
        "# data_dir = tools.select_data_dir('/your/local/data/directory')\n",
        "data_dir = tools.select_data_dir()"
      ]
    },
    {
      "cell_type": "code",
      "execution_count": 57,
      "metadata": {
        "id": "X0F9X-aFlgzR"
      },
      "outputs": [],
      "source": [
        "device = torch.device('cuda:0')\n",
        "#device = torch.device('cpu')"
      ]
    },
    {
      "cell_type": "code",
      "execution_count": 58,
      "metadata": {
        "deletable": false,
        "editable": false,
        "nbgrader": {
          "cell_type": "code",
          "checksum": "cd275621253cd028c5065035e3390f93",
          "grade": false,
          "grade_id": "cell-2212a6a282e966a9",
          "locked": true,
          "schema_version": 3,
          "solution": false,
          "task": false
        },
        "id": "Q1lJcKQJlgzR"
      },
      "outputs": [],
      "source": [
        "if skip_training:\n",
        "    # The models are always evaluated on CPU\n",
        "    device = torch.device(\"cpu\")"
      ]
    },
    {
      "cell_type": "markdown",
      "metadata": {
        "deletable": false,
        "editable": false,
        "nbgrader": {
          "cell_type": "markdown",
          "checksum": "04ce3d7c3c2e4c327a34405291398340",
          "grade": false,
          "grade_id": "cell-140f604a5cb368f8",
          "locked": true,
          "schema_version": 3,
          "solution": false,
          "task": false
        },
        "id": "CLW09t8OlgzR"
      },
      "source": [
        "# Data\n",
        "\n",
        "We will use MNIST data in this exercise. **Note that we re-scale images so that the pixel intensities are in the range [-1, 1].**"
      ]
    },
    {
      "cell_type": "code",
      "execution_count": 59,
      "metadata": {
        "deletable": false,
        "editable": false,
        "nbgrader": {
          "cell_type": "code",
          "checksum": "a57252aa059b4324485613a29450837d",
          "grade": false,
          "grade_id": "cell-55039c5db5aa5d3a",
          "locked": true,
          "schema_version": 3,
          "solution": false,
          "task": false
        },
        "id": "qWKCLlINlgzS"
      },
      "outputs": [],
      "source": [
        "transform = transforms.Compose([\n",
        "    transforms.ToTensor(),  # Transform to tensor\n",
        "    transforms.Normalize((0.5,), (0.5,))  # Scale images to [-1, 1]\n",
        "])\n",
        "\n",
        "trainset = torchvision.datasets.MNIST(root=data_dir, train=True, download=True, transform=transform)\n",
        "testset = torchvision.datasets.MNIST(root=data_dir, train=False, download=True, transform=transform)\n",
        "\n",
        "batch_size = 100\n",
        "dataloader = torch.utils.data.DataLoader(trainset, batch_size=batch_size, shuffle=True)"
      ]
    },
    {
      "cell_type": "markdown",
      "metadata": {
        "deletable": false,
        "editable": false,
        "nbgrader": {
          "cell_type": "markdown",
          "checksum": "ceff023afd66794411ec51227791aa54",
          "grade": false,
          "grade_id": "cell-797591c879634741",
          "locked": true,
          "schema_version": 3,
          "solution": false,
          "task": false
        },
        "id": "Ymwuf4phlgzS"
      },
      "source": [
        "# Generative adversarial networks\n",
        "\n",
        "Our task is to train a generative model of the data, that is a model from which we can draw samples that will have a distribution similar to the distribution of the training data (MNIST digits in our case)."
      ]
    },
    {
      "cell_type": "markdown",
      "metadata": {
        "deletable": false,
        "editable": false,
        "nbgrader": {
          "cell_type": "markdown",
          "checksum": "9017381ae18064c6b3dc34b1e836e7c3",
          "grade": false,
          "grade_id": "cell-9356f4dc68bfdc4e",
          "locked": true,
          "schema_version": 3,
          "solution": false,
          "task": false
        },
        "id": "SWE4HnZ0lgzS"
      },
      "source": [
        "## Generator\n",
        "\n",
        "The generative model that we are going to train is:\n",
        "\\begin{align}\n",
        "z &\\sim N(0, I)\n",
        "\\\\\n",
        "x &= g(z)\n",
        "\\end{align}\n",
        "that is the data is generated by applying a nonlinear transformation to samples drawn from the standard normal distribution.\n",
        "\n",
        "We are going to model $g$ with a deep neural network created below. In DCGAN, the generator is made of only transposed convolutional layers `ConvTranspose2d`.\n",
        "The proposed architecture for the generator:\n",
        "* `ConvTranspose2d` layer with `kernel_size=4`, `stride=2`, `4*ngf` output channels, no bias,\n",
        "   followed by `BatchNorm2d` and ReLU\n",
        "* `ConvTranspose2d` layer with `kernel_size=4`, `stride=2`, `2*ngf` output channels, no bias,\n",
        "   followed by `BatchNorm2d` and ReLU\n",
        "* `ConvTranspose2d` layer with `kernel_size=4`, `stride=2`, `ngf` output channels, no bias,\n",
        "   followed by `BatchNorm2d` and ReLU\n",
        "* `ConvTranspose2d` layer with `kernel_size=4`, `stride=2`, `nc` output channels, no bias,\n",
        "   followed by `tanh`.\n",
        "\n",
        "The `tanh` nonlinearity guarantees that the output is between -1 and 1 which holds for our scaling of the training data.\n",
        "\n",
        "* **The exact architecture is not tested in this assignment.**\n",
        "* **The description above is not full. To get the correct output shape, you need to set correctly other parameters of the `ConvTranspose2d` layers. Note that training may fail for some padding schemes. If training fails but everything else looks correct, try changing the padding scheme.**"
      ]
    },
    {
      "cell_type": "code",
      "execution_count": 60,
      "metadata": {
        "deletable": false,
        "nbgrader": {
          "cell_type": "code",
          "checksum": "a26a1e9624ea328d6bdc50a403e96da4",
          "grade": false,
          "grade_id": "Generator",
          "locked": false,
          "schema_version": 3,
          "solution": true,
          "task": false
        },
        "id": "3grrL3SdlgzT"
      },
      "outputs": [],
      "source": [
        "class Generator(nn.Module):\n",
        "    def __init__(self, nz=10, ngf=64, nc=1):\n",
        "        \"\"\"GAN generator.\n",
        "        \n",
        "        Args:\n",
        "          nz:  Number of elements in the latent code.\n",
        "          ngf: Base size (number of channels) of the generator layers.\n",
        "          nc:  Number of channels in the generated images.\n",
        "        \"\"\"\n",
        "        super(Generator, self).__init__()\n",
        "        # YOUR CODE HERE\n",
        "        #raise NotImplementedError()\n",
        "        \n",
        "\n",
        "        # `ConvTranspose2d` layer with `kernel_size=4`, `stride=2`, `4*ngf` output channels, no bias,\n",
        "        # followed by `BatchNorm2d` and ReLU\n",
        "        self.transConv1 = nn.ConvTranspose2d(in_channels=nz, out_channels=ngf * 4, kernel_size=4, stride=2, padding=1, bias=False)\n",
        "        self.batchNorm1 = nn.BatchNorm2d(num_features=ngf * 4)\n",
        "        self.relu1 = nn.ReLU(inplace=True)\n",
        "       \n",
        "        # `ConvTranspose2d` layer with `kernel_size=4`, `stride=2`, `2*ngf` output channels, no bias,\n",
        "        # followed by `BatchNorm2d` and ReLU\n",
        "        self.transConv2 = nn.ConvTranspose2d(in_channels=ngf * 4, out_channels=ngf * 2, kernel_size=4, stride=2, padding=0, bias=False)\n",
        "        self.batchNorm2 = nn.BatchNorm2d(num_features=ngf * 2)\n",
        "        self.relu2 = nn.ReLU(inplace=True)\n",
        "        \n",
        "        # `ConvTranspose2d` layer with `kernel_size=4`, `stride=2`, `ngf` output channels, no bias,\n",
        "        # followed by `BatchNorm2d` and ReLU\n",
        "        self.transConv3 = nn.ConvTranspose2d(in_channels=ngf * 2, out_channels=ngf, kernel_size=4, stride=2, padding=0, bias=False)\n",
        "        self.batchNorm3 = nn.BatchNorm2d(num_features=ngf)\n",
        "        self.relu3 = nn.ReLU(inplace=True)\n",
        "        \n",
        "        # `ConvTranspose2d` layer with `kernel_size=4`, `stride=2`, `nc` output channels, no bias,\n",
        "        # followed by `tanh`.\n",
        "        self.transConv4 = nn.ConvTranspose2d(in_channels=ngf, out_channels=nc, kernel_size=4, stride=2, padding=1, bias=False)\n",
        "        self.tanh = nn.Tanh()\n",
        "        \n",
        "\n",
        "    def forward(self, z, verbose=False):\n",
        "        \"\"\"Generate images by transforming the given noise tensor.\n",
        "        \n",
        "        Args:\n",
        "          z of shape (batch_size, nz, 1, 1): Tensor of noise samples. We use the last two singleton dimensions\n",
        "                          so that we can feed z to the generator without reshaping.\n",
        "          verbose (bool): Whether to print intermediate shapes (True) or not (False).\n",
        "        \n",
        "        Returns:\n",
        "          out of shape (batch_size, nc, 28, 28): Generated images.\n",
        "        \"\"\"\n",
        "        # YOUR CODE HERE\n",
        "        #raise NotImplementedError()\n",
        "        #print(z.shape)\n",
        "        out = self.transConv1(z)\n",
        "        out = self.batchNorm1(out)\n",
        "        out = self.relu1(out)\n",
        "        #print(out.shape)\n",
        "\n",
        "        out = self.transConv2(out)\n",
        "        out = self.batchNorm2(out)\n",
        "        out = self.relu2(out)\n",
        "        #print(out.shape)\n",
        "\n",
        "        out = self.transConv3(out)\n",
        "        out = self.batchNorm3(out)\n",
        "        out = self.relu3(out)\n",
        "        #print(out.shape)\n",
        "\n",
        "        out = self.transConv4(out)\n",
        "        out = self.tanh(out)\n",
        "        #print(out.shape)\n",
        "        \n",
        "        if verbose:\n",
        "            print(\"Generator output shape:\", out.shape)\n",
        "        return out"
      ]
    },
    {
      "cell_type": "code",
      "execution_count": 61,
      "metadata": {
        "deletable": false,
        "editable": false,
        "nbgrader": {
          "cell_type": "code",
          "checksum": "b80ee06fd8f120e253712503ca8dcbea",
          "grade": false,
          "grade_id": "cell-65fe5c0af77b5d74",
          "locked": true,
          "schema_version": 3,
          "solution": false,
          "task": false
        },
        "colab": {
          "base_uri": "https://localhost:8080/"
        },
        "id": "8BTd23AXlgzU",
        "outputId": "2fc3dd49-4f2a-40c1-a09f-ed4ad584dd34"
      },
      "outputs": [
        {
          "output_type": "stream",
          "name": "stdout",
          "text": [
            "Generator output shape: torch.Size([32, 1, 28, 28])\n",
            "Success\n"
          ]
        }
      ],
      "source": [
        "def test_Generator_shapes():\n",
        "    nz = 10\n",
        "    netG = Generator(nz, ngf=64, nc=1)\n",
        "\n",
        "    batch_size = 32\n",
        "    noise = torch.randn(batch_size, nz, 1, 1)\n",
        "    out = netG(noise, verbose=True)\n",
        "\n",
        "    assert out.shape == torch.Size([batch_size, 1, 28, 28]), f\"Bad shape of out: out.shape={out.shape}\"\n",
        "    print('Success')\n",
        "\n",
        "test_Generator_shapes()"
      ]
    },
    {
      "cell_type": "markdown",
      "metadata": {
        "deletable": false,
        "editable": false,
        "nbgrader": {
          "cell_type": "markdown",
          "checksum": "ab5a58be5bcef66ea9316f080270a0e9",
          "grade": false,
          "grade_id": "cell-0151d274de94f50d",
          "locked": true,
          "schema_version": 3,
          "solution": false,
          "task": false
        },
        "id": "hjuyJRcnlgzU"
      },
      "source": [
        "### Loss for training the generator\n",
        "\n",
        "The generative model will be guided by a discriminator whose task is to separate (classify) data into two classes:\n",
        "* true data (samples from the training set)\n",
        "* generated data (samples generated by the generator)."
      ]
    },
    {
      "cell_type": "code",
      "execution_count": 62,
      "metadata": {
        "deletable": false,
        "editable": false,
        "nbgrader": {
          "cell_type": "code",
          "checksum": "7bb6fa5353ab5f0262705a5fea9b38e2",
          "grade": false,
          "grade_id": "cell-3f77648eb2fe0ea1",
          "locked": true,
          "schema_version": 3,
          "solution": false,
          "task": false
        },
        "id": "iH3WGz9qlgzU"
      },
      "outputs": [],
      "source": [
        "# Establish convention for real and fake labels during training\n",
        "real_label = 1.\n",
        "fake_label = 0."
      ]
    },
    {
      "cell_type": "markdown",
      "metadata": {
        "deletable": false,
        "editable": false,
        "nbgrader": {
          "cell_type": "markdown",
          "checksum": "c815e41e4de9f630bc1b63ee3089bd4c",
          "grade": false,
          "grade_id": "cell-7f59b33f30149a9e",
          "locked": true,
          "schema_version": 3,
          "solution": false,
          "task": false
        },
        "id": "W71DqUkhlgzV"
      },
      "source": [
        "The task of the generator is to confuse the discriminator as much as possible, which is the case when the distribution produced by the generator perfectly replicates the data distribution.\n",
        "\n",
        "In the cell below, you need to implement the loss function which is used to train the generator. The loss should be the `binary_cross_entropy` loss computed with `real_label` as targets for the generated samples.\n",
        "\n",
        "**IMPORTANT: Please use the `mean` reduction when computing the loss!**"
      ]
    },
    {
      "cell_type": "code",
      "execution_count": 63,
      "metadata": {
        "deletable": false,
        "nbgrader": {
          "cell_type": "code",
          "checksum": "8ec1dbae1eb2d04179fcdc7ffe64b0bc",
          "grade": false,
          "grade_id": "generator_loss",
          "locked": false,
          "schema_version": 3,
          "solution": true,
          "task": false
        },
        "id": "kDrHUKO-lgzV"
      },
      "outputs": [],
      "source": [
        "def generator_loss(netD, fake_images):\n",
        "    \"\"\"Loss computed to train the GAN generator.\n",
        "\n",
        "    Args:\n",
        "      netD: The discriminator whose forward function takes inputs of shape (batch_size, nc, 28, 28)\n",
        "         and produces outputs of shape (batch_size, 1).\n",
        "      fake_images of shape (batch_size, nc, 28, 28): Fake images produces by the generator.\n",
        "\n",
        "    Returns:\n",
        "      loss: The mean of the binary cross-entropy losses computed for all the samples in the batch.\n",
        "\n",
        "    Notes:\n",
        "    - Make sure that you process on the device given by `fake_images.device`.\n",
        "    - Use values of global variables `real_label`, `fake_label` to produce the right targets.\n",
        "    \"\"\"\n",
        "    # YOUR CODE HERE\n",
        "    # raise NotImplementedError()\n",
        " \n",
        "    # Ensure that the target tensor has the same device as the input fake_images\n",
        "    target = torch.full((fake_images.size(0),), real_label, device=fake_images.device)\n",
        "    \n",
        "    # Forward pass through the discriminator with the fake images\n",
        "    output = netD(fake_images).view(-1)\n",
        "    \n",
        "    # Compute the binary cross-entropy loss between the output and the target\n",
        "    loss = F.binary_cross_entropy(output, target, reduction='mean')\n",
        "    \n",
        "    return loss"
      ]
    },
    {
      "cell_type": "code",
      "execution_count": 64,
      "metadata": {
        "deletable": false,
        "editable": false,
        "nbgrader": {
          "cell_type": "code",
          "checksum": "fda68080632f5246fb6834b5df3118a2",
          "grade": true,
          "grade_id": "test_Generator_loss",
          "locked": true,
          "points": 1,
          "schema_version": 3,
          "solution": false,
          "task": false
        },
        "colab": {
          "base_uri": "https://localhost:8080/"
        },
        "id": "Aybde2LjlgzV",
        "outputId": "f6eb93fb-6ed3-498c-da79-103a81136b29"
      },
      "outputs": [
        {
          "output_type": "stream",
          "name": "stdout",
          "text": [
            "loss: tensor(1.0730)\n",
            "expected: tensor(1.0730)\n",
            "Success\n"
          ]
        }
      ],
      "source": [
        "# This cell tests generator_loss()\n",
        "def test_generator_loss(generator_loss):\n",
        "    class MyDiscriminator(nn.Module):\n",
        "        def forward(self, x):\n",
        "            out = torch.Tensor([0.1, 0.5, 0.8])\n",
        "            return out\n",
        "    \n",
        "    with torch.no_grad():\n",
        "        netD = MyDiscriminator()\n",
        "        fake_images = torch.zeros(3, 1, 28, 28)\n",
        "        loss = generator_loss(netD, fake_images)\n",
        "        expected = torch.tensor(1.0729585886001587)\n",
        "        print('loss:', loss)\n",
        "        print('expected:', expected)\n",
        "        assert torch.allclose(loss, expected), \"out does not match expected value.\"\n",
        "    print('Success')\n",
        "\n",
        "test_generator_loss(generator_loss)"
      ]
    },
    {
      "cell_type": "markdown",
      "metadata": {
        "deletable": false,
        "editable": false,
        "nbgrader": {
          "cell_type": "markdown",
          "checksum": "2554c161811028fc12e15c5b9738c171",
          "grade": false,
          "grade_id": "cell-63faa114782d7e87",
          "locked": true,
          "schema_version": 3,
          "solution": false,
          "task": false
        },
        "id": "17gbOetzlgzV"
      },
      "source": [
        "## Discriminator\n",
        "\n",
        "In DCGAN, the discriminator is a stack of only convolutional layers.\n",
        "\n",
        "The proposed architecture for the discriminator:\n",
        "* `Conv2d` layer with `kernel_size=4`, `stride=2`, `ndf` output channels, no bias,\n",
        "   followed by BatchNorm2d and LeakyReLU(0.2)\n",
        "* `Conv2d` layer with `kernel_size=4`, `stride=2`, `2*ndf` output channels, no bias,\n",
        "   followed by BatchNorm2d and LeakyReLU(0.2)\n",
        "* `Conv2d` layer with `kernel_size=4`, `stride=2`, `4*ndf` output channels, no bias,\n",
        "   followed by BatchNorm2d and LeakyReLU(0.2)\n",
        "* `Conv2d` layer with `kernel_size=4`, `stride=2`, 1 output channel, no bias,\n",
        "   followed by `sigmoid`.\n",
        "\n",
        "Notes:\n",
        "* **The exact architecture is not tested in this assignment.**\n",
        "* **The description is not full, please fill the missing pieces by yourself.**\n",
        "* In this exercise, the discriminator works well without batch normalization layers."
      ]
    },
    {
      "cell_type": "code",
      "execution_count": 65,
      "metadata": {
        "deletable": false,
        "nbgrader": {
          "cell_type": "code",
          "checksum": "2f7aac6360862eb5f3d3fcdae2277ae6",
          "grade": false,
          "grade_id": "Discriminator",
          "locked": false,
          "schema_version": 3,
          "solution": true,
          "task": false
        },
        "id": "PrRCZJgdlgzW"
      },
      "outputs": [],
      "source": [
        "class Discriminator(nn.Module):\n",
        "    def __init__(self, nc=1, ndf=64):\n",
        "        \"\"\"GAN discriminator.\n",
        "        \n",
        "        Args:\n",
        "          nc:  Number of channels in images.\n",
        "          ndf: Base size (number of channels) of the discriminator layers.\n",
        "        \"\"\"\n",
        "        # YOUR CODE HERE\n",
        "        # raise NotImplementedError()\n",
        "        super(Discriminator, self).__init__()\n",
        "    \n",
        "        # `Conv2d` layer with `kernel_size=4`, `stride=2`, `ndf` output channels, no bias,\n",
        "        # followed by BatchNorm2d and LeakyReLU(0.2)\n",
        "        self.conv1 = nn.Conv2d(in_channels=nc, out_channels=ndf, kernel_size=4, stride=2, padding=1, bias=False)\n",
        "        self.batchNorm1 = nn.BatchNorm2d(num_features=ndf)\n",
        "        self.leakyrelu1 = nn.LeakyReLU(negative_slope=0.2, inplace=True)\n",
        "       \n",
        "        # `Conv2d` layer with `kernel_size=4`, `stride=2`, `2*ndf` output channels, no bias,\n",
        "        # followed by BatchNorm2d and LeakyReLU(0.2)\n",
        "        self.conv2 = nn.Conv2d(in_channels=ndf, out_channels=ndf * 2, kernel_size=4, stride=2, padding=1, bias=False)\n",
        "        self.batchNorm2 = nn.BatchNorm2d(num_features=ndf * 2)\n",
        "        self.leakyrelu2 = nn.LeakyReLU(negative_slope=0.2, inplace=True)\n",
        "        \n",
        "        # `Conv2d` layer with `kernel_size=4`, `stride=2`, `4*ndf` output channels, no bias,\n",
        "        # followed by BatchNorm2d and LeakyReLU(0.2)\n",
        "        self.conv3 = nn.Conv2d(in_channels=ndf * 2, out_channels=ndf * 4, kernel_size=4, stride=2, padding=1, bias=False)\n",
        "        self.batchNorm3 = nn.BatchNorm2d(num_features=ndf * 4)\n",
        "        self.leakyrelu3 = nn.LeakyReLU(negative_slope=0.2, inplace=True)\n",
        "        \n",
        "        # `Conv2d` layer with `kernel_size=4`, `stride=2`, 1 output channel, no bias,\n",
        "        # followed by `sigmoid`\n",
        "        self.conv4 = nn.Conv2d(in_channels=ndf * 4, out_channels=1, kernel_size=4, stride=2, padding=1, bias=False)\n",
        "        self.sigmoid = nn.Sigmoid()\n",
        "\n",
        "    def forward(self, x, verbose=False):\n",
        "        \"\"\"Classify given images into real/fake.\n",
        "        \n",
        "        Args:\n",
        "          x of shape (batch_size, 1, 28, 28): Images to be classified.\n",
        "        \n",
        "        Returns:\n",
        "          out of shape (batch_size,): Probabilities that images are real. All elements should be between 0 and 1.\n",
        "        \"\"\"\n",
        "        # YOUR CODE HERE\n",
        "        # raise NotImplementedError()\n",
        "        \n",
        "        #print(x.shape)\n",
        "        out = self.conv1(x)\n",
        "        out = self.batchNorm1(out)\n",
        "        out = self.leakyrelu1(out)\n",
        "        #print(out.shape)\n",
        "\n",
        "        out = self.conv2(out)\n",
        "        out = self.batchNorm2(out)\n",
        "        out = self.leakyrelu2(out)\n",
        "        #print(out.shape)\n",
        "\n",
        "        out = self.conv3(out)\n",
        "        out = self.batchNorm3(out)\n",
        "        out = self.leakyrelu3(out)\n",
        "        #print(out.shape)\n",
        "\n",
        "        out = self.conv4(out)\n",
        "        out = self.sigmoid(out)\n",
        "        #print(out.shape)\n",
        "\n",
        "        # flatten the output\n",
        "        out = out.view(-1)\n",
        "        if verbose:\n",
        "            print(\"Discriminator output shape:\", out.shape)\n",
        "        return out"
      ]
    },
    {
      "cell_type": "code",
      "execution_count": 66,
      "metadata": {
        "deletable": false,
        "editable": false,
        "nbgrader": {
          "cell_type": "code",
          "checksum": "dc353b6ac051abe22c8f022a7860c348",
          "grade": false,
          "grade_id": "cell-cef1ff3c74404557",
          "locked": true,
          "schema_version": 3,
          "solution": false,
          "task": false
        },
        "colab": {
          "base_uri": "https://localhost:8080/"
        },
        "id": "TBmxczw5lgzW",
        "outputId": "64a5d05d-a3fd-4f9b-92d7-a231de7e0ead"
      },
      "outputs": [
        {
          "output_type": "stream",
          "name": "stdout",
          "text": [
            "Discriminator output shape: torch.Size([32])\n",
            "Success\n"
          ]
        }
      ],
      "source": [
        "def test_Discriminator_shapes():\n",
        "    batch_size = 32\n",
        "    netD = Discriminator(nc=1, ndf=64)\n",
        "\n",
        "    images = torch.ones(32, 1, 28, 28)\n",
        "    out = netD(images, verbose=True)\n",
        "\n",
        "    assert out.shape == torch.Size([batch_size]), f\"Bad shape of out: out.shape={out.shape}\"\n",
        "    print('Success')\n",
        "\n",
        "test_Discriminator_shapes()"
      ]
    },
    {
      "cell_type": "markdown",
      "metadata": {
        "deletable": false,
        "editable": false,
        "nbgrader": {
          "cell_type": "markdown",
          "checksum": "6523502226d744a59c86163eee57e75a",
          "grade": false,
          "grade_id": "cell-51681d3003e07996",
          "locked": true,
          "schema_version": 3,
          "solution": false,
          "task": false
        },
        "id": "N1sEi-BflgzW"
      },
      "source": [
        "### Loss for training the discriminator\n",
        "\n",
        "The discriminator is trained to solve a binary classification problem: to separate real data from generated samples. Thus, the output of the discriminator should be a scalar between 0 and 1.\n",
        "\n",
        "You need to implement the loss function used to train the discriminator. The dicriminator uses the `binary_cross_entropy` loss using `real_label` as targets for real samples and `fake_label` as targets for generated samples.\n",
        "\n",
        "**IMPORTANT: Please use the `mean` reduction when computing the loss!**"
      ]
    },
    {
      "cell_type": "code",
      "execution_count": 67,
      "metadata": {
        "deletable": false,
        "nbgrader": {
          "cell_type": "code",
          "checksum": "440db54740e04d60aa69cd1c134691dc",
          "grade": false,
          "grade_id": "discriminator_loss",
          "locked": false,
          "schema_version": 3,
          "solution": true,
          "task": false
        },
        "id": "fupROwp4lgzW"
      },
      "outputs": [],
      "source": [
        "def discriminator_loss(netD, real_images, fake_images):\n",
        "    \"\"\"Loss computed to train the GAN discriminator.\n",
        "\n",
        "    Args:\n",
        "      netD: The discriminator.\n",
        "      real_images of shape (batch_size, nc, 28, 28): Real images.\n",
        "      fake_images of shape (batch_size, nc, 28, 28): Fake images produces by the generator.\n",
        "\n",
        "    Returns:\n",
        "      d_loss_real: The mean of the binary cross-entropy losses computed on the real_images.\n",
        "      D_real: Mean output of the discriminator for real_images. This is useful for tracking convergence.\n",
        "      d_loss_fake: The mean of the binary cross-entropy losses computed on the fake_images.\n",
        "      D_fake: Mean output of the discriminator for fake_images. This is useful for tracking convergence.\n",
        "\n",
        "    Notes:\n",
        "    - Make sure that you process on the device given by `fake_images.device`.\n",
        "    - Use values of global variables `real_label`, `fake_label` to produce the right targets.\n",
        "    \"\"\"\n",
        "    # YOUR CODE HERE\n",
        "    # raise NotImplementedError()\n",
        "    # Ensure that the target tensors have the same device as the input images\n",
        "    device = fake_images.device  # Get the device of the input tensors\n",
        "    \n",
        "    # Transfer input tensors to the same device as the discriminator\n",
        "    real_images = real_images.to(device)\n",
        "    fake_images = fake_images.to(device)\n",
        "    \n",
        "    # Create the target labels for real and fake images\n",
        "    real_target = torch.full((real_images.size(0),), real_label, device=device)\n",
        "    fake_target = torch.full((fake_images.size(0),), fake_label, device=device)\n",
        "    \n",
        "    # Compute the discriminator outputs for real and fake images\n",
        "    real_output = netD(real_images).view(-1)\n",
        "    fake_output = netD(fake_images).view(-1)\n",
        "    \n",
        "    # Compute the binary cross-entropy losses\n",
        "    d_loss_real = nn.BCELoss()(real_output, real_target)\n",
        "    d_loss_fake = nn.BCELoss()(fake_output, fake_target)\n",
        "    \n",
        "    # Compute the mean discriminator outputs for real and fake images\n",
        "    D_real = real_output.mean().item()\n",
        "    D_fake = fake_output.mean().item()\n",
        "    \n",
        "    return d_loss_real, D_real, d_loss_fake, D_fake\n"
      ]
    },
    {
      "cell_type": "code",
      "execution_count": 68,
      "metadata": {
        "deletable": false,
        "editable": false,
        "nbgrader": {
          "cell_type": "code",
          "checksum": "bd4029769ed532dff0b85dce6a77184c",
          "grade": true,
          "grade_id": "cell-461f1d2ee56f035d",
          "locked": true,
          "points": 0,
          "schema_version": 3,
          "solution": false,
          "task": false
        },
        "colab": {
          "base_uri": "https://localhost:8080/"
        },
        "id": "OytTatA9lgzX",
        "outputId": "93938fc2-6988-4209-ca32-b19bf91769ee"
      },
      "outputs": [
        {
          "output_type": "stream",
          "name": "stdout",
          "text": [
            "Success\n"
          ]
        }
      ],
      "source": [
        "def test_discriminator_loss():\n",
        "    netD = Discriminator(nc=1, ndf=64)\n",
        "    real_images = fake_images = torch.ones(32, 1, 28, 28)\n",
        "\n",
        "    d_loss_real, D_real, d_loss_fake, D_fake = discriminator_loss(netD, real_images, fake_images)\n",
        "    assert d_loss_real.shape == torch.Size([]), \"d_loss_real should be a scalar tensor.\"\n",
        "    assert 0 < D_real < 1, \"D_real should be a scalar between 0 and 1.\"\n",
        "    assert d_loss_fake.shape == torch.Size([]), \"d_loss_fake should be a scalar tensor.\"\n",
        "    assert 0 < D_fake < 1, \"D_fake should be a scalar between 0 and 1.\"\n",
        "    print('Success')\n",
        "\n",
        "test_discriminator_loss()"
      ]
    },
    {
      "cell_type": "code",
      "execution_count": 69,
      "metadata": {
        "deletable": false,
        "editable": false,
        "nbgrader": {
          "cell_type": "code",
          "checksum": "16bcb224c424822aff81026bb2c951b6",
          "grade": true,
          "grade_id": "test_Discriminator_loss",
          "locked": true,
          "points": 1,
          "schema_version": 3,
          "solution": false,
          "task": false
        },
        "colab": {
          "base_uri": "https://localhost:8080/"
        },
        "id": "YqwiyGqNlgzX",
        "outputId": "12115f21-b2e1-4225-d718-bd3ac1c2beb6"
      },
      "outputs": [
        {
          "output_type": "stream",
          "name": "stdout",
          "text": [
            "d_loss_real: tensor(0.3635)\n",
            "expected d_loss_real: tensor(0.3635)\n",
            "D_real: 0.699999988079071\n",
            "expected D_real: 0.699999988079071\n",
            "d_loss_fake: 0.22839301824569702\n",
            "expected d_loss_fake: tensor(0.2284)\n",
            "D_fake: 0.20000000298023224\n",
            "expected D_fake: 0.20000000298023224\n",
            "Success\n"
          ]
        }
      ],
      "source": [
        "# This cell tests discriminator_loss()\n",
        "def test_discriminator_loss(discriminator_loss):\n",
        "    with torch.no_grad():\n",
        "        class MyDiscriminator(nn.Module):\n",
        "            def forward(self, x):\n",
        "                if (x == 0).all():\n",
        "                    return torch.Tensor([0.1, 0.2, 0.3])\n",
        "                elif (x == 1).all():\n",
        "                    return torch.Tensor([0.6, 0.7, 0.8])\n",
        "        \n",
        "        netD = MyDiscriminator()\n",
        "\n",
        "        fake_images = torch.zeros(3, 1, 28, 28)\n",
        "        real_images = torch.ones(3, 1, 28, 28)\n",
        "        d_loss_real, D_real, d_loss_fake, D_fake = discriminator_loss(netD, real_images, fake_images)\n",
        "        expected = torch.tensor(0.36354804039001465)\n",
        "        print('d_loss_real:', d_loss_real)\n",
        "        print('expected d_loss_real:', expected)\n",
        "        assert torch.allclose(d_loss_real, expected), \"d_loss_real does not match expected value.\"\n",
        "        \n",
        "        expected = 0.699999988079071\n",
        "        print('D_real:', D_real)\n",
        "        print('expected D_real:', expected)\n",
        "        assert np.allclose(D_real, expected), \"D_real does not match expected value.\"\n",
        "        \n",
        "        expected = torch.tensor(0.22839301824569702)\n",
        "        print('d_loss_fake:', d_loss_fake.item())\n",
        "        print('expected d_loss_fake:', expected)\n",
        "        assert np.allclose(d_loss_fake, expected), \"d_loss_fake does not match expected value.\"\n",
        "\n",
        "        expected = 0.20000000298023224\n",
        "        print('D_fake:', D_fake)\n",
        "        print('expected D_fake:', expected)\n",
        "        assert np.allclose(D_fake, expected), \"D_fake does not match expected value.\"\n",
        "        \n",
        "    print('Success')\n",
        "    \n",
        "test_discriminator_loss(discriminator_loss)"
      ]
    },
    {
      "cell_type": "markdown",
      "metadata": {
        "deletable": false,
        "editable": false,
        "nbgrader": {
          "cell_type": "markdown",
          "checksum": "d2ce91d7e84c593bcd3eb8568b086cea",
          "grade": false,
          "grade_id": "cell-32a46a6724373e1b",
          "locked": true,
          "schema_version": 3,
          "solution": false,
          "task": false
        },
        "id": "EaelKpKulgzX"
      },
      "source": [
        "# Evaluation of quality of generated samples\n",
        "\n",
        "We would like to evaluate the quality of the generated samples using some metric. Designing such a metric is not a trivial task. The most popular metric for assessing the quality of generated images is Fréchet Inception Distance (FID) [(Heusel et al., 2017)](https://arxiv.org/abs/1706.08500). The FID score compares the distribution of intermediate activations when real or generated samples are passed through an Inception network. The Inception network is a specific type of a convolutional neural network that is pre-trained on image classification tasks.\n",
        "\n",
        "In this exercise, we do not generate natural images and therefore we do not use the Inception network to compute the activations. Instead, we use a simple convolutional neural network trained to classify MNIST digits. Therefore, we call the metric FD score (dropping the word *Inception*)."
      ]
    },
    {
      "cell_type": "code",
      "execution_count": 70,
      "metadata": {
        "deletable": false,
        "editable": false,
        "nbgrader": {
          "cell_type": "code",
          "checksum": "f93c4e446fa89f08395d80db52bae206",
          "grade": false,
          "grade_id": "cell-7292f1f13a3359dd",
          "locked": true,
          "schema_version": 3,
          "solution": false,
          "task": false
        },
        "colab": {
          "base_uri": "https://localhost:8080/"
        },
        "id": "_DidTdfnlgzX",
        "outputId": "2478bc2a-255f-494a-f09c-35a8b536347f"
      },
      "outputs": [
        {
          "output_type": "execute_result",
          "data": {
            "text/plain": [
              "FDScore(\n",
              "  (net): Classifier(\n",
              "    (conv1): Conv2d(1, 16, kernel_size=(5, 5), stride=(1, 1))\n",
              "    (pool): MaxPool2d(kernel_size=2, stride=2, padding=0, dilation=1, ceil_mode=False)\n",
              "    (conv2): Conv2d(16, 32, kernel_size=(5, 5), stride=(1, 1))\n",
              "    (fc1): Linear(in_features=512, out_features=120, bias=True)\n",
              "    (fc2): Linear(in_features=120, out_features=84, bias=True)\n",
              "    (fc3): Linear(in_features=84, out_features=10, bias=True)\n",
              "  )\n",
              ")"
            ]
          },
          "metadata": {},
          "execution_count": 70
        }
      ],
      "source": [
        "import fd\n",
        "\n",
        "# Load an FD scorer pre-trained on MNIST\n",
        "fdscore = fd.FDScore.pretrained()\n",
        "fdscore.to(device)"
      ]
    },
    {
      "cell_type": "code",
      "execution_count": 71,
      "metadata": {
        "deletable": false,
        "editable": false,
        "nbgrader": {
          "cell_type": "code",
          "checksum": "fbe7284b80697efad494a5b4e711827f",
          "grade": false,
          "grade_id": "cell-1b6b5eca75e178fe",
          "locked": true,
          "schema_version": 3,
          "solution": false,
          "task": false
        },
        "colab": {
          "base_uri": "https://localhost:8080/"
        },
        "id": "QDZRZbGKlgzY",
        "outputId": "2ef324cf-809c-45fa-f8c8-cc9030ec34f3"
      },
      "outputs": [
        {
          "output_type": "stream",
          "name": "stdout",
          "text": [
            "Score on Gaussian noise: 516.53090\n"
          ]
        }
      ],
      "source": [
        "# Score on uniform noise in the range [-1, 1]\n",
        "samples = torch.rand(10000, 1, 28, 28).to(device)\n",
        "samples = (samples - 0.5) * 2\n",
        "score = fdscore.calculate(samples)\n",
        "print(f'Score on Gaussian noise: {score:.5f}')"
      ]
    },
    {
      "cell_type": "code",
      "execution_count": 72,
      "metadata": {
        "deletable": false,
        "editable": false,
        "nbgrader": {
          "cell_type": "code",
          "checksum": "9998ffb799885a60661494c991679147",
          "grade": false,
          "grade_id": "cell-bebdfbe98e8010dc",
          "locked": true,
          "schema_version": 3,
          "solution": false,
          "task": false
        },
        "colab": {
          "base_uri": "https://localhost:8080/"
        },
        "id": "eHRMU7lIlgzY",
        "outputId": "64c9fa6a-1851-492c-e191-15f51cb02dc1"
      },
      "outputs": [
        {
          "output_type": "stream",
          "name": "stdout",
          "text": [
            "Score on MNIST: 0.80417\n"
          ]
        }
      ],
      "source": [
        "# Score on real MNIST digits\n",
        "samples = torch.stack([testset[i][0] for i in range(10000)]).to(device)\n",
        "score = fdscore.calculate(samples)\n",
        "print(f'Score on MNIST: {score:.5f}')"
      ]
    },
    {
      "cell_type": "markdown",
      "metadata": {
        "deletable": false,
        "editable": false,
        "nbgrader": {
          "cell_type": "markdown",
          "checksum": "1ac85d9d8c5eba3ee99bb50564ae4f1d",
          "grade": false,
          "grade_id": "cell-619a00b55e2632b3",
          "locked": true,
          "schema_version": 3,
          "solution": false,
          "task": false
        },
        "id": "xRCBfteTlgzY"
      },
      "source": [
        "# Training GANs\n",
        "\n",
        "We will now train a GAN. To assess the quality of the generated samples, we will use a simple scorer loaded in the cell below."
      ]
    },
    {
      "cell_type": "code",
      "execution_count": 73,
      "metadata": {
        "deletable": false,
        "editable": false,
        "nbgrader": {
          "cell_type": "code",
          "checksum": "76a80ba0da69e3d29ac875b23c42ba17",
          "grade": false,
          "grade_id": "cell-f306dde125361541",
          "locked": true,
          "schema_version": 3,
          "solution": false,
          "task": false
        },
        "id": "jHUu3czFlgzY"
      },
      "outputs": [],
      "source": [
        "# Create the network\n",
        "nz = 10\n",
        "netG = Generator(nz=nz, ngf=64, nc=1)\n",
        "netD = Discriminator(nc=1, ndf=64)\n",
        "\n",
        "netD = netD.to(device)\n",
        "netG = netG.to(device)"
      ]
    },
    {
      "cell_type": "markdown",
      "metadata": {
        "deletable": false,
        "editable": false,
        "nbgrader": {
          "cell_type": "markdown",
          "checksum": "d410139850224f614a85ff45648702ad",
          "grade": false,
          "grade_id": "cell-e5478e8a7afe65cc",
          "locked": true,
          "schema_version": 3,
          "solution": false,
          "task": false
        },
        "id": "T_0H0awZlgzY"
      },
      "source": [
        "### Training loop\n",
        "\n",
        "Implement the training loop in the cell below. The recommended hyperparameters:\n",
        "* Optimizer of the discriminator: Adam with learning rate 0.0002 and `betas=(0.5, 0.999)`\n",
        "* Optimizer of the generator:     Adam with learning rate 0.0002 and `betas=(0.5, 0.999)`\n",
        "\n",
        "Hints:\n",
        "- We will use the FD score to assess the quality of the generated samples. Your GAN should have the FD score below 10. This level can be reached after 5 epochs. Note that the score is stochastic and it can fluctuate during training. At convergence, the FD score can fluctuate in the range [3, 9].\n",
        "- You can use the following code to track the training progress. The code plots some generated images and computes the score that we use to evaluate the trained model. Note that the images fed to the scorer need to be normalized to be in the range [-1, 1].\n",
        "```python\n",
        "with torch.no_grad():\n",
        "    # Plot generated images\n",
        "    z = torch.randn(144, nz, 1, 1, device=device)\n",
        "    samples = netG(z)\n",
        "    tools.show_images(samples, cmap='binary', ncol=12)\n",
        "    \n",
        "    # Compute score\n",
        "    z = torch.randn(1000, nz, 1, 1, device=device)\n",
        "    samples = netG(z)\n",
        "    score = fdscore.calculate(samples)\n",
        "```\n",
        "- You can track `D_real` and `D_fake` returned by function `discriminator_loss()`. When it is hard for the discriminator to separate real and fake images, their values are close to 0.5."
      ]
    },
    {
      "cell_type": "code",
      "execution_count": 78,
      "metadata": {
        "deletable": false,
        "nbgrader": {
          "cell_type": "code",
          "checksum": "ae914389933e3986497ab27451391731",
          "grade": false,
          "grade_id": "training_loop",
          "locked": false,
          "schema_version": 3,
          "solution": true,
          "task": false
        },
        "colab": {
          "base_uri": "https://localhost:8080/"
        },
        "id": "FbmjvtRLlgzZ",
        "outputId": "fee7bee8-bd9b-4e12-cd06-812069529e56"
      },
      "outputs": [
        {
          "output_type": "stream",
          "name": "stdout",
          "text": [
            "Epoch 1\n",
            "Discriminator Loss: D_real=0.8176, D_fake=0.3537\n",
            "Generator Loss: 2.5330\n",
            "FD Score: 5.5736\n",
            "Epoch 2\n",
            "Discriminator Loss: D_real=0.7074, D_fake=0.2263\n",
            "Generator Loss: 2.2073\n",
            "FD Score: 6.2269\n",
            "Epoch 3\n",
            "Discriminator Loss: D_real=0.8323, D_fake=0.2520\n",
            "Generator Loss: 2.7579\n",
            "FD Score: 5.3945\n",
            "Epoch 4\n",
            "Discriminator Loss: D_real=0.9648, D_fake=0.6601\n",
            "Generator Loss: 2.4881\n",
            "FD Score: 5.5144\n",
            "Epoch 5\n",
            "Discriminator Loss: D_real=0.5316, D_fake=0.0644\n",
            "Generator Loss: 1.5287\n",
            "FD Score: 5.6581\n"
          ]
        }
      ],
      "source": [
        "import torch.optim as optim\n",
        "\n",
        "if not skip_training:\n",
        "    # YOUR CODE HERE\n",
        "    # raise NotImplementedError()\n",
        "    # Define optimizers for the discriminator and generator\n",
        "    optimizerD = optim.Adam(netD.parameters(), lr=0.0002, betas=(0.5, 0.999))\n",
        "    optimizerG = optim.Adam(netG.parameters(), lr=0.0002, betas=(0.5, 0.999))\n",
        "\n",
        "    # Your GAN should have the FD score below 10. This level can be reached after 5 epochs. \n",
        "    # Note that the score is stochastic and it can fluctuate during training. At convergence, \n",
        "    # the FD score can fluctuate in the range [3, 9].\n",
        "    for epoch in range(5):\n",
        "        for i, (real_images, _) in enumerate(dataloader):\n",
        "            ############################\n",
        "            # Update Discriminator network\n",
        "            ###########################\n",
        "            netD.zero_grad()\n",
        "            \n",
        "            # Generate fake images\n",
        "            batch_size = real_images.size(0)\n",
        "            noise = torch.randn(batch_size, nz, 1, 1, device=device)\n",
        "            fake_images = netG(noise)\n",
        "            \n",
        "            # Compute discriminator loss\n",
        "            d_loss_real, D_real, d_loss_fake, D_fake = discriminator_loss(netD, real_images, fake_images)\n",
        "            d_loss = d_loss_real + d_loss_fake\n",
        "            \n",
        "            # Update discriminator\n",
        "            d_loss.backward()\n",
        "            optimizerD.step()\n",
        "            \n",
        "            ############################\n",
        "            # Update Generator network\n",
        "            ###########################\n",
        "            netG.zero_grad()\n",
        "            \n",
        "            # Generate fake images\n",
        "            noise = torch.randn(batch_size, nz, 1, 1, device=device)\n",
        "            fake_images = netG(noise)\n",
        "            \n",
        "            # Compute generator loss\n",
        "            g_loss = generator_loss(netD, fake_images)\n",
        "            \n",
        "            # Update generator\n",
        "            g_loss.backward()\n",
        "            optimizerG.step()\n",
        "            \n",
        "        ############################\n",
        "        # Print training progress\n",
        "        ###########################\n",
        "      \n",
        "        print(f\"Epoch {epoch+1}\")\n",
        "        print(f\"Discriminator Loss: D_real={D_real:.4f}, D_fake={D_fake:.4f}\")\n",
        "        print(f\"Generator Loss: {g_loss:.4f}\")\n",
        "                \n",
        "        with torch.no_grad():\n",
        "            # Generate and plot images\n",
        "            z = torch.randn(144, nz, 1, 1, device=device)\n",
        "            samples = netG(z)\n",
        "            # Normalize pixel values to the range [-1, 1]\n",
        "            #samples = (samples - 0.5) / 0.5\n",
        "            \n",
        "            # Compute and print the FD score\n",
        "            z = torch.randn(1000, nz, 1, 1, device=device)\n",
        "            samples = netG(z)\n",
        "            # Normalize pixel values to the range [-1, 1]\n",
        "            #samples = (samples - 0.5) / 0.5\n",
        "            score = fdscore.calculate(samples)\n",
        "            print(f\"FD Score: {score:.4f}\")"
      ]
    },
    {
      "cell_type": "code",
      "execution_count": 79,
      "metadata": {
        "colab": {
          "base_uri": "https://localhost:8080/"
        },
        "id": "oBIOSYgUlgzZ",
        "outputId": "4570a2a0-a144-4e94-fce6-ffd6018b3e0a"
      },
      "outputs": [
        {
          "output_type": "stream",
          "name": "stdout",
          "text": [
            "Model saved to 1_dcgan_g.pth.\n",
            "Model saved to 1_dcgan_d.pth.\n"
          ]
        }
      ],
      "source": [
        "# Save the model to disk (the pth-files will be submitted automatically together with your notebook)\n",
        "# Set confirm=False if you do not want to be asked for confirmation before saving.\n",
        "if not skip_training:\n",
        "    tools.save_model(netG, '1_dcgan_g.pth', confirm=False)\n",
        "    tools.save_model(netD, '1_dcgan_d.pth', confirm=False)"
      ]
    },
    {
      "cell_type": "code",
      "execution_count": 80,
      "metadata": {
        "deletable": false,
        "editable": false,
        "nbgrader": {
          "cell_type": "code",
          "checksum": "40cc12a6e35bdd507142fe555e046e84",
          "grade": false,
          "grade_id": "cell-d7405a9598633d45",
          "locked": true,
          "schema_version": 3,
          "solution": false,
          "task": false
        },
        "id": "eqWkkFcIlgzZ"
      },
      "outputs": [],
      "source": [
        "if skip_training:\n",
        "    nz = 10\n",
        "    netG = Generator(nz=nz, ngf=64, nc=1)\n",
        "    netD = Discriminator(nc=1, ndf=64)\n",
        "\n",
        "    tools.load_model(netG, '1_dcgan_g.pth', device)\n",
        "    tools.load_model(netD, '1_dcgan_d.pth', device)"
      ]
    },
    {
      "cell_type": "markdown",
      "metadata": {
        "deletable": false,
        "editable": false,
        "nbgrader": {
          "cell_type": "markdown",
          "checksum": "96dd9d49b0c6c0379365d8a52beff292",
          "grade": false,
          "grade_id": "cell-b46c56d8c838b7b3",
          "locked": true,
          "schema_version": 3,
          "solution": false,
          "task": false
        },
        "id": "ZSsJbkgnlgza"
      },
      "source": [
        "## GAN evaluation"
      ]
    },
    {
      "cell_type": "code",
      "execution_count": 81,
      "metadata": {
        "deletable": false,
        "editable": false,
        "nbgrader": {
          "cell_type": "code",
          "checksum": "64ebe204fd57f430492aebfbc3cacd89",
          "grade": true,
          "grade_id": "cell-e95aa3b7f714e6f9",
          "locked": true,
          "points": 0,
          "schema_version": 3,
          "solution": false,
          "task": false
        },
        "colab": {
          "base_uri": "https://localhost:8080/",
          "height": 653
        },
        "id": "D3UcqHc8lgza",
        "outputId": "a76c7df0-63ee-46b8-cf9c-a6f8922145bf"
      },
      "outputs": [
        {
          "output_type": "display_data",
          "data": {
            "text/plain": [
              "<Figure size 800x800 with 1 Axes>"
            ],
            "image/png": "[encoded data removed]"
          },
          "metadata": {}
        }
      ],
      "source": [
        "# Save generated samples (the pth-files will be submitted automatically together with your notebook)\n",
        "if not skip_training:\n",
        "    with torch.no_grad():\n",
        "        z = torch.randn(144, nz, 1, 1, device=device)\n",
        "        samples = netG(z)\n",
        "        torch.save(samples, '1_dcgan_samples.pth')\n",
        "else:\n",
        "    samples = torch.load('1_dcgan_samples.pth', map_location=lambda storage, loc: storage)\n",
        "\n",
        "tools.show_images(samples, ncol=12, cmap='binary')"
      ]
    },
    {
      "cell_type": "code",
      "execution_count": 82,
      "metadata": {
        "deletable": false,
        "editable": false,
        "nbgrader": {
          "cell_type": "code",
          "checksum": "f0725ecbcc1818869f21c22bcb58b042",
          "grade": true,
          "grade_id": "test_quality",
          "locked": true,
          "points": 2,
          "schema_version": 3,
          "solution": false,
          "task": false
        },
        "colab": {
          "base_uri": "https://localhost:8080/",
          "height": 688
        },
        "id": "PGrJex90lgza",
        "outputId": "8c01ba0c-b575-45a6-fa5d-ba1930a98309"
      },
      "outputs": [
        {
          "output_type": "display_data",
          "data": {
            "text/plain": [
              "<Figure size 800x800 with 1 Axes>"
            ],
            "image/png": "[encoded data removed]"
          },
          "metadata": {}
        },
        {
          "output_type": "stream",
          "name": "stdout",
          "text": [
            "FD score: 4.83965\n",
            "Success\n"
          ]
        }
      ],
      "source": [
        "# Compute the FD score\n",
        "torch.manual_seed(0)\n",
        "with torch.no_grad():\n",
        "    z = torch.randn(1000, nz, 1, 1, device=device)\n",
        "    samples = netG(z)\n",
        "    tools.show_images(samples[:144], ncol=12, cmap='binary')\n",
        "    score = fdscore.calculate(samples)\n",
        "\n",
        "print(f'FD score: {score:.5f}')\n",
        "assert score <= 10, \"Too high FD score.\"\n",
        "print('Success')"
      ]
    },
    {
      "cell_type": "code",
      "execution_count": 83,
      "metadata": {
        "deletable": false,
        "editable": false,
        "nbgrader": {
          "cell_type": "code",
          "checksum": "ea9b31e0dfd137aa56d4b39623cf4b6c",
          "grade": true,
          "grade_id": "cell-23fa22d31962c3b9",
          "locked": true,
          "points": 0,
          "schema_version": 3,
          "solution": false,
          "task": false
        },
        "id": "aQDPKGVElgza"
      },
      "outputs": [],
      "source": [
        "# This cell is used for grading"
      ]
    },
    {
      "cell_type": "markdown",
      "metadata": {
        "deletable": false,
        "editable": false,
        "nbgrader": {
          "cell_type": "markdown",
          "checksum": "14beeebf2cbd1a52db5c5d5ce6551fe4",
          "grade": false,
          "grade_id": "cell-37c0f19da39c5c9e",
          "locked": true,
          "schema_version": 3,
          "solution": false,
          "task": false
        },
        "id": "y80UI4irlgzq"
      },
      "source": [
        "<div class=\"alert alert-block alert-info\">\n",
        "<b>Conclusion</b>\n",
        "</div>\n",
        "\n",
        "In this notebook, we learned how to train a simple GAN model for generating images."
      ]
    }
  ],
  "metadata": {
    "kernelspec": {
      "display_name": "Python 3",
      "language": "python",
      "name": "python3"
    },
    "language_info": {
      "codemirror_mode": {
        "name": "ipython",
        "version": 3
      },
      "file_extension": ".py",
      "mimetype": "text/x-python",
      "name": "python",
      "nbconvert_exporter": "python",
      "pygments_lexer": "ipython3",
      "version": "3.10.5"
    },
    "varInspector": {
      "cols": {
        "lenName": 16,
        "lenType": 16,
        "lenVar": 40
      },
      "kernels_config": {
        "python": {
          "delete_cmd_postfix": "",
          "delete_cmd_prefix": "del ",
          "library": "var_list.py",
          "varRefreshCmd": "print(var_dic_list())"
        },
        "r": {
          "delete_cmd_postfix": ") ",
          "delete_cmd_prefix": "rm(",
          "library": "var_list.r",
          "varRefreshCmd": "cat(var_dic_list()) "
        }
      },
      "types_to_exclude": [
        "module",
        "function",
        "builtin_function_or_method",
        "instance",
        "_Feature"
      ],
      "window_display": false
    },
    "colab": {
      "provenance": [],
      "gpuType": "T4"
    },
    "accelerator": "GPU",
    "gpuClass": "standard"
  },
  "nbformat": 4,
  "nbformat_minor": 0
}