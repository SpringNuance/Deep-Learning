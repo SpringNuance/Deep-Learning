{
 "cells": [
  {
   "cell_type": "code",
   "execution_count": null,
   "metadata": {
    "nbgrader": {
     "grade": false,
     "grade_id": "cell-2298c977f4deff2b",
     "locked": true,
     "points": 10,
     "schema_version": 10,
     "solution": false,
     "task": true
    }
   },
   "outputs": [],
   "source": [
    "# this has metadata which has a nbgrader schema that is too new!"
   ]
  }
 ],
 "metadata": {
  "kernelspec": {
   "display_name": "Python",
   "language": "python",
   "name": "python"
  }
 },
 "nbformat": 4,
 "nbformat_minor": 2
}
