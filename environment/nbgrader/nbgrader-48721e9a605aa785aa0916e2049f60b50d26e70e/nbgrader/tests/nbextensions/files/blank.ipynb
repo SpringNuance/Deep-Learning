{
 "cells": [
  {
   "cell_type": "code",
   "execution_count": 1,
   "metadata": {
    "collapsed": false
   },
   "outputs": [
    {
     "name": "stdout",
     "output_type": "stream",
     "text": [
      "this is a cell\n"
     ]
    }
   ],
   "source": [
    "print(\"this is a code cell\")"
   ]
  }
 ],
 "metadata": {
  "kernelspec": {
   "display_name": "Python 2",
   "language": "python",
   "name": "python2"
  }
 },
 "nbformat": 4,
 "nbformat_minor": 0
}
